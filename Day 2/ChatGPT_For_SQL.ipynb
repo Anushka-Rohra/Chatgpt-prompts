{
  "nbformat": 4,
  "nbformat_minor": 0,
  "metadata": {
    "colab": {
      "provenance": [],
      "toc_visible": true
    },
    "kernelspec": {
      "name": "python3",
      "display_name": "Python 3"
    },
    "language_info": {
      "name": "python"
    }
  },
  "cells": [
    {
      "cell_type": "markdown",
      "source": [
        "# GPT-Models For SQL & Python"
      ],
      "metadata": {
        "id": "OhQF52soNRam"
      }
    },
    {
      "cell_type": "markdown",
      "source": [
        "## Introduction\n",
        "\n",
        "**Learning Goals:**\n",
        "\n",
        "- Understand the scope of the notebook.\n",
        "- Familiarize yourself with what GPT models can do in the context of SQL and Python."
      ],
      "metadata": {
        "id": "UO1_yepy1I-L"
      }
    },
    {
      "cell_type": "markdown",
      "source": [
        "## Setting Up the Environment\n",
        "\n",
        "In this section, we'll import the required Python libraries and connect to a sample SQL database to prepare our environment for the tasks ahead."
      ],
      "metadata": {
        "id": "nO5qqwOFNuNZ"
      }
    },
    {
      "cell_type": "code",
      "execution_count": 1,
      "metadata": {
        "id": "PCUlzNVONPlR"
      },
      "outputs": [],
      "source": [
        "import sqlite3\n",
        "import pandas as pd\n",
        "\n",
        "# Connect to the database\n",
        "db_connection = sqlite3.connect('sample_warehouse.db')\n"
      ]
    },
    {
      "cell_type": "code",
      "source": [
        "pd.read_sql(sql = 'SELECT * FROM customers LIMIT 5',\n",
        "            con = db_connection)"
      ],
      "metadata": {
        "colab": {
          "base_uri": "https://localhost:8080/",
          "height": 204
        },
        "id": "Iqz-Xy-0OSOB",
        "outputId": "7586cf26-8642-4cb9-e7ad-625aaece6409"
      },
      "execution_count": 2,
      "outputs": [
        {
          "output_type": "execute_result",
          "data": {
            "text/plain": [
              "   customer_id first_name last_name                         email\n",
              "0            1       John       Doe          john.doe@example.com\n",
              "1            2       Jane       Doe          jane.doe@example.com\n",
              "2            3      Emily     Smith       emily.smith@example.com\n",
              "3            4    Michael   Johnson   michael.johnson@example.com\n",
              "4            5      Corey      Lara  acummings@thompson-bruce.biz"
            ],
            "text/html": [
              "\n",
              "  <div id=\"df-89e66bc2-e27f-4e0e-ad78-6750c452a90d\" class=\"colab-df-container\">\n",
              "    <div>\n",
              "<style scoped>\n",
              "    .dataframe tbody tr th:only-of-type {\n",
              "        vertical-align: middle;\n",
              "    }\n",
              "\n",
              "    .dataframe tbody tr th {\n",
              "        vertical-align: top;\n",
              "    }\n",
              "\n",
              "    .dataframe thead th {\n",
              "        text-align: right;\n",
              "    }\n",
              "</style>\n",
              "<table border=\"1\" class=\"dataframe\">\n",
              "  <thead>\n",
              "    <tr style=\"text-align: right;\">\n",
              "      <th></th>\n",
              "      <th>customer_id</th>\n",
              "      <th>first_name</th>\n",
              "      <th>last_name</th>\n",
              "      <th>email</th>\n",
              "    </tr>\n",
              "  </thead>\n",
              "  <tbody>\n",
              "    <tr>\n",
              "      <th>0</th>\n",
              "      <td>1</td>\n",
              "      <td>John</td>\n",
              "      <td>Doe</td>\n",
              "      <td>john.doe@example.com</td>\n",
              "    </tr>\n",
              "    <tr>\n",
              "      <th>1</th>\n",
              "      <td>2</td>\n",
              "      <td>Jane</td>\n",
              "      <td>Doe</td>\n",
              "      <td>jane.doe@example.com</td>\n",
              "    </tr>\n",
              "    <tr>\n",
              "      <th>2</th>\n",
              "      <td>3</td>\n",
              "      <td>Emily</td>\n",
              "      <td>Smith</td>\n",
              "      <td>emily.smith@example.com</td>\n",
              "    </tr>\n",
              "    <tr>\n",
              "      <th>3</th>\n",
              "      <td>4</td>\n",
              "      <td>Michael</td>\n",
              "      <td>Johnson</td>\n",
              "      <td>michael.johnson@example.com</td>\n",
              "    </tr>\n",
              "    <tr>\n",
              "      <th>4</th>\n",
              "      <td>5</td>\n",
              "      <td>Corey</td>\n",
              "      <td>Lara</td>\n",
              "      <td>acummings@thompson-bruce.biz</td>\n",
              "    </tr>\n",
              "  </tbody>\n",
              "</table>\n",
              "</div>\n",
              "    <div class=\"colab-df-buttons\">\n",
              "\n",
              "  <div class=\"colab-df-container\">\n",
              "    <button class=\"colab-df-convert\" onclick=\"convertToInteractive('df-89e66bc2-e27f-4e0e-ad78-6750c452a90d')\"\n",
              "            title=\"Convert this dataframe to an interactive table.\"\n",
              "            style=\"display:none;\">\n",
              "\n",
              "  <svg xmlns=\"http://www.w3.org/2000/svg\" height=\"24px\" viewBox=\"0 -960 960 960\">\n",
              "    <path d=\"M120-120v-720h720v720H120Zm60-500h600v-160H180v160Zm220 220h160v-160H400v160Zm0 220h160v-160H400v160ZM180-400h160v-160H180v160Zm440 0h160v-160H620v160ZM180-180h160v-160H180v160Zm440 0h160v-160H620v160Z\"/>\n",
              "  </svg>\n",
              "    </button>\n",
              "\n",
              "  <style>\n",
              "    .colab-df-container {\n",
              "      display:flex;\n",
              "      gap: 12px;\n",
              "    }\n",
              "\n",
              "    .colab-df-convert {\n",
              "      background-color: #E8F0FE;\n",
              "      border: none;\n",
              "      border-radius: 50%;\n",
              "      cursor: pointer;\n",
              "      display: none;\n",
              "      fill: #1967D2;\n",
              "      height: 32px;\n",
              "      padding: 0 0 0 0;\n",
              "      width: 32px;\n",
              "    }\n",
              "\n",
              "    .colab-df-convert:hover {\n",
              "      background-color: #E2EBFA;\n",
              "      box-shadow: 0px 1px 2px rgba(60, 64, 67, 0.3), 0px 1px 3px 1px rgba(60, 64, 67, 0.15);\n",
              "      fill: #174EA6;\n",
              "    }\n",
              "\n",
              "    .colab-df-buttons div {\n",
              "      margin-bottom: 4px;\n",
              "    }\n",
              "\n",
              "    [theme=dark] .colab-df-convert {\n",
              "      background-color: #3B4455;\n",
              "      fill: #D2E3FC;\n",
              "    }\n",
              "\n",
              "    [theme=dark] .colab-df-convert:hover {\n",
              "      background-color: #434B5C;\n",
              "      box-shadow: 0px 1px 3px 1px rgba(0, 0, 0, 0.15);\n",
              "      filter: drop-shadow(0px 1px 2px rgba(0, 0, 0, 0.3));\n",
              "      fill: #FFFFFF;\n",
              "    }\n",
              "  </style>\n",
              "\n",
              "    <script>\n",
              "      const buttonEl =\n",
              "        document.querySelector('#df-89e66bc2-e27f-4e0e-ad78-6750c452a90d button.colab-df-convert');\n",
              "      buttonEl.style.display =\n",
              "        google.colab.kernel.accessAllowed ? 'block' : 'none';\n",
              "\n",
              "      async function convertToInteractive(key) {\n",
              "        const element = document.querySelector('#df-89e66bc2-e27f-4e0e-ad78-6750c452a90d');\n",
              "        const dataTable =\n",
              "          await google.colab.kernel.invokeFunction('convertToInteractive',\n",
              "                                                    [key], {});\n",
              "        if (!dataTable) return;\n",
              "\n",
              "        const docLinkHtml = 'Like what you see? Visit the ' +\n",
              "          '<a target=\"_blank\" href=https://colab.research.google.com/notebooks/data_table.ipynb>data table notebook</a>'\n",
              "          + ' to learn more about interactive tables.';\n",
              "        element.innerHTML = '';\n",
              "        dataTable['output_type'] = 'display_data';\n",
              "        await google.colab.output.renderOutput(dataTable, element);\n",
              "        const docLink = document.createElement('div');\n",
              "        docLink.innerHTML = docLinkHtml;\n",
              "        element.appendChild(docLink);\n",
              "      }\n",
              "    </script>\n",
              "  </div>\n",
              "\n",
              "\n",
              "<div id=\"df-8770ddc0-4419-4bb6-8f28-f520ab79252a\">\n",
              "  <button class=\"colab-df-quickchart\" onclick=\"quickchart('df-8770ddc0-4419-4bb6-8f28-f520ab79252a')\"\n",
              "            title=\"Suggest charts.\"\n",
              "            style=\"display:none;\">\n",
              "\n",
              "<svg xmlns=\"http://www.w3.org/2000/svg\" height=\"24px\"viewBox=\"0 0 24 24\"\n",
              "     width=\"24px\">\n",
              "    <g>\n",
              "        <path d=\"M19 3H5c-1.1 0-2 .9-2 2v14c0 1.1.9 2 2 2h14c1.1 0 2-.9 2-2V5c0-1.1-.9-2-2-2zM9 17H7v-7h2v7zm4 0h-2V7h2v10zm4 0h-2v-4h2v4z\"/>\n",
              "    </g>\n",
              "</svg>\n",
              "  </button>\n",
              "\n",
              "<style>\n",
              "  .colab-df-quickchart {\n",
              "      --bg-color: #E8F0FE;\n",
              "      --fill-color: #1967D2;\n",
              "      --hover-bg-color: #E2EBFA;\n",
              "      --hover-fill-color: #174EA6;\n",
              "      --disabled-fill-color: #AAA;\n",
              "      --disabled-bg-color: #DDD;\n",
              "  }\n",
              "\n",
              "  [theme=dark] .colab-df-quickchart {\n",
              "      --bg-color: #3B4455;\n",
              "      --fill-color: #D2E3FC;\n",
              "      --hover-bg-color: #434B5C;\n",
              "      --hover-fill-color: #FFFFFF;\n",
              "      --disabled-bg-color: #3B4455;\n",
              "      --disabled-fill-color: #666;\n",
              "  }\n",
              "\n",
              "  .colab-df-quickchart {\n",
              "    background-color: var(--bg-color);\n",
              "    border: none;\n",
              "    border-radius: 50%;\n",
              "    cursor: pointer;\n",
              "    display: none;\n",
              "    fill: var(--fill-color);\n",
              "    height: 32px;\n",
              "    padding: 0;\n",
              "    width: 32px;\n",
              "  }\n",
              "\n",
              "  .colab-df-quickchart:hover {\n",
              "    background-color: var(--hover-bg-color);\n",
              "    box-shadow: 0 1px 2px rgba(60, 64, 67, 0.3), 0 1px 3px 1px rgba(60, 64, 67, 0.15);\n",
              "    fill: var(--button-hover-fill-color);\n",
              "  }\n",
              "\n",
              "  .colab-df-quickchart-complete:disabled,\n",
              "  .colab-df-quickchart-complete:disabled:hover {\n",
              "    background-color: var(--disabled-bg-color);\n",
              "    fill: var(--disabled-fill-color);\n",
              "    box-shadow: none;\n",
              "  }\n",
              "\n",
              "  .colab-df-spinner {\n",
              "    border: 2px solid var(--fill-color);\n",
              "    border-color: transparent;\n",
              "    border-bottom-color: var(--fill-color);\n",
              "    animation:\n",
              "      spin 1s steps(1) infinite;\n",
              "  }\n",
              "\n",
              "  @keyframes spin {\n",
              "    0% {\n",
              "      border-color: transparent;\n",
              "      border-bottom-color: var(--fill-color);\n",
              "      border-left-color: var(--fill-color);\n",
              "    }\n",
              "    20% {\n",
              "      border-color: transparent;\n",
              "      border-left-color: var(--fill-color);\n",
              "      border-top-color: var(--fill-color);\n",
              "    }\n",
              "    30% {\n",
              "      border-color: transparent;\n",
              "      border-left-color: var(--fill-color);\n",
              "      border-top-color: var(--fill-color);\n",
              "      border-right-color: var(--fill-color);\n",
              "    }\n",
              "    40% {\n",
              "      border-color: transparent;\n",
              "      border-right-color: var(--fill-color);\n",
              "      border-top-color: var(--fill-color);\n",
              "    }\n",
              "    60% {\n",
              "      border-color: transparent;\n",
              "      border-right-color: var(--fill-color);\n",
              "    }\n",
              "    80% {\n",
              "      border-color: transparent;\n",
              "      border-right-color: var(--fill-color);\n",
              "      border-bottom-color: var(--fill-color);\n",
              "    }\n",
              "    90% {\n",
              "      border-color: transparent;\n",
              "      border-bottom-color: var(--fill-color);\n",
              "    }\n",
              "  }\n",
              "</style>\n",
              "\n",
              "  <script>\n",
              "    async function quickchart(key) {\n",
              "      const quickchartButtonEl =\n",
              "        document.querySelector('#' + key + ' button');\n",
              "      quickchartButtonEl.disabled = true;  // To prevent multiple clicks.\n",
              "      quickchartButtonEl.classList.add('colab-df-spinner');\n",
              "      try {\n",
              "        const charts = await google.colab.kernel.invokeFunction(\n",
              "            'suggestCharts', [key], {});\n",
              "      } catch (error) {\n",
              "        console.error('Error during call to suggestCharts:', error);\n",
              "      }\n",
              "      quickchartButtonEl.classList.remove('colab-df-spinner');\n",
              "      quickchartButtonEl.classList.add('colab-df-quickchart-complete');\n",
              "    }\n",
              "    (() => {\n",
              "      let quickchartButtonEl =\n",
              "        document.querySelector('#df-8770ddc0-4419-4bb6-8f28-f520ab79252a button');\n",
              "      quickchartButtonEl.style.display =\n",
              "        google.colab.kernel.accessAllowed ? 'block' : 'none';\n",
              "    })();\n",
              "  </script>\n",
              "</div>\n",
              "    </div>\n",
              "  </div>\n"
            ]
          },
          "metadata": {},
          "execution_count": 2
        }
      ]
    },
    {
      "cell_type": "markdown",
      "source": [
        "## Exploring the Database"
      ],
      "metadata": {
        "id": "KfHIwPymPnGB"
      }
    },
    {
      "cell_type": "markdown",
      "source": [
        "Here, we'll explore the database's tables and their relationships. We'll use SQL queries to get a better understanding of the data structure."
      ],
      "metadata": {
        "id": "TkeVW-EG1vol"
      }
    },
    {
      "cell_type": "code",
      "source": [
        "# Connect to the SQLite database\n",
        "cursor = db_connection.cursor()\n",
        "\n",
        "# Query to get all tables\n",
        "cursor.execute(\"SELECT name FROM sqlite_master WHERE type='table';\")\n",
        "tables = cursor.fetchall()\n",
        "tables"
      ],
      "metadata": {
        "colab": {
          "base_uri": "https://localhost:8080/"
        },
        "id": "HgyYFhiaPmhj",
        "outputId": "91efdbb9-358e-47eb-a4e6-a4c6e252329a"
      },
      "execution_count": 3,
      "outputs": [
        {
          "output_type": "execute_result",
          "data": {
            "text/plain": [
              "[('customers',), ('sqlite_sequence',), ('products',), ('date',), ('sales',)]"
            ]
          },
          "metadata": {},
          "execution_count": 3
        }
      ]
    },
    {
      "cell_type": "code",
      "source": [
        "def list_tables_and_relationships(conn):\n",
        "    cursor = conn.cursor()\n",
        "\n",
        "    # Fetch all table names\n",
        "    cursor.execute(\"SELECT name FROM sqlite_master WHERE type='table';\")\n",
        "    tables = cursor.fetchall()\n",
        "\n",
        "    # Dictionary to store table relationships\n",
        "    relationships = {}\n",
        "\n",
        "    # Loop through tables to find their relationships\n",
        "    for table in tables:\n",
        "        table = table[0]\n",
        "        cursor.execute(f\"PRAGMA foreign_key_list({table});\")\n",
        "        foreign_keys = cursor.fetchall()\n",
        "\n",
        "        # Each item in foreign_keys is a tuple containing information about foreign keys.\n",
        "        # For example: (0, 'main', 'products', 'product_id', 'product_id', 'NO ACTION', 'NO ACTION', 'NONE')\n",
        "        relationships[table] = []\n",
        "        for fk in foreign_keys:\n",
        "            relationships[table].append({\n",
        "                'table': fk[2],\n",
        "                'from_column': fk[3],\n",
        "                'to_column': fk[4]\n",
        "            })\n",
        "\n",
        "    # Close the connection\n",
        "    conn.close()\n",
        "\n",
        "    return relationships\n",
        "\n",
        "def list_table_schemas(conn):\n",
        "    cursor = conn.cursor()\n",
        "\n",
        "    # Fetch all table names\n",
        "    cursor.execute(\"SELECT name FROM sqlite_master WHERE type='table';\")\n",
        "    tables = cursor.fetchall()\n",
        "\n",
        "    # Dictionary to store table schemas\n",
        "    schemas = {}\n",
        "\n",
        "    # Loop through tables to find their columns and types\n",
        "    for table in tables:\n",
        "        table = table[0]\n",
        "        cursor.execute(f\"PRAGMA table_info({table});\")\n",
        "        columns = cursor.fetchall()\n",
        "\n",
        "        # Each item in columns is a tuple containing information about the column.\n",
        "        schemas[table] = []\n",
        "        for column in columns:\n",
        "            schemas[table].append({\n",
        "                'name': column[1],\n",
        "                'type': column[2]\n",
        "            })\n",
        "\n",
        "    return schemas"
      ],
      "metadata": {
        "id": "v6BpGQkFP9Cp"
      },
      "execution_count": 4,
      "outputs": []
    },
    {
      "cell_type": "markdown",
      "source": [
        "## Use Case 1: ChatGPT for Code Explanation\n",
        "\n",
        "This section focuses on how ChatGPT can assist in explaining Python and SQL code.\n",
        "\n",
        "Copy & paste the following prompt into ChatGPT following by the code you want explanations for:\n",
        "\n",
        "```\n",
        "ROLE: You're a world-class Python tutor.\n",
        "TASK: Walk me through the Python code I give you. Explain it step by step. My Python level is Novice.\n",
        "FORMAT: Return a chunk of code, followed by an explanation appropriate to my experience level in non-technical language. Skip the pre and post text.\n",
        "\n",
        "Here's the code:\n",
        "```"
      ],
      "metadata": {
        "id": "llNR2WVo-B0n"
      }
    },
    {
      "cell_type": "code",
      "source": [
        "# Fetch and display the schemas\n",
        "schemas = list_table_schemas(db_connection)\n",
        "schemas"
      ],
      "metadata": {
        "colab": {
          "base_uri": "https://localhost:8080/"
        },
        "id": "CSjTXRKMWyuI",
        "outputId": "850d1ecd-f43d-4a5a-a3b3-c7e371b76272"
      },
      "execution_count": 5,
      "outputs": [
        {
          "output_type": "execute_result",
          "data": {
            "text/plain": [
              "{'customers': [{'name': 'customer_id', 'type': 'INTEGER'},\n",
              "  {'name': 'first_name', 'type': 'TEXT'},\n",
              "  {'name': 'last_name', 'type': 'TEXT'},\n",
              "  {'name': 'email', 'type': 'TEXT'}],\n",
              " 'sqlite_sequence': [{'name': 'name', 'type': ''},\n",
              "  {'name': 'seq', 'type': ''}],\n",
              " 'products': [{'name': 'product_id', 'type': 'INTEGER'},\n",
              "  {'name': 'product_name', 'type': 'TEXT'},\n",
              "  {'name': 'price', 'type': 'REAL'}],\n",
              " 'date': [{'name': 'date_id', 'type': 'INTEGER'},\n",
              "  {'name': 'day', 'type': 'INTEGER'},\n",
              "  {'name': 'month', 'type': 'INTEGER'},\n",
              "  {'name': 'year', 'type': 'INTEGER'}],\n",
              " 'sales': [{'name': 'sale_id', 'type': 'INTEGER'},\n",
              "  {'name': 'customer_id', 'type': 'INTEGER'},\n",
              "  {'name': 'product_id', 'type': 'INTEGER'},\n",
              "  {'name': 'date_id', 'type': 'INTEGER'},\n",
              "  {'name': 'amount', 'type': 'REAL'}]}"
            ]
          },
          "metadata": {},
          "execution_count": 5
        }
      ]
    },
    {
      "cell_type": "code",
      "source": [
        "# Fetch and display the relationships\n",
        "relationships = list_tables_and_relationships(db_connection)\n",
        "relationships"
      ],
      "metadata": {
        "colab": {
          "base_uri": "https://localhost:8080/"
        },
        "id": "SuonxKYQQwcy",
        "outputId": "90ccb8af-f798-4c81-d521-c8e6d447d057"
      },
      "execution_count": 6,
      "outputs": [
        {
          "output_type": "execute_result",
          "data": {
            "text/plain": [
              "{'customers': [],\n",
              " 'sqlite_sequence': [],\n",
              " 'products': [],\n",
              " 'date': [],\n",
              " 'sales': [{'table': 'date', 'from_column': 'date_id', 'to_column': 'date_id'},\n",
              "  {'table': 'products',\n",
              "   'from_column': 'product_id',\n",
              "   'to_column': 'product_id'},\n",
              "  {'table': 'customers',\n",
              "   'from_column': 'customer_id',\n",
              "   'to_column': 'customer_id'}]}"
            ]
          },
          "metadata": {},
          "execution_count": 6
        }
      ]
    },
    {
      "cell_type": "markdown",
      "source": [
        "* The customers, products, and date tables do not have any foreign key relationships pointing to other tables.\n",
        "\n",
        "* The sales table has foreign keys that establish relationships with the following tables:\n",
        "  * A foreign key relationship to the date table through the date_id column.\n",
        "  * A foreign key relationship to the products table through the product_id column.\n",
        "  * A foreign key relationship to the customers table through the customer_id column."
      ],
      "metadata": {
        "id": "lQfQj7oIRTyn"
      }
    },
    {
      "cell_type": "markdown",
      "source": [
        "## Use Case 2: Automating SQL Code Generation with GPT"
      ],
      "metadata": {
        "id": "DAWnTVjoRftX"
      }
    },
    {
      "cell_type": "markdown",
      "source": [
        "In this section, we'll see how GPT models can assist in generating SQL code. We'll also go through the setup process for using OpenAI's API."
      ],
      "metadata": {
        "id": "q39KMTm92n_G"
      }
    },
    {
      "cell_type": "code",
      "source": [
        "# Set the API key\n",
        "import os\n",
        "api_key = input(\"Enter your API key: \")\n",
        "os.environ[\"API_KEY\"] = api_key"
      ],
      "metadata": {
        "id": "1asEbrvdRqs1"
      },
      "execution_count": null,
      "outputs": []
    },
    {
      "cell_type": "code",
      "source": [
        "# Install openai package\n",
        "pip install openai"
      ],
      "metadata": {
        "colab": {
          "base_uri": "https://localhost:8080/"
        },
        "id": "Y1hd_ANcSMKk",
        "outputId": "030cbc59-6390-4e6d-81b3-5a5291bd6fd5"
      },
      "execution_count": 8,
      "outputs": [
        {
          "output_type": "stream",
          "name": "stdout",
          "text": [
            "Requirement already satisfied: openai in /usr/local/lib/python3.10/dist-packages (0.27.10)\n",
            "Requirement already satisfied: requests>=2.20 in /usr/local/lib/python3.10/dist-packages (from openai) (2.31.0)\n",
            "Requirement already satisfied: tqdm in /usr/local/lib/python3.10/dist-packages (from openai) (4.66.1)\n",
            "Requirement already satisfied: aiohttp in /usr/local/lib/python3.10/dist-packages (from openai) (3.8.5)\n",
            "Requirement already satisfied: charset-normalizer<4,>=2 in /usr/local/lib/python3.10/dist-packages (from requests>=2.20->openai) (3.3.0)\n",
            "Requirement already satisfied: idna<4,>=2.5 in /usr/local/lib/python3.10/dist-packages (from requests>=2.20->openai) (3.4)\n",
            "Requirement already satisfied: urllib3<3,>=1.21.1 in /usr/local/lib/python3.10/dist-packages (from requests>=2.20->openai) (2.0.6)\n",
            "Requirement already satisfied: certifi>=2017.4.17 in /usr/local/lib/python3.10/dist-packages (from requests>=2.20->openai) (2023.7.22)\n",
            "Requirement already satisfied: attrs>=17.3.0 in /usr/local/lib/python3.10/dist-packages (from aiohttp->openai) (23.1.0)\n",
            "Requirement already satisfied: multidict<7.0,>=4.5 in /usr/local/lib/python3.10/dist-packages (from aiohttp->openai) (6.0.4)\n",
            "Requirement already satisfied: async-timeout<5.0,>=4.0.0a3 in /usr/local/lib/python3.10/dist-packages (from aiohttp->openai) (4.0.3)\n",
            "Requirement already satisfied: yarl<2.0,>=1.0 in /usr/local/lib/python3.10/dist-packages (from aiohttp->openai) (1.9.2)\n",
            "Requirement already satisfied: frozenlist>=1.1.1 in /usr/local/lib/python3.10/dist-packages (from aiohttp->openai) (1.4.0)\n",
            "Requirement already satisfied: aiosignal>=1.1.2 in /usr/local/lib/python3.10/dist-packages (from aiohttp->openai) (1.3.1)\n"
          ]
        }
      ]
    },
    {
      "cell_type": "code",
      "source": [
        "# Import openai package and register API key\n",
        "import openai\n",
        "openai.api_key = os.getenv(\"API_KEY\")"
      ],
      "metadata": {
        "id": "pGPce-XoUQjK"
      },
      "execution_count": 10,
      "outputs": []
    },
    {
      "cell_type": "code",
      "source": [
        "# Define system prompt\n",
        "\n",
        "system_prompt = \"\"\"\n",
        "\n",
        "ROLE: You are a SQL expert.\n",
        "\n",
        "TASK: I'll give you the list of tables and relationships of my SQLite database.\n",
        "You will take my natural langauge query and translate it into a functional SQL query for this database.\n",
        "\n",
        "CONTEXT: ## Tables and relationships in triple backticks:\n",
        "```\n",
        "{'customers': [],\n",
        " 'sqlite_sequence': [],\n",
        " 'products': [],\n",
        " 'date': [],\n",
        " 'sales': [{'table': 'date', 'from_column': 'date_id', 'to_column': 'date_id'},\n",
        "  {'table': 'products',\n",
        "   'from_column': 'product_id',\n",
        "   'to_column': 'product_id'},\n",
        "  {'table': 'customers',\n",
        "   'from_column': 'customer_id',\n",
        "   'to_column': 'customer_id'}]}\n",
        "```\n",
        "\n",
        "## Table schemas in triple backticks:\n",
        "```\n",
        "{'customers': [{'name': 'customer_id', 'type': 'INTEGER'},\n",
        "  {'name': 'first_name', 'type': 'TEXT'},\n",
        "  {'name': 'last_name', 'type': 'TEXT'},\n",
        "  {'name': 'email', 'type': 'TEXT'}],\n",
        " 'sqlite_sequence': [{'name': 'name', 'type': ''},\n",
        "  {'name': 'seq', 'type': ''}],\n",
        " 'products': [{'name': 'product_id', 'type': 'INTEGER'},\n",
        "  {'name': 'product_name', 'type': 'TEXT'},\n",
        "  {'name': 'price', 'type': 'REAL'}],\n",
        " 'date': [{'name': 'date_id', 'type': 'INTEGER'},\n",
        "  {'name': 'day', 'type': 'INTEGER'},\n",
        "  {'name': 'month', 'type': 'INTEGER'},\n",
        "  {'name': 'year', 'type': 'INTEGER'}],\n",
        " 'sales': [{'name': 'sale_id', 'type': 'INTEGER'},\n",
        "  {'name': 'customer_id', 'type': 'INTEGER'},\n",
        "  {'name': 'product_id', 'type': 'INTEGER'},\n",
        "  {'name': 'date_id', 'type': 'INTEGER'},\n",
        "  {'name': 'amount', 'type': 'REAL'}]}\n",
        "```\n",
        "\n",
        "OUTPUT: Return only the SQL query. Skip pre- and post text.\n",
        "\n",
        "\"\"\""
      ],
      "metadata": {
        "id": "hkAWMeiZS3si"
      },
      "execution_count": 11,
      "outputs": []
    },
    {
      "cell_type": "markdown",
      "source": [
        "Run the first simple SQL query:"
      ],
      "metadata": {
        "id": "y7f1LbGm3h2T"
      }
    },
    {
      "cell_type": "code",
      "source": [
        "completion = openai.ChatCompletion.create(\n",
        "  model=\"gpt-3.5-turbo\",\n",
        "  messages=[\n",
        "    {\"role\": \"system\", \"content\": system_prompt},\n",
        "    {\"role\": \"user\", \"content\": \"How many customers are in the system?\"}\n",
        "  ],\n",
        "  temperature=0.0,\n",
        ")\n",
        "\n",
        "print(completion)"
      ],
      "metadata": {
        "colab": {
          "base_uri": "https://localhost:8080/"
        },
        "id": "thzF9D1ZSIWM",
        "outputId": "f73c0720-d2f8-46b1-dc84-8c35bf9de326"
      },
      "execution_count": 12,
      "outputs": [
        {
          "output_type": "stream",
          "name": "stdout",
          "text": [
            "{\n",
            "  \"id\": \"chatcmpl-87h9vVVc77ihNpYOd3HC4KkRg86uf\",\n",
            "  \"object\": \"chat.completion\",\n",
            "  \"created\": 1696844891,\n",
            "  \"model\": \"gpt-3.5-turbo-0613\",\n",
            "  \"choices\": [\n",
            "    {\n",
            "      \"index\": 0,\n",
            "      \"message\": {\n",
            "        \"role\": \"assistant\",\n",
            "        \"content\": \"SELECT COUNT(*) FROM customers;\"\n",
            "      },\n",
            "      \"finish_reason\": \"stop\"\n",
            "    }\n",
            "  ],\n",
            "  \"usage\": {\n",
            "    \"prompt_tokens\": 461,\n",
            "    \"completion_tokens\": 6,\n",
            "    \"total_tokens\": 467\n",
            "  }\n",
            "}\n"
          ]
        }
      ]
    },
    {
      "cell_type": "markdown",
      "source": [
        "Extract the SQL query from the completion object"
      ],
      "metadata": {
        "id": "ym095wgH3lYP"
      }
    },
    {
      "cell_type": "code",
      "source": [
        "print(completion.choices[0].message.content)"
      ],
      "metadata": {
        "colab": {
          "base_uri": "https://localhost:8080/"
        },
        "id": "L112Fu4eUsma",
        "outputId": "1ab60750-1f7e-408f-df15-f10434a3ba67"
      },
      "execution_count": 13,
      "outputs": [
        {
          "output_type": "stream",
          "name": "stdout",
          "text": [
            "SELECT COUNT(*) FROM customers;\n"
          ]
        }
      ]
    },
    {
      "cell_type": "code",
      "source": [
        "sql_query = completion.choices[0].message.content\n",
        "sql_query"
      ],
      "metadata": {
        "colab": {
          "base_uri": "https://localhost:8080/",
          "height": 35
        },
        "id": "UPYv2AO8U1Tv",
        "outputId": "b54e8cc1-5a91-4150-a452-ec1bd2c98f1f"
      },
      "execution_count": 14,
      "outputs": [
        {
          "output_type": "execute_result",
          "data": {
            "text/plain": [
              "'SELECT COUNT(*) FROM customers;'"
            ],
            "application/vnd.google.colaboratory.intrinsic+json": {
              "type": "string"
            }
          },
          "metadata": {},
          "execution_count": 14
        }
      ]
    },
    {
      "cell_type": "markdown",
      "source": [
        "### Run script inside Python code"
      ],
      "metadata": {
        "id": "9jYarRXhU6yB"
      }
    },
    {
      "cell_type": "code",
      "source": [
        "pd.read_sql(sql = sql_query,\n",
        "            con = db_connection)"
      ],
      "metadata": {
        "colab": {
          "base_uri": "https://localhost:8080/",
          "height": 80
        },
        "id": "6J5Nx71xU9pP",
        "outputId": "70bece23-8c4a-4da1-f6bb-671ce7cbb449"
      },
      "execution_count": 15,
      "outputs": [
        {
          "output_type": "execute_result",
          "data": {
            "text/plain": [
              "   COUNT(*)\n",
              "0        54"
            ],
            "text/html": [
              "\n",
              "  <div id=\"df-9e3a196a-ddd3-4150-85d4-443deaacfafa\" class=\"colab-df-container\">\n",
              "    <div>\n",
              "<style scoped>\n",
              "    .dataframe tbody tr th:only-of-type {\n",
              "        vertical-align: middle;\n",
              "    }\n",
              "\n",
              "    .dataframe tbody tr th {\n",
              "        vertical-align: top;\n",
              "    }\n",
              "\n",
              "    .dataframe thead th {\n",
              "        text-align: right;\n",
              "    }\n",
              "</style>\n",
              "<table border=\"1\" class=\"dataframe\">\n",
              "  <thead>\n",
              "    <tr style=\"text-align: right;\">\n",
              "      <th></th>\n",
              "      <th>COUNT(*)</th>\n",
              "    </tr>\n",
              "  </thead>\n",
              "  <tbody>\n",
              "    <tr>\n",
              "      <th>0</th>\n",
              "      <td>54</td>\n",
              "    </tr>\n",
              "  </tbody>\n",
              "</table>\n",
              "</div>\n",
              "    <div class=\"colab-df-buttons\">\n",
              "\n",
              "  <div class=\"colab-df-container\">\n",
              "    <button class=\"colab-df-convert\" onclick=\"convertToInteractive('df-9e3a196a-ddd3-4150-85d4-443deaacfafa')\"\n",
              "            title=\"Convert this dataframe to an interactive table.\"\n",
              "            style=\"display:none;\">\n",
              "\n",
              "  <svg xmlns=\"http://www.w3.org/2000/svg\" height=\"24px\" viewBox=\"0 -960 960 960\">\n",
              "    <path d=\"M120-120v-720h720v720H120Zm60-500h600v-160H180v160Zm220 220h160v-160H400v160Zm0 220h160v-160H400v160ZM180-400h160v-160H180v160Zm440 0h160v-160H620v160ZM180-180h160v-160H180v160Zm440 0h160v-160H620v160Z\"/>\n",
              "  </svg>\n",
              "    </button>\n",
              "\n",
              "  <style>\n",
              "    .colab-df-container {\n",
              "      display:flex;\n",
              "      gap: 12px;\n",
              "    }\n",
              "\n",
              "    .colab-df-convert {\n",
              "      background-color: #E8F0FE;\n",
              "      border: none;\n",
              "      border-radius: 50%;\n",
              "      cursor: pointer;\n",
              "      display: none;\n",
              "      fill: #1967D2;\n",
              "      height: 32px;\n",
              "      padding: 0 0 0 0;\n",
              "      width: 32px;\n",
              "    }\n",
              "\n",
              "    .colab-df-convert:hover {\n",
              "      background-color: #E2EBFA;\n",
              "      box-shadow: 0px 1px 2px rgba(60, 64, 67, 0.3), 0px 1px 3px 1px rgba(60, 64, 67, 0.15);\n",
              "      fill: #174EA6;\n",
              "    }\n",
              "\n",
              "    .colab-df-buttons div {\n",
              "      margin-bottom: 4px;\n",
              "    }\n",
              "\n",
              "    [theme=dark] .colab-df-convert {\n",
              "      background-color: #3B4455;\n",
              "      fill: #D2E3FC;\n",
              "    }\n",
              "\n",
              "    [theme=dark] .colab-df-convert:hover {\n",
              "      background-color: #434B5C;\n",
              "      box-shadow: 0px 1px 3px 1px rgba(0, 0, 0, 0.15);\n",
              "      filter: drop-shadow(0px 1px 2px rgba(0, 0, 0, 0.3));\n",
              "      fill: #FFFFFF;\n",
              "    }\n",
              "  </style>\n",
              "\n",
              "    <script>\n",
              "      const buttonEl =\n",
              "        document.querySelector('#df-9e3a196a-ddd3-4150-85d4-443deaacfafa button.colab-df-convert');\n",
              "      buttonEl.style.display =\n",
              "        google.colab.kernel.accessAllowed ? 'block' : 'none';\n",
              "\n",
              "      async function convertToInteractive(key) {\n",
              "        const element = document.querySelector('#df-9e3a196a-ddd3-4150-85d4-443deaacfafa');\n",
              "        const dataTable =\n",
              "          await google.colab.kernel.invokeFunction('convertToInteractive',\n",
              "                                                    [key], {});\n",
              "        if (!dataTable) return;\n",
              "\n",
              "        const docLinkHtml = 'Like what you see? Visit the ' +\n",
              "          '<a target=\"_blank\" href=https://colab.research.google.com/notebooks/data_table.ipynb>data table notebook</a>'\n",
              "          + ' to learn more about interactive tables.';\n",
              "        element.innerHTML = '';\n",
              "        dataTable['output_type'] = 'display_data';\n",
              "        await google.colab.output.renderOutput(dataTable, element);\n",
              "        const docLink = document.createElement('div');\n",
              "        docLink.innerHTML = docLinkHtml;\n",
              "        element.appendChild(docLink);\n",
              "      }\n",
              "    </script>\n",
              "  </div>\n",
              "\n",
              "    </div>\n",
              "  </div>\n"
            ]
          },
          "metadata": {},
          "execution_count": 15
        }
      ]
    },
    {
      "cell_type": "markdown",
      "source": [
        "Pull it all together to a single function for easier use:"
      ],
      "metadata": {
        "id": "xCx4mTxO3zOQ"
      }
    },
    {
      "cell_type": "code",
      "source": [
        "def sql_gpt(natural_language_query):\n",
        "  system_prompt = \"\"\"\n",
        "\n",
        "  ROLE: You are a SQL expert.\n",
        "\n",
        "  TASK: I'll give you the list of tables and relationships of my SQLite database.\n",
        "  You will take my natural langauge query and translate it into a functional SQL query for this database.\n",
        "\n",
        "  CONTEXT: ## Tables and relationships in triple backticks:\n",
        "  ```\n",
        "  {'customers': [],\n",
        "  'sqlite_sequence': [],\n",
        "  'products': [],\n",
        "  'date': [],\n",
        "  'sales': [{'table': 'date', 'from_column': 'date_id', 'to_column': 'date_id'},\n",
        "    {'table': 'products',\n",
        "    'from_column': 'product_id',\n",
        "    'to_column': 'product_id'},\n",
        "    {'table': 'customers',\n",
        "    'from_column': 'customer_id',\n",
        "    'to_column': 'customer_id'}]}\n",
        "  ```\n",
        "\n",
        "  ## Table schemas in triple backticks:\n",
        "  ```\n",
        "  {'customers': [{'name': 'customer_id', 'type': 'INTEGER'},\n",
        "    {'name': 'first_name', 'type': 'TEXT'},\n",
        "    {'name': 'last_name', 'type': 'TEXT'},\n",
        "    {'name': 'email', 'type': 'TEXT'}],\n",
        "  'sqlite_sequence': [{'name': 'name', 'type': ''},\n",
        "    {'name': 'seq', 'type': ''}],\n",
        "  'products': [{'name': 'product_id', 'type': 'INTEGER'},\n",
        "    {'name': 'product_name', 'type': 'TEXT'},\n",
        "    {'name': 'price', 'type': 'REAL'}],\n",
        "  'date': [{'name': 'date_id', 'type': 'INTEGER'},\n",
        "    {'name': 'day', 'type': 'INTEGER'},\n",
        "    {'name': 'month', 'type': 'INTEGER'},\n",
        "    {'name': 'year', 'type': 'INTEGER'}],\n",
        "  'sales': [{'name': 'sale_id', 'type': 'INTEGER'},\n",
        "    {'name': 'customer_id', 'type': 'INTEGER'},\n",
        "    {'name': 'product_id', 'type': 'INTEGER'},\n",
        "    {'name': 'date_id', 'type': 'INTEGER'},\n",
        "    {'name': 'amount', 'type': 'REAL'}]}\n",
        "  ```\n",
        "\n",
        "  OUTPUT: Return only the SQL query. Skip pre- and post text.\n",
        "\n",
        "  \"\"\"\n",
        "  completion = openai.ChatCompletion.create(\n",
        "  model=\"gpt-4\",\n",
        "  messages=[\n",
        "    {\"role\": \"system\", \"content\": system_prompt},\n",
        "    {\"role\": \"user\", \"content\": str(natural_language_query)}\n",
        "  ],\n",
        "  temperature=0.0\n",
        "  )\n",
        "  print(completion.choices[0].message.content)\n",
        "  return(completion.choices[0].message.content)"
      ],
      "metadata": {
        "id": "J8ZL52nhVJeZ"
      },
      "execution_count": 17,
      "outputs": []
    },
    {
      "cell_type": "markdown",
      "source": [
        "### Try it out:\n",
        "\n",
        "**Question**\n",
        "<blockquote>How many customers are in the database?</blockquote>"
      ],
      "metadata": {
        "id": "hwB5C7Xb4HHY"
      }
    },
    {
      "cell_type": "code",
      "source": [
        "pd.read_sql(sql = sql_gpt(input()),\n",
        "            con = db_connection)"
      ],
      "metadata": {
        "colab": {
          "base_uri": "https://localhost:8080/",
          "height": 97
        },
        "id": "TH_yBZgCVp0a",
        "outputId": "5e6e71c3-6b6b-4736-f652-d5bfc77f2551"
      },
      "execution_count": 42,
      "outputs": [
        {
          "name": "stdout",
          "output_type": "stream",
          "text": [
            "How many customers are in the database?\n"
          ]
        },
        {
          "output_type": "execute_result",
          "data": {
            "text/plain": [
              "   COUNT(*)\n",
              "0        54"
            ],
            "text/html": [
              "\n",
              "  <div id=\"df-a0acaa50-8c81-41fa-bfa7-4b3637cee449\" class=\"colab-df-container\">\n",
              "    <div>\n",
              "<style scoped>\n",
              "    .dataframe tbody tr th:only-of-type {\n",
              "        vertical-align: middle;\n",
              "    }\n",
              "\n",
              "    .dataframe tbody tr th {\n",
              "        vertical-align: top;\n",
              "    }\n",
              "\n",
              "    .dataframe thead th {\n",
              "        text-align: right;\n",
              "    }\n",
              "</style>\n",
              "<table border=\"1\" class=\"dataframe\">\n",
              "  <thead>\n",
              "    <tr style=\"text-align: right;\">\n",
              "      <th></th>\n",
              "      <th>COUNT(*)</th>\n",
              "    </tr>\n",
              "  </thead>\n",
              "  <tbody>\n",
              "    <tr>\n",
              "      <th>0</th>\n",
              "      <td>54</td>\n",
              "    </tr>\n",
              "  </tbody>\n",
              "</table>\n",
              "</div>\n",
              "    <div class=\"colab-df-buttons\">\n",
              "\n",
              "  <div class=\"colab-df-container\">\n",
              "    <button class=\"colab-df-convert\" onclick=\"convertToInteractive('df-a0acaa50-8c81-41fa-bfa7-4b3637cee449')\"\n",
              "            title=\"Convert this dataframe to an interactive table.\"\n",
              "            style=\"display:none;\">\n",
              "\n",
              "  <svg xmlns=\"http://www.w3.org/2000/svg\" height=\"24px\" viewBox=\"0 -960 960 960\">\n",
              "    <path d=\"M120-120v-720h720v720H120Zm60-500h600v-160H180v160Zm220 220h160v-160H400v160Zm0 220h160v-160H400v160ZM180-400h160v-160H180v160Zm440 0h160v-160H620v160ZM180-180h160v-160H180v160Zm440 0h160v-160H620v160Z\"/>\n",
              "  </svg>\n",
              "    </button>\n",
              "\n",
              "  <style>\n",
              "    .colab-df-container {\n",
              "      display:flex;\n",
              "      gap: 12px;\n",
              "    }\n",
              "\n",
              "    .colab-df-convert {\n",
              "      background-color: #E8F0FE;\n",
              "      border: none;\n",
              "      border-radius: 50%;\n",
              "      cursor: pointer;\n",
              "      display: none;\n",
              "      fill: #1967D2;\n",
              "      height: 32px;\n",
              "      padding: 0 0 0 0;\n",
              "      width: 32px;\n",
              "    }\n",
              "\n",
              "    .colab-df-convert:hover {\n",
              "      background-color: #E2EBFA;\n",
              "      box-shadow: 0px 1px 2px rgba(60, 64, 67, 0.3), 0px 1px 3px 1px rgba(60, 64, 67, 0.15);\n",
              "      fill: #174EA6;\n",
              "    }\n",
              "\n",
              "    .colab-df-buttons div {\n",
              "      margin-bottom: 4px;\n",
              "    }\n",
              "\n",
              "    [theme=dark] .colab-df-convert {\n",
              "      background-color: #3B4455;\n",
              "      fill: #D2E3FC;\n",
              "    }\n",
              "\n",
              "    [theme=dark] .colab-df-convert:hover {\n",
              "      background-color: #434B5C;\n",
              "      box-shadow: 0px 1px 3px 1px rgba(0, 0, 0, 0.15);\n",
              "      filter: drop-shadow(0px 1px 2px rgba(0, 0, 0, 0.3));\n",
              "      fill: #FFFFFF;\n",
              "    }\n",
              "  </style>\n",
              "\n",
              "    <script>\n",
              "      const buttonEl =\n",
              "        document.querySelector('#df-a0acaa50-8c81-41fa-bfa7-4b3637cee449 button.colab-df-convert');\n",
              "      buttonEl.style.display =\n",
              "        google.colab.kernel.accessAllowed ? 'block' : 'none';\n",
              "\n",
              "      async function convertToInteractive(key) {\n",
              "        const element = document.querySelector('#df-a0acaa50-8c81-41fa-bfa7-4b3637cee449');\n",
              "        const dataTable =\n",
              "          await google.colab.kernel.invokeFunction('convertToInteractive',\n",
              "                                                    [key], {});\n",
              "        if (!dataTable) return;\n",
              "\n",
              "        const docLinkHtml = 'Like what you see? Visit the ' +\n",
              "          '<a target=\"_blank\" href=https://colab.research.google.com/notebooks/data_table.ipynb>data table notebook</a>'\n",
              "          + ' to learn more about interactive tables.';\n",
              "        element.innerHTML = '';\n",
              "        dataTable['output_type'] = 'display_data';\n",
              "        await google.colab.output.renderOutput(dataTable, element);\n",
              "        const docLink = document.createElement('div');\n",
              "        docLink.innerHTML = docLinkHtml;\n",
              "        element.appendChild(docLink);\n",
              "      }\n",
              "    </script>\n",
              "  </div>\n",
              "\n",
              "    </div>\n",
              "  </div>\n"
            ]
          },
          "metadata": {},
          "execution_count": 42
        }
      ]
    },
    {
      "cell_type": "markdown",
      "source": [
        "**Question:**\n",
        "<blockquote>When did the last sale happen?</blockquote>"
      ],
      "metadata": {
        "id": "EdoqMlQp2ay3"
      }
    },
    {
      "cell_type": "code",
      "source": [
        "pd.read_sql(sql = sql_gpt(input()),\n",
        "            con = db_connection)"
      ],
      "metadata": {
        "colab": {
          "base_uri": "https://localhost:8080/",
          "height": 97
        },
        "id": "UOY3EC06V7IB",
        "outputId": "f4921a91-a055-4003-b0ad-a813f943a2cb"
      },
      "execution_count": 44,
      "outputs": [
        {
          "name": "stdout",
          "output_type": "stream",
          "text": [
            "When did the last sale happen?\n"
          ]
        },
        {
          "output_type": "execute_result",
          "data": {
            "text/plain": [
              "   MAX(date.year)  MAX(date.month)  MAX(date.day)\n",
              "0            2023                1             31"
            ],
            "text/html": [
              "\n",
              "  <div id=\"df-0167ca75-edaa-4847-a2f9-e3e723c4ed34\" class=\"colab-df-container\">\n",
              "    <div>\n",
              "<style scoped>\n",
              "    .dataframe tbody tr th:only-of-type {\n",
              "        vertical-align: middle;\n",
              "    }\n",
              "\n",
              "    .dataframe tbody tr th {\n",
              "        vertical-align: top;\n",
              "    }\n",
              "\n",
              "    .dataframe thead th {\n",
              "        text-align: right;\n",
              "    }\n",
              "</style>\n",
              "<table border=\"1\" class=\"dataframe\">\n",
              "  <thead>\n",
              "    <tr style=\"text-align: right;\">\n",
              "      <th></th>\n",
              "      <th>MAX(date.year)</th>\n",
              "      <th>MAX(date.month)</th>\n",
              "      <th>MAX(date.day)</th>\n",
              "    </tr>\n",
              "  </thead>\n",
              "  <tbody>\n",
              "    <tr>\n",
              "      <th>0</th>\n",
              "      <td>2023</td>\n",
              "      <td>1</td>\n",
              "      <td>31</td>\n",
              "    </tr>\n",
              "  </tbody>\n",
              "</table>\n",
              "</div>\n",
              "    <div class=\"colab-df-buttons\">\n",
              "\n",
              "  <div class=\"colab-df-container\">\n",
              "    <button class=\"colab-df-convert\" onclick=\"convertToInteractive('df-0167ca75-edaa-4847-a2f9-e3e723c4ed34')\"\n",
              "            title=\"Convert this dataframe to an interactive table.\"\n",
              "            style=\"display:none;\">\n",
              "\n",
              "  <svg xmlns=\"http://www.w3.org/2000/svg\" height=\"24px\" viewBox=\"0 -960 960 960\">\n",
              "    <path d=\"M120-120v-720h720v720H120Zm60-500h600v-160H180v160Zm220 220h160v-160H400v160Zm0 220h160v-160H400v160ZM180-400h160v-160H180v160Zm440 0h160v-160H620v160ZM180-180h160v-160H180v160Zm440 0h160v-160H620v160Z\"/>\n",
              "  </svg>\n",
              "    </button>\n",
              "\n",
              "  <style>\n",
              "    .colab-df-container {\n",
              "      display:flex;\n",
              "      gap: 12px;\n",
              "    }\n",
              "\n",
              "    .colab-df-convert {\n",
              "      background-color: #E8F0FE;\n",
              "      border: none;\n",
              "      border-radius: 50%;\n",
              "      cursor: pointer;\n",
              "      display: none;\n",
              "      fill: #1967D2;\n",
              "      height: 32px;\n",
              "      padding: 0 0 0 0;\n",
              "      width: 32px;\n",
              "    }\n",
              "\n",
              "    .colab-df-convert:hover {\n",
              "      background-color: #E2EBFA;\n",
              "      box-shadow: 0px 1px 2px rgba(60, 64, 67, 0.3), 0px 1px 3px 1px rgba(60, 64, 67, 0.15);\n",
              "      fill: #174EA6;\n",
              "    }\n",
              "\n",
              "    .colab-df-buttons div {\n",
              "      margin-bottom: 4px;\n",
              "    }\n",
              "\n",
              "    [theme=dark] .colab-df-convert {\n",
              "      background-color: #3B4455;\n",
              "      fill: #D2E3FC;\n",
              "    }\n",
              "\n",
              "    [theme=dark] .colab-df-convert:hover {\n",
              "      background-color: #434B5C;\n",
              "      box-shadow: 0px 1px 3px 1px rgba(0, 0, 0, 0.15);\n",
              "      filter: drop-shadow(0px 1px 2px rgba(0, 0, 0, 0.3));\n",
              "      fill: #FFFFFF;\n",
              "    }\n",
              "  </style>\n",
              "\n",
              "    <script>\n",
              "      const buttonEl =\n",
              "        document.querySelector('#df-0167ca75-edaa-4847-a2f9-e3e723c4ed34 button.colab-df-convert');\n",
              "      buttonEl.style.display =\n",
              "        google.colab.kernel.accessAllowed ? 'block' : 'none';\n",
              "\n",
              "      async function convertToInteractive(key) {\n",
              "        const element = document.querySelector('#df-0167ca75-edaa-4847-a2f9-e3e723c4ed34');\n",
              "        const dataTable =\n",
              "          await google.colab.kernel.invokeFunction('convertToInteractive',\n",
              "                                                    [key], {});\n",
              "        if (!dataTable) return;\n",
              "\n",
              "        const docLinkHtml = 'Like what you see? Visit the ' +\n",
              "          '<a target=\"_blank\" href=https://colab.research.google.com/notebooks/data_table.ipynb>data table notebook</a>'\n",
              "          + ' to learn more about interactive tables.';\n",
              "        element.innerHTML = '';\n",
              "        dataTable['output_type'] = 'display_data';\n",
              "        await google.colab.output.renderOutput(dataTable, element);\n",
              "        const docLink = document.createElement('div');\n",
              "        docLink.innerHTML = docLinkHtml;\n",
              "        element.appendChild(docLink);\n",
              "      }\n",
              "    </script>\n",
              "  </div>\n",
              "\n",
              "    </div>\n",
              "  </div>\n"
            ]
          },
          "metadata": {},
          "execution_count": 44
        }
      ]
    },
    {
      "cell_type": "markdown",
      "source": [
        "**Question:**\n",
        "<blockquote>When did the first sale happen?</blockquote>"
      ],
      "metadata": {
        "id": "hkE2U_eE2aHM"
      }
    },
    {
      "cell_type": "code",
      "source": [
        "pd.read_sql(sql = sql_gpt(input()),\n",
        "            con = db_connection)"
      ],
      "metadata": {
        "colab": {
          "base_uri": "https://localhost:8080/",
          "height": 97
        },
        "id": "Clsw_6yVXdvZ",
        "outputId": "20878ba3-5c67-4215-9b32-9e896be1e617"
      },
      "execution_count": 45,
      "outputs": [
        {
          "name": "stdout",
          "output_type": "stream",
          "text": [
            "When did the first sale happen?\n"
          ]
        },
        {
          "output_type": "execute_result",
          "data": {
            "text/plain": [
              "   MIN(day)  MIN(month)  MIN(year)\n",
              "0         1           1       2023"
            ],
            "text/html": [
              "\n",
              "  <div id=\"df-132d69fc-afe1-4684-a865-5a88171278ac\" class=\"colab-df-container\">\n",
              "    <div>\n",
              "<style scoped>\n",
              "    .dataframe tbody tr th:only-of-type {\n",
              "        vertical-align: middle;\n",
              "    }\n",
              "\n",
              "    .dataframe tbody tr th {\n",
              "        vertical-align: top;\n",
              "    }\n",
              "\n",
              "    .dataframe thead th {\n",
              "        text-align: right;\n",
              "    }\n",
              "</style>\n",
              "<table border=\"1\" class=\"dataframe\">\n",
              "  <thead>\n",
              "    <tr style=\"text-align: right;\">\n",
              "      <th></th>\n",
              "      <th>MIN(day)</th>\n",
              "      <th>MIN(month)</th>\n",
              "      <th>MIN(year)</th>\n",
              "    </tr>\n",
              "  </thead>\n",
              "  <tbody>\n",
              "    <tr>\n",
              "      <th>0</th>\n",
              "      <td>1</td>\n",
              "      <td>1</td>\n",
              "      <td>2023</td>\n",
              "    </tr>\n",
              "  </tbody>\n",
              "</table>\n",
              "</div>\n",
              "    <div class=\"colab-df-buttons\">\n",
              "\n",
              "  <div class=\"colab-df-container\">\n",
              "    <button class=\"colab-df-convert\" onclick=\"convertToInteractive('df-132d69fc-afe1-4684-a865-5a88171278ac')\"\n",
              "            title=\"Convert this dataframe to an interactive table.\"\n",
              "            style=\"display:none;\">\n",
              "\n",
              "  <svg xmlns=\"http://www.w3.org/2000/svg\" height=\"24px\" viewBox=\"0 -960 960 960\">\n",
              "    <path d=\"M120-120v-720h720v720H120Zm60-500h600v-160H180v160Zm220 220h160v-160H400v160Zm0 220h160v-160H400v160ZM180-400h160v-160H180v160Zm440 0h160v-160H620v160ZM180-180h160v-160H180v160Zm440 0h160v-160H620v160Z\"/>\n",
              "  </svg>\n",
              "    </button>\n",
              "\n",
              "  <style>\n",
              "    .colab-df-container {\n",
              "      display:flex;\n",
              "      gap: 12px;\n",
              "    }\n",
              "\n",
              "    .colab-df-convert {\n",
              "      background-color: #E8F0FE;\n",
              "      border: none;\n",
              "      border-radius: 50%;\n",
              "      cursor: pointer;\n",
              "      display: none;\n",
              "      fill: #1967D2;\n",
              "      height: 32px;\n",
              "      padding: 0 0 0 0;\n",
              "      width: 32px;\n",
              "    }\n",
              "\n",
              "    .colab-df-convert:hover {\n",
              "      background-color: #E2EBFA;\n",
              "      box-shadow: 0px 1px 2px rgba(60, 64, 67, 0.3), 0px 1px 3px 1px rgba(60, 64, 67, 0.15);\n",
              "      fill: #174EA6;\n",
              "    }\n",
              "\n",
              "    .colab-df-buttons div {\n",
              "      margin-bottom: 4px;\n",
              "    }\n",
              "\n",
              "    [theme=dark] .colab-df-convert {\n",
              "      background-color: #3B4455;\n",
              "      fill: #D2E3FC;\n",
              "    }\n",
              "\n",
              "    [theme=dark] .colab-df-convert:hover {\n",
              "      background-color: #434B5C;\n",
              "      box-shadow: 0px 1px 3px 1px rgba(0, 0, 0, 0.15);\n",
              "      filter: drop-shadow(0px 1px 2px rgba(0, 0, 0, 0.3));\n",
              "      fill: #FFFFFF;\n",
              "    }\n",
              "  </style>\n",
              "\n",
              "    <script>\n",
              "      const buttonEl =\n",
              "        document.querySelector('#df-132d69fc-afe1-4684-a865-5a88171278ac button.colab-df-convert');\n",
              "      buttonEl.style.display =\n",
              "        google.colab.kernel.accessAllowed ? 'block' : 'none';\n",
              "\n",
              "      async function convertToInteractive(key) {\n",
              "        const element = document.querySelector('#df-132d69fc-afe1-4684-a865-5a88171278ac');\n",
              "        const dataTable =\n",
              "          await google.colab.kernel.invokeFunction('convertToInteractive',\n",
              "                                                    [key], {});\n",
              "        if (!dataTable) return;\n",
              "\n",
              "        const docLinkHtml = 'Like what you see? Visit the ' +\n",
              "          '<a target=\"_blank\" href=https://colab.research.google.com/notebooks/data_table.ipynb>data table notebook</a>'\n",
              "          + ' to learn more about interactive tables.';\n",
              "        element.innerHTML = '';\n",
              "        dataTable['output_type'] = 'display_data';\n",
              "        await google.colab.output.renderOutput(dataTable, element);\n",
              "        const docLink = document.createElement('div');\n",
              "        docLink.innerHTML = docLinkHtml;\n",
              "        element.appendChild(docLink);\n",
              "      }\n",
              "    </script>\n",
              "  </div>\n",
              "\n",
              "    </div>\n",
              "  </div>\n"
            ]
          },
          "metadata": {},
          "execution_count": 45
        }
      ]
    },
    {
      "cell_type": "markdown",
      "source": [
        "**Question:**\n",
        "<blockquote>How much did we sell on 15/01/2023?</blockquote>"
      ],
      "metadata": {
        "id": "4RuW-Otn2UQO"
      }
    },
    {
      "cell_type": "code",
      "source": [
        "pd.read_sql(sql = sql_gpt(input()),\n",
        "            con = db_connection)"
      ],
      "metadata": {
        "colab": {
          "base_uri": "https://localhost:8080/",
          "height": 165
        },
        "id": "1X2vT9B3XjTh",
        "outputId": "75f40536-b755-4a5e-9508-337baac31ad8"
      },
      "execution_count": 49,
      "outputs": [
        {
          "output_type": "stream",
          "name": "stdout",
          "text": [
            "How much did we sell on 15/01/2023?\n",
            "SELECT SUM(amount) \n",
            "FROM sales \n",
            "JOIN date ON sales.date_id = date.date_id \n",
            "WHERE day = 15 AND month = 1 AND year = 2023;\n"
          ]
        },
        {
          "output_type": "execute_result",
          "data": {
            "text/plain": [
              "   SUM(amount)\n",
              "0   21772.2597"
            ],
            "text/html": [
              "\n",
              "  <div id=\"df-7c5c0b2c-d11c-495b-951d-bd989dd59a3d\" class=\"colab-df-container\">\n",
              "    <div>\n",
              "<style scoped>\n",
              "    .dataframe tbody tr th:only-of-type {\n",
              "        vertical-align: middle;\n",
              "    }\n",
              "\n",
              "    .dataframe tbody tr th {\n",
              "        vertical-align: top;\n",
              "    }\n",
              "\n",
              "    .dataframe thead th {\n",
              "        text-align: right;\n",
              "    }\n",
              "</style>\n",
              "<table border=\"1\" class=\"dataframe\">\n",
              "  <thead>\n",
              "    <tr style=\"text-align: right;\">\n",
              "      <th></th>\n",
              "      <th>SUM(amount)</th>\n",
              "    </tr>\n",
              "  </thead>\n",
              "  <tbody>\n",
              "    <tr>\n",
              "      <th>0</th>\n",
              "      <td>21772.2597</td>\n",
              "    </tr>\n",
              "  </tbody>\n",
              "</table>\n",
              "</div>\n",
              "    <div class=\"colab-df-buttons\">\n",
              "\n",
              "  <div class=\"colab-df-container\">\n",
              "    <button class=\"colab-df-convert\" onclick=\"convertToInteractive('df-7c5c0b2c-d11c-495b-951d-bd989dd59a3d')\"\n",
              "            title=\"Convert this dataframe to an interactive table.\"\n",
              "            style=\"display:none;\">\n",
              "\n",
              "  <svg xmlns=\"http://www.w3.org/2000/svg\" height=\"24px\" viewBox=\"0 -960 960 960\">\n",
              "    <path d=\"M120-120v-720h720v720H120Zm60-500h600v-160H180v160Zm220 220h160v-160H400v160Zm0 220h160v-160H400v160ZM180-400h160v-160H180v160Zm440 0h160v-160H620v160ZM180-180h160v-160H180v160Zm440 0h160v-160H620v160Z\"/>\n",
              "  </svg>\n",
              "    </button>\n",
              "\n",
              "  <style>\n",
              "    .colab-df-container {\n",
              "      display:flex;\n",
              "      gap: 12px;\n",
              "    }\n",
              "\n",
              "    .colab-df-convert {\n",
              "      background-color: #E8F0FE;\n",
              "      border: none;\n",
              "      border-radius: 50%;\n",
              "      cursor: pointer;\n",
              "      display: none;\n",
              "      fill: #1967D2;\n",
              "      height: 32px;\n",
              "      padding: 0 0 0 0;\n",
              "      width: 32px;\n",
              "    }\n",
              "\n",
              "    .colab-df-convert:hover {\n",
              "      background-color: #E2EBFA;\n",
              "      box-shadow: 0px 1px 2px rgba(60, 64, 67, 0.3), 0px 1px 3px 1px rgba(60, 64, 67, 0.15);\n",
              "      fill: #174EA6;\n",
              "    }\n",
              "\n",
              "    .colab-df-buttons div {\n",
              "      margin-bottom: 4px;\n",
              "    }\n",
              "\n",
              "    [theme=dark] .colab-df-convert {\n",
              "      background-color: #3B4455;\n",
              "      fill: #D2E3FC;\n",
              "    }\n",
              "\n",
              "    [theme=dark] .colab-df-convert:hover {\n",
              "      background-color: #434B5C;\n",
              "      box-shadow: 0px 1px 3px 1px rgba(0, 0, 0, 0.15);\n",
              "      filter: drop-shadow(0px 1px 2px rgba(0, 0, 0, 0.3));\n",
              "      fill: #FFFFFF;\n",
              "    }\n",
              "  </style>\n",
              "\n",
              "    <script>\n",
              "      const buttonEl =\n",
              "        document.querySelector('#df-7c5c0b2c-d11c-495b-951d-bd989dd59a3d button.colab-df-convert');\n",
              "      buttonEl.style.display =\n",
              "        google.colab.kernel.accessAllowed ? 'block' : 'none';\n",
              "\n",
              "      async function convertToInteractive(key) {\n",
              "        const element = document.querySelector('#df-7c5c0b2c-d11c-495b-951d-bd989dd59a3d');\n",
              "        const dataTable =\n",
              "          await google.colab.kernel.invokeFunction('convertToInteractive',\n",
              "                                                    [key], {});\n",
              "        if (!dataTable) return;\n",
              "\n",
              "        const docLinkHtml = 'Like what you see? Visit the ' +\n",
              "          '<a target=\"_blank\" href=https://colab.research.google.com/notebooks/data_table.ipynb>data table notebook</a>'\n",
              "          + ' to learn more about interactive tables.';\n",
              "        element.innerHTML = '';\n",
              "        dataTable['output_type'] = 'display_data';\n",
              "        await google.colab.output.renderOutput(dataTable, element);\n",
              "        const docLink = document.createElement('div');\n",
              "        docLink.innerHTML = docLinkHtml;\n",
              "        element.appendChild(docLink);\n",
              "      }\n",
              "    </script>\n",
              "  </div>\n",
              "\n",
              "    </div>\n",
              "  </div>\n"
            ]
          },
          "metadata": {},
          "execution_count": 49
        }
      ]
    },
    {
      "cell_type": "markdown",
      "source": [
        "**Question:**\n",
        "<blockquote>Which customer did the highest sales?</blockquote>"
      ],
      "metadata": {
        "id": "PT_FrJ7R2Oqo"
      }
    },
    {
      "cell_type": "code",
      "source": [
        "pd.read_sql(sql = sql_gpt(input()),\n",
        "            con = db_connection)"
      ],
      "metadata": {
        "colab": {
          "base_uri": "https://localhost:8080/",
          "height": 199
        },
        "id": "LHPOyZbtYcFb",
        "outputId": "30c750bb-c956-448f-fd98-d03305121561"
      },
      "execution_count": 50,
      "outputs": [
        {
          "output_type": "stream",
          "name": "stdout",
          "text": [
            "Which customer did the highest sales?\n",
            "SELECT customers.first_name, customers.last_name\n",
            "FROM customers\n",
            "JOIN sales ON customers.customer_id = sales.customer_id\n",
            "GROUP BY sales.customer_id\n",
            "ORDER BY SUM(sales.amount) DESC\n",
            "LIMIT 1;\n"
          ]
        },
        {
          "output_type": "execute_result",
          "data": {
            "text/plain": [
              "  first_name last_name\n",
              "0    Barbara    Murray"
            ],
            "text/html": [
              "\n",
              "  <div id=\"df-3cb2b8df-c718-4293-985e-5eea988378ae\" class=\"colab-df-container\">\n",
              "    <div>\n",
              "<style scoped>\n",
              "    .dataframe tbody tr th:only-of-type {\n",
              "        vertical-align: middle;\n",
              "    }\n",
              "\n",
              "    .dataframe tbody tr th {\n",
              "        vertical-align: top;\n",
              "    }\n",
              "\n",
              "    .dataframe thead th {\n",
              "        text-align: right;\n",
              "    }\n",
              "</style>\n",
              "<table border=\"1\" class=\"dataframe\">\n",
              "  <thead>\n",
              "    <tr style=\"text-align: right;\">\n",
              "      <th></th>\n",
              "      <th>first_name</th>\n",
              "      <th>last_name</th>\n",
              "    </tr>\n",
              "  </thead>\n",
              "  <tbody>\n",
              "    <tr>\n",
              "      <th>0</th>\n",
              "      <td>Barbara</td>\n",
              "      <td>Murray</td>\n",
              "    </tr>\n",
              "  </tbody>\n",
              "</table>\n",
              "</div>\n",
              "    <div class=\"colab-df-buttons\">\n",
              "\n",
              "  <div class=\"colab-df-container\">\n",
              "    <button class=\"colab-df-convert\" onclick=\"convertToInteractive('df-3cb2b8df-c718-4293-985e-5eea988378ae')\"\n",
              "            title=\"Convert this dataframe to an interactive table.\"\n",
              "            style=\"display:none;\">\n",
              "\n",
              "  <svg xmlns=\"http://www.w3.org/2000/svg\" height=\"24px\" viewBox=\"0 -960 960 960\">\n",
              "    <path d=\"M120-120v-720h720v720H120Zm60-500h600v-160H180v160Zm220 220h160v-160H400v160Zm0 220h160v-160H400v160ZM180-400h160v-160H180v160Zm440 0h160v-160H620v160ZM180-180h160v-160H180v160Zm440 0h160v-160H620v160Z\"/>\n",
              "  </svg>\n",
              "    </button>\n",
              "\n",
              "  <style>\n",
              "    .colab-df-container {\n",
              "      display:flex;\n",
              "      gap: 12px;\n",
              "    }\n",
              "\n",
              "    .colab-df-convert {\n",
              "      background-color: #E8F0FE;\n",
              "      border: none;\n",
              "      border-radius: 50%;\n",
              "      cursor: pointer;\n",
              "      display: none;\n",
              "      fill: #1967D2;\n",
              "      height: 32px;\n",
              "      padding: 0 0 0 0;\n",
              "      width: 32px;\n",
              "    }\n",
              "\n",
              "    .colab-df-convert:hover {\n",
              "      background-color: #E2EBFA;\n",
              "      box-shadow: 0px 1px 2px rgba(60, 64, 67, 0.3), 0px 1px 3px 1px rgba(60, 64, 67, 0.15);\n",
              "      fill: #174EA6;\n",
              "    }\n",
              "\n",
              "    .colab-df-buttons div {\n",
              "      margin-bottom: 4px;\n",
              "    }\n",
              "\n",
              "    [theme=dark] .colab-df-convert {\n",
              "      background-color: #3B4455;\n",
              "      fill: #D2E3FC;\n",
              "    }\n",
              "\n",
              "    [theme=dark] .colab-df-convert:hover {\n",
              "      background-color: #434B5C;\n",
              "      box-shadow: 0px 1px 3px 1px rgba(0, 0, 0, 0.15);\n",
              "      filter: drop-shadow(0px 1px 2px rgba(0, 0, 0, 0.3));\n",
              "      fill: #FFFFFF;\n",
              "    }\n",
              "  </style>\n",
              "\n",
              "    <script>\n",
              "      const buttonEl =\n",
              "        document.querySelector('#df-3cb2b8df-c718-4293-985e-5eea988378ae button.colab-df-convert');\n",
              "      buttonEl.style.display =\n",
              "        google.colab.kernel.accessAllowed ? 'block' : 'none';\n",
              "\n",
              "      async function convertToInteractive(key) {\n",
              "        const element = document.querySelector('#df-3cb2b8df-c718-4293-985e-5eea988378ae');\n",
              "        const dataTable =\n",
              "          await google.colab.kernel.invokeFunction('convertToInteractive',\n",
              "                                                    [key], {});\n",
              "        if (!dataTable) return;\n",
              "\n",
              "        const docLinkHtml = 'Like what you see? Visit the ' +\n",
              "          '<a target=\"_blank\" href=https://colab.research.google.com/notebooks/data_table.ipynb>data table notebook</a>'\n",
              "          + ' to learn more about interactive tables.';\n",
              "        element.innerHTML = '';\n",
              "        dataTable['output_type'] = 'display_data';\n",
              "        await google.colab.output.renderOutput(dataTable, element);\n",
              "        const docLink = document.createElement('div');\n",
              "        docLink.innerHTML = docLinkHtml;\n",
              "        element.appendChild(docLink);\n",
              "      }\n",
              "    </script>\n",
              "  </div>\n",
              "\n",
              "    </div>\n",
              "  </div>\n"
            ]
          },
          "metadata": {},
          "execution_count": 50
        }
      ]
    },
    {
      "cell_type": "markdown",
      "source": [
        "### Return output as a new data frame"
      ],
      "metadata": {
        "id": "lMXtH-_y4ls0"
      }
    },
    {
      "cell_type": "markdown",
      "source": [
        "**Question:**\n",
        "<blockquote>Give me a list of the top 10 customers orders depending by amount. Include first name, last name and total amount.</blockquote>\n"
      ],
      "metadata": {
        "id": "iWCIpLu914a4"
      }
    },
    {
      "cell_type": "code",
      "source": [
        "customers_df = pd.read_sql(sql = sql_gpt(input()), con = db_connection)"
      ],
      "metadata": {
        "colab": {
          "base_uri": "https://localhost:8080/"
        },
        "id": "uxqO3hNUCa5w",
        "outputId": "ba353fe5-36b7-42e3-e734-a2dce697b619"
      },
      "execution_count": 20,
      "outputs": [
        {
          "output_type": "stream",
          "name": "stdout",
          "text": [
            "Give me a list of the top 10 customers orders depending by amount. Include first name, last name and total amount.\n",
            "SELECT c.first_name, c.last_name, SUM(s.amount) as total_amount\n",
            "FROM customers c\n",
            "JOIN sales s ON c.customer_id = s.customer_id\n",
            "GROUP BY c.customer_id\n",
            "ORDER BY total_amount DESC\n",
            "LIMIT 10;\n"
          ]
        }
      ]
    },
    {
      "cell_type": "code",
      "source": [
        "customers_df"
      ],
      "metadata": {
        "colab": {
          "base_uri": "https://localhost:8080/",
          "height": 359
        },
        "id": "hFBCwD55DrbH",
        "outputId": "c46bebba-a15b-46b1-8565-3d0091acaf24"
      },
      "execution_count": 21,
      "outputs": [
        {
          "output_type": "execute_result",
          "data": {
            "text/plain": [
              "  first_name   last_name  total_amount\n",
              "0    Barbara      Murray   8919.621054\n",
              "1        Zoe      Hughes   8839.783989\n",
              "2       Seth        Reid   8100.049504\n",
              "3       Jane         Doe   7737.892352\n",
              "4       John         Doe   7683.508202\n",
              "5      Leroy       Evans   7583.337208\n",
              "6      Holly  Mclaughlin   7393.094220\n",
              "7     Justin  Harrington   7213.560863\n",
              "8      Helen       Brown   6762.883192\n",
              "9     Andrew    Mcknight   6757.403785"
            ],
            "text/html": [
              "\n",
              "  <div id=\"df-92a17846-ddde-4651-923c-72678bff5101\" class=\"colab-df-container\">\n",
              "    <div>\n",
              "<style scoped>\n",
              "    .dataframe tbody tr th:only-of-type {\n",
              "        vertical-align: middle;\n",
              "    }\n",
              "\n",
              "    .dataframe tbody tr th {\n",
              "        vertical-align: top;\n",
              "    }\n",
              "\n",
              "    .dataframe thead th {\n",
              "        text-align: right;\n",
              "    }\n",
              "</style>\n",
              "<table border=\"1\" class=\"dataframe\">\n",
              "  <thead>\n",
              "    <tr style=\"text-align: right;\">\n",
              "      <th></th>\n",
              "      <th>first_name</th>\n",
              "      <th>last_name</th>\n",
              "      <th>total_amount</th>\n",
              "    </tr>\n",
              "  </thead>\n",
              "  <tbody>\n",
              "    <tr>\n",
              "      <th>0</th>\n",
              "      <td>Barbara</td>\n",
              "      <td>Murray</td>\n",
              "      <td>8919.621054</td>\n",
              "    </tr>\n",
              "    <tr>\n",
              "      <th>1</th>\n",
              "      <td>Zoe</td>\n",
              "      <td>Hughes</td>\n",
              "      <td>8839.783989</td>\n",
              "    </tr>\n",
              "    <tr>\n",
              "      <th>2</th>\n",
              "      <td>Seth</td>\n",
              "      <td>Reid</td>\n",
              "      <td>8100.049504</td>\n",
              "    </tr>\n",
              "    <tr>\n",
              "      <th>3</th>\n",
              "      <td>Jane</td>\n",
              "      <td>Doe</td>\n",
              "      <td>7737.892352</td>\n",
              "    </tr>\n",
              "    <tr>\n",
              "      <th>4</th>\n",
              "      <td>John</td>\n",
              "      <td>Doe</td>\n",
              "      <td>7683.508202</td>\n",
              "    </tr>\n",
              "    <tr>\n",
              "      <th>5</th>\n",
              "      <td>Leroy</td>\n",
              "      <td>Evans</td>\n",
              "      <td>7583.337208</td>\n",
              "    </tr>\n",
              "    <tr>\n",
              "      <th>6</th>\n",
              "      <td>Holly</td>\n",
              "      <td>Mclaughlin</td>\n",
              "      <td>7393.094220</td>\n",
              "    </tr>\n",
              "    <tr>\n",
              "      <th>7</th>\n",
              "      <td>Justin</td>\n",
              "      <td>Harrington</td>\n",
              "      <td>7213.560863</td>\n",
              "    </tr>\n",
              "    <tr>\n",
              "      <th>8</th>\n",
              "      <td>Helen</td>\n",
              "      <td>Brown</td>\n",
              "      <td>6762.883192</td>\n",
              "    </tr>\n",
              "    <tr>\n",
              "      <th>9</th>\n",
              "      <td>Andrew</td>\n",
              "      <td>Mcknight</td>\n",
              "      <td>6757.403785</td>\n",
              "    </tr>\n",
              "  </tbody>\n",
              "</table>\n",
              "</div>\n",
              "    <div class=\"colab-df-buttons\">\n",
              "\n",
              "  <div class=\"colab-df-container\">\n",
              "    <button class=\"colab-df-convert\" onclick=\"convertToInteractive('df-92a17846-ddde-4651-923c-72678bff5101')\"\n",
              "            title=\"Convert this dataframe to an interactive table.\"\n",
              "            style=\"display:none;\">\n",
              "\n",
              "  <svg xmlns=\"http://www.w3.org/2000/svg\" height=\"24px\" viewBox=\"0 -960 960 960\">\n",
              "    <path d=\"M120-120v-720h720v720H120Zm60-500h600v-160H180v160Zm220 220h160v-160H400v160Zm0 220h160v-160H400v160ZM180-400h160v-160H180v160Zm440 0h160v-160H620v160ZM180-180h160v-160H180v160Zm440 0h160v-160H620v160Z\"/>\n",
              "  </svg>\n",
              "    </button>\n",
              "\n",
              "  <style>\n",
              "    .colab-df-container {\n",
              "      display:flex;\n",
              "      gap: 12px;\n",
              "    }\n",
              "\n",
              "    .colab-df-convert {\n",
              "      background-color: #E8F0FE;\n",
              "      border: none;\n",
              "      border-radius: 50%;\n",
              "      cursor: pointer;\n",
              "      display: none;\n",
              "      fill: #1967D2;\n",
              "      height: 32px;\n",
              "      padding: 0 0 0 0;\n",
              "      width: 32px;\n",
              "    }\n",
              "\n",
              "    .colab-df-convert:hover {\n",
              "      background-color: #E2EBFA;\n",
              "      box-shadow: 0px 1px 2px rgba(60, 64, 67, 0.3), 0px 1px 3px 1px rgba(60, 64, 67, 0.15);\n",
              "      fill: #174EA6;\n",
              "    }\n",
              "\n",
              "    .colab-df-buttons div {\n",
              "      margin-bottom: 4px;\n",
              "    }\n",
              "\n",
              "    [theme=dark] .colab-df-convert {\n",
              "      background-color: #3B4455;\n",
              "      fill: #D2E3FC;\n",
              "    }\n",
              "\n",
              "    [theme=dark] .colab-df-convert:hover {\n",
              "      background-color: #434B5C;\n",
              "      box-shadow: 0px 1px 3px 1px rgba(0, 0, 0, 0.15);\n",
              "      filter: drop-shadow(0px 1px 2px rgba(0, 0, 0, 0.3));\n",
              "      fill: #FFFFFF;\n",
              "    }\n",
              "  </style>\n",
              "\n",
              "    <script>\n",
              "      const buttonEl =\n",
              "        document.querySelector('#df-92a17846-ddde-4651-923c-72678bff5101 button.colab-df-convert');\n",
              "      buttonEl.style.display =\n",
              "        google.colab.kernel.accessAllowed ? 'block' : 'none';\n",
              "\n",
              "      async function convertToInteractive(key) {\n",
              "        const element = document.querySelector('#df-92a17846-ddde-4651-923c-72678bff5101');\n",
              "        const dataTable =\n",
              "          await google.colab.kernel.invokeFunction('convertToInteractive',\n",
              "                                                    [key], {});\n",
              "        if (!dataTable) return;\n",
              "\n",
              "        const docLinkHtml = 'Like what you see? Visit the ' +\n",
              "          '<a target=\"_blank\" href=https://colab.research.google.com/notebooks/data_table.ipynb>data table notebook</a>'\n",
              "          + ' to learn more about interactive tables.';\n",
              "        element.innerHTML = '';\n",
              "        dataTable['output_type'] = 'display_data';\n",
              "        await google.colab.output.renderOutput(dataTable, element);\n",
              "        const docLink = document.createElement('div');\n",
              "        docLink.innerHTML = docLinkHtml;\n",
              "        element.appendChild(docLink);\n",
              "      }\n",
              "    </script>\n",
              "  </div>\n",
              "\n",
              "\n",
              "<div id=\"df-04d4a6ef-e112-4f67-8a86-4aefc4c780fe\">\n",
              "  <button class=\"colab-df-quickchart\" onclick=\"quickchart('df-04d4a6ef-e112-4f67-8a86-4aefc4c780fe')\"\n",
              "            title=\"Suggest charts.\"\n",
              "            style=\"display:none;\">\n",
              "\n",
              "<svg xmlns=\"http://www.w3.org/2000/svg\" height=\"24px\"viewBox=\"0 0 24 24\"\n",
              "     width=\"24px\">\n",
              "    <g>\n",
              "        <path d=\"M19 3H5c-1.1 0-2 .9-2 2v14c0 1.1.9 2 2 2h14c1.1 0 2-.9 2-2V5c0-1.1-.9-2-2-2zM9 17H7v-7h2v7zm4 0h-2V7h2v10zm4 0h-2v-4h2v4z\"/>\n",
              "    </g>\n",
              "</svg>\n",
              "  </button>\n",
              "\n",
              "<style>\n",
              "  .colab-df-quickchart {\n",
              "      --bg-color: #E8F0FE;\n",
              "      --fill-color: #1967D2;\n",
              "      --hover-bg-color: #E2EBFA;\n",
              "      --hover-fill-color: #174EA6;\n",
              "      --disabled-fill-color: #AAA;\n",
              "      --disabled-bg-color: #DDD;\n",
              "  }\n",
              "\n",
              "  [theme=dark] .colab-df-quickchart {\n",
              "      --bg-color: #3B4455;\n",
              "      --fill-color: #D2E3FC;\n",
              "      --hover-bg-color: #434B5C;\n",
              "      --hover-fill-color: #FFFFFF;\n",
              "      --disabled-bg-color: #3B4455;\n",
              "      --disabled-fill-color: #666;\n",
              "  }\n",
              "\n",
              "  .colab-df-quickchart {\n",
              "    background-color: var(--bg-color);\n",
              "    border: none;\n",
              "    border-radius: 50%;\n",
              "    cursor: pointer;\n",
              "    display: none;\n",
              "    fill: var(--fill-color);\n",
              "    height: 32px;\n",
              "    padding: 0;\n",
              "    width: 32px;\n",
              "  }\n",
              "\n",
              "  .colab-df-quickchart:hover {\n",
              "    background-color: var(--hover-bg-color);\n",
              "    box-shadow: 0 1px 2px rgba(60, 64, 67, 0.3), 0 1px 3px 1px rgba(60, 64, 67, 0.15);\n",
              "    fill: var(--button-hover-fill-color);\n",
              "  }\n",
              "\n",
              "  .colab-df-quickchart-complete:disabled,\n",
              "  .colab-df-quickchart-complete:disabled:hover {\n",
              "    background-color: var(--disabled-bg-color);\n",
              "    fill: var(--disabled-fill-color);\n",
              "    box-shadow: none;\n",
              "  }\n",
              "\n",
              "  .colab-df-spinner {\n",
              "    border: 2px solid var(--fill-color);\n",
              "    border-color: transparent;\n",
              "    border-bottom-color: var(--fill-color);\n",
              "    animation:\n",
              "      spin 1s steps(1) infinite;\n",
              "  }\n",
              "\n",
              "  @keyframes spin {\n",
              "    0% {\n",
              "      border-color: transparent;\n",
              "      border-bottom-color: var(--fill-color);\n",
              "      border-left-color: var(--fill-color);\n",
              "    }\n",
              "    20% {\n",
              "      border-color: transparent;\n",
              "      border-left-color: var(--fill-color);\n",
              "      border-top-color: var(--fill-color);\n",
              "    }\n",
              "    30% {\n",
              "      border-color: transparent;\n",
              "      border-left-color: var(--fill-color);\n",
              "      border-top-color: var(--fill-color);\n",
              "      border-right-color: var(--fill-color);\n",
              "    }\n",
              "    40% {\n",
              "      border-color: transparent;\n",
              "      border-right-color: var(--fill-color);\n",
              "      border-top-color: var(--fill-color);\n",
              "    }\n",
              "    60% {\n",
              "      border-color: transparent;\n",
              "      border-right-color: var(--fill-color);\n",
              "    }\n",
              "    80% {\n",
              "      border-color: transparent;\n",
              "      border-right-color: var(--fill-color);\n",
              "      border-bottom-color: var(--fill-color);\n",
              "    }\n",
              "    90% {\n",
              "      border-color: transparent;\n",
              "      border-bottom-color: var(--fill-color);\n",
              "    }\n",
              "  }\n",
              "</style>\n",
              "\n",
              "  <script>\n",
              "    async function quickchart(key) {\n",
              "      const quickchartButtonEl =\n",
              "        document.querySelector('#' + key + ' button');\n",
              "      quickchartButtonEl.disabled = true;  // To prevent multiple clicks.\n",
              "      quickchartButtonEl.classList.add('colab-df-spinner');\n",
              "      try {\n",
              "        const charts = await google.colab.kernel.invokeFunction(\n",
              "            'suggestCharts', [key], {});\n",
              "      } catch (error) {\n",
              "        console.error('Error during call to suggestCharts:', error);\n",
              "      }\n",
              "      quickchartButtonEl.classList.remove('colab-df-spinner');\n",
              "      quickchartButtonEl.classList.add('colab-df-quickchart-complete');\n",
              "    }\n",
              "    (() => {\n",
              "      let quickchartButtonEl =\n",
              "        document.querySelector('#df-04d4a6ef-e112-4f67-8a86-4aefc4c780fe button');\n",
              "      quickchartButtonEl.style.display =\n",
              "        google.colab.kernel.accessAllowed ? 'block' : 'none';\n",
              "    })();\n",
              "  </script>\n",
              "</div>\n",
              "    </div>\n",
              "  </div>\n"
            ]
          },
          "metadata": {},
          "execution_count": 21
        }
      ]
    },
    {
      "cell_type": "markdown",
      "source": [
        "**Question:**\n",
        "<blockquote>I want to know which product types are popular by customer. Show me the total of sales by product type for each customer.</blockquote>"
      ],
      "metadata": {
        "id": "IOKSsSCk4zBl"
      }
    },
    {
      "cell_type": "code",
      "source": [
        "products_df = pd.read_sql(sql = sql_gpt(input()), con = db_connection)"
      ],
      "metadata": {
        "colab": {
          "base_uri": "https://localhost:8080/"
        },
        "id": "nririwt5KB2r",
        "outputId": "8cb76125-77b6-4a25-e354-0a1461de3c6b"
      },
      "execution_count": 18,
      "outputs": [
        {
          "output_type": "stream",
          "name": "stdout",
          "text": [
            "I want to know which product types are popular by customer. Show me the total of sales by product type for each customer.\n",
            "SELECT customers.customer_id, products.product_name, SUM(sales.amount) as total_sales\n",
            "FROM sales\n",
            "JOIN customers ON sales.customer_id = customers.customer_id\n",
            "JOIN products ON sales.product_id = products.product_id\n",
            "GROUP BY customers.customer_id, products.product_name;\n"
          ]
        }
      ]
    },
    {
      "cell_type": "code",
      "source": [
        "products_df"
      ],
      "metadata": {
        "colab": {
          "base_uri": "https://localhost:8080/",
          "height": 419
        },
        "id": "G6H3mT1pKJZp",
        "outputId": "184087b6-faf4-4fde-bf9e-71cb470d6d99"
      },
      "execution_count": 22,
      "outputs": [
        {
          "output_type": "execute_result",
          "data": {
            "text/plain": [
              "     customer_id product_name  total_sales\n",
              "0              1       Camera  2071.531202\n",
              "1              1       Laptop  2409.043864\n",
              "2              1        Phone  2139.401815\n",
              "3              1           TV  1063.531322\n",
              "4              2       Camera  2345.252477\n",
              "..           ...          ...          ...\n",
              "181           49           TV  1652.898348\n",
              "182           50       Camera  2185.883877\n",
              "183           50       Laptop   546.915469\n",
              "184           50        Phone   750.300776\n",
              "185           50           TV  1550.257011\n",
              "\n",
              "[186 rows x 3 columns]"
            ],
            "text/html": [
              "\n",
              "  <div id=\"df-e9345880-bd56-4710-ba6d-d6bb11e70bb4\" class=\"colab-df-container\">\n",
              "    <div>\n",
              "<style scoped>\n",
              "    .dataframe tbody tr th:only-of-type {\n",
              "        vertical-align: middle;\n",
              "    }\n",
              "\n",
              "    .dataframe tbody tr th {\n",
              "        vertical-align: top;\n",
              "    }\n",
              "\n",
              "    .dataframe thead th {\n",
              "        text-align: right;\n",
              "    }\n",
              "</style>\n",
              "<table border=\"1\" class=\"dataframe\">\n",
              "  <thead>\n",
              "    <tr style=\"text-align: right;\">\n",
              "      <th></th>\n",
              "      <th>customer_id</th>\n",
              "      <th>product_name</th>\n",
              "      <th>total_sales</th>\n",
              "    </tr>\n",
              "  </thead>\n",
              "  <tbody>\n",
              "    <tr>\n",
              "      <th>0</th>\n",
              "      <td>1</td>\n",
              "      <td>Camera</td>\n",
              "      <td>2071.531202</td>\n",
              "    </tr>\n",
              "    <tr>\n",
              "      <th>1</th>\n",
              "      <td>1</td>\n",
              "      <td>Laptop</td>\n",
              "      <td>2409.043864</td>\n",
              "    </tr>\n",
              "    <tr>\n",
              "      <th>2</th>\n",
              "      <td>1</td>\n",
              "      <td>Phone</td>\n",
              "      <td>2139.401815</td>\n",
              "    </tr>\n",
              "    <tr>\n",
              "      <th>3</th>\n",
              "      <td>1</td>\n",
              "      <td>TV</td>\n",
              "      <td>1063.531322</td>\n",
              "    </tr>\n",
              "    <tr>\n",
              "      <th>4</th>\n",
              "      <td>2</td>\n",
              "      <td>Camera</td>\n",
              "      <td>2345.252477</td>\n",
              "    </tr>\n",
              "    <tr>\n",
              "      <th>...</th>\n",
              "      <td>...</td>\n",
              "      <td>...</td>\n",
              "      <td>...</td>\n",
              "    </tr>\n",
              "    <tr>\n",
              "      <th>181</th>\n",
              "      <td>49</td>\n",
              "      <td>TV</td>\n",
              "      <td>1652.898348</td>\n",
              "    </tr>\n",
              "    <tr>\n",
              "      <th>182</th>\n",
              "      <td>50</td>\n",
              "      <td>Camera</td>\n",
              "      <td>2185.883877</td>\n",
              "    </tr>\n",
              "    <tr>\n",
              "      <th>183</th>\n",
              "      <td>50</td>\n",
              "      <td>Laptop</td>\n",
              "      <td>546.915469</td>\n",
              "    </tr>\n",
              "    <tr>\n",
              "      <th>184</th>\n",
              "      <td>50</td>\n",
              "      <td>Phone</td>\n",
              "      <td>750.300776</td>\n",
              "    </tr>\n",
              "    <tr>\n",
              "      <th>185</th>\n",
              "      <td>50</td>\n",
              "      <td>TV</td>\n",
              "      <td>1550.257011</td>\n",
              "    </tr>\n",
              "  </tbody>\n",
              "</table>\n",
              "<p>186 rows × 3 columns</p>\n",
              "</div>\n",
              "    <div class=\"colab-df-buttons\">\n",
              "\n",
              "  <div class=\"colab-df-container\">\n",
              "    <button class=\"colab-df-convert\" onclick=\"convertToInteractive('df-e9345880-bd56-4710-ba6d-d6bb11e70bb4')\"\n",
              "            title=\"Convert this dataframe to an interactive table.\"\n",
              "            style=\"display:none;\">\n",
              "\n",
              "  <svg xmlns=\"http://www.w3.org/2000/svg\" height=\"24px\" viewBox=\"0 -960 960 960\">\n",
              "    <path d=\"M120-120v-720h720v720H120Zm60-500h600v-160H180v160Zm220 220h160v-160H400v160Zm0 220h160v-160H400v160ZM180-400h160v-160H180v160Zm440 0h160v-160H620v160ZM180-180h160v-160H180v160Zm440 0h160v-160H620v160Z\"/>\n",
              "  </svg>\n",
              "    </button>\n",
              "\n",
              "  <style>\n",
              "    .colab-df-container {\n",
              "      display:flex;\n",
              "      gap: 12px;\n",
              "    }\n",
              "\n",
              "    .colab-df-convert {\n",
              "      background-color: #E8F0FE;\n",
              "      border: none;\n",
              "      border-radius: 50%;\n",
              "      cursor: pointer;\n",
              "      display: none;\n",
              "      fill: #1967D2;\n",
              "      height: 32px;\n",
              "      padding: 0 0 0 0;\n",
              "      width: 32px;\n",
              "    }\n",
              "\n",
              "    .colab-df-convert:hover {\n",
              "      background-color: #E2EBFA;\n",
              "      box-shadow: 0px 1px 2px rgba(60, 64, 67, 0.3), 0px 1px 3px 1px rgba(60, 64, 67, 0.15);\n",
              "      fill: #174EA6;\n",
              "    }\n",
              "\n",
              "    .colab-df-buttons div {\n",
              "      margin-bottom: 4px;\n",
              "    }\n",
              "\n",
              "    [theme=dark] .colab-df-convert {\n",
              "      background-color: #3B4455;\n",
              "      fill: #D2E3FC;\n",
              "    }\n",
              "\n",
              "    [theme=dark] .colab-df-convert:hover {\n",
              "      background-color: #434B5C;\n",
              "      box-shadow: 0px 1px 3px 1px rgba(0, 0, 0, 0.15);\n",
              "      filter: drop-shadow(0px 1px 2px rgba(0, 0, 0, 0.3));\n",
              "      fill: #FFFFFF;\n",
              "    }\n",
              "  </style>\n",
              "\n",
              "    <script>\n",
              "      const buttonEl =\n",
              "        document.querySelector('#df-e9345880-bd56-4710-ba6d-d6bb11e70bb4 button.colab-df-convert');\n",
              "      buttonEl.style.display =\n",
              "        google.colab.kernel.accessAllowed ? 'block' : 'none';\n",
              "\n",
              "      async function convertToInteractive(key) {\n",
              "        const element = document.querySelector('#df-e9345880-bd56-4710-ba6d-d6bb11e70bb4');\n",
              "        const dataTable =\n",
              "          await google.colab.kernel.invokeFunction('convertToInteractive',\n",
              "                                                    [key], {});\n",
              "        if (!dataTable) return;\n",
              "\n",
              "        const docLinkHtml = 'Like what you see? Visit the ' +\n",
              "          '<a target=\"_blank\" href=https://colab.research.google.com/notebooks/data_table.ipynb>data table notebook</a>'\n",
              "          + ' to learn more about interactive tables.';\n",
              "        element.innerHTML = '';\n",
              "        dataTable['output_type'] = 'display_data';\n",
              "        await google.colab.output.renderOutput(dataTable, element);\n",
              "        const docLink = document.createElement('div');\n",
              "        docLink.innerHTML = docLinkHtml;\n",
              "        element.appendChild(docLink);\n",
              "      }\n",
              "    </script>\n",
              "  </div>\n",
              "\n",
              "\n",
              "<div id=\"df-ade73b4d-4bf9-4afe-8333-b49b43889e12\">\n",
              "  <button class=\"colab-df-quickchart\" onclick=\"quickchart('df-ade73b4d-4bf9-4afe-8333-b49b43889e12')\"\n",
              "            title=\"Suggest charts.\"\n",
              "            style=\"display:none;\">\n",
              "\n",
              "<svg xmlns=\"http://www.w3.org/2000/svg\" height=\"24px\"viewBox=\"0 0 24 24\"\n",
              "     width=\"24px\">\n",
              "    <g>\n",
              "        <path d=\"M19 3H5c-1.1 0-2 .9-2 2v14c0 1.1.9 2 2 2h14c1.1 0 2-.9 2-2V5c0-1.1-.9-2-2-2zM9 17H7v-7h2v7zm4 0h-2V7h2v10zm4 0h-2v-4h2v4z\"/>\n",
              "    </g>\n",
              "</svg>\n",
              "  </button>\n",
              "\n",
              "<style>\n",
              "  .colab-df-quickchart {\n",
              "      --bg-color: #E8F0FE;\n",
              "      --fill-color: #1967D2;\n",
              "      --hover-bg-color: #E2EBFA;\n",
              "      --hover-fill-color: #174EA6;\n",
              "      --disabled-fill-color: #AAA;\n",
              "      --disabled-bg-color: #DDD;\n",
              "  }\n",
              "\n",
              "  [theme=dark] .colab-df-quickchart {\n",
              "      --bg-color: #3B4455;\n",
              "      --fill-color: #D2E3FC;\n",
              "      --hover-bg-color: #434B5C;\n",
              "      --hover-fill-color: #FFFFFF;\n",
              "      --disabled-bg-color: #3B4455;\n",
              "      --disabled-fill-color: #666;\n",
              "  }\n",
              "\n",
              "  .colab-df-quickchart {\n",
              "    background-color: var(--bg-color);\n",
              "    border: none;\n",
              "    border-radius: 50%;\n",
              "    cursor: pointer;\n",
              "    display: none;\n",
              "    fill: var(--fill-color);\n",
              "    height: 32px;\n",
              "    padding: 0;\n",
              "    width: 32px;\n",
              "  }\n",
              "\n",
              "  .colab-df-quickchart:hover {\n",
              "    background-color: var(--hover-bg-color);\n",
              "    box-shadow: 0 1px 2px rgba(60, 64, 67, 0.3), 0 1px 3px 1px rgba(60, 64, 67, 0.15);\n",
              "    fill: var(--button-hover-fill-color);\n",
              "  }\n",
              "\n",
              "  .colab-df-quickchart-complete:disabled,\n",
              "  .colab-df-quickchart-complete:disabled:hover {\n",
              "    background-color: var(--disabled-bg-color);\n",
              "    fill: var(--disabled-fill-color);\n",
              "    box-shadow: none;\n",
              "  }\n",
              "\n",
              "  .colab-df-spinner {\n",
              "    border: 2px solid var(--fill-color);\n",
              "    border-color: transparent;\n",
              "    border-bottom-color: var(--fill-color);\n",
              "    animation:\n",
              "      spin 1s steps(1) infinite;\n",
              "  }\n",
              "\n",
              "  @keyframes spin {\n",
              "    0% {\n",
              "      border-color: transparent;\n",
              "      border-bottom-color: var(--fill-color);\n",
              "      border-left-color: var(--fill-color);\n",
              "    }\n",
              "    20% {\n",
              "      border-color: transparent;\n",
              "      border-left-color: var(--fill-color);\n",
              "      border-top-color: var(--fill-color);\n",
              "    }\n",
              "    30% {\n",
              "      border-color: transparent;\n",
              "      border-left-color: var(--fill-color);\n",
              "      border-top-color: var(--fill-color);\n",
              "      border-right-color: var(--fill-color);\n",
              "    }\n",
              "    40% {\n",
              "      border-color: transparent;\n",
              "      border-right-color: var(--fill-color);\n",
              "      border-top-color: var(--fill-color);\n",
              "    }\n",
              "    60% {\n",
              "      border-color: transparent;\n",
              "      border-right-color: var(--fill-color);\n",
              "    }\n",
              "    80% {\n",
              "      border-color: transparent;\n",
              "      border-right-color: var(--fill-color);\n",
              "      border-bottom-color: var(--fill-color);\n",
              "    }\n",
              "    90% {\n",
              "      border-color: transparent;\n",
              "      border-bottom-color: var(--fill-color);\n",
              "    }\n",
              "  }\n",
              "</style>\n",
              "\n",
              "  <script>\n",
              "    async function quickchart(key) {\n",
              "      const quickchartButtonEl =\n",
              "        document.querySelector('#' + key + ' button');\n",
              "      quickchartButtonEl.disabled = true;  // To prevent multiple clicks.\n",
              "      quickchartButtonEl.classList.add('colab-df-spinner');\n",
              "      try {\n",
              "        const charts = await google.colab.kernel.invokeFunction(\n",
              "            'suggestCharts', [key], {});\n",
              "      } catch (error) {\n",
              "        console.error('Error during call to suggestCharts:', error);\n",
              "      }\n",
              "      quickchartButtonEl.classList.remove('colab-df-spinner');\n",
              "      quickchartButtonEl.classList.add('colab-df-quickchart-complete');\n",
              "    }\n",
              "    (() => {\n",
              "      let quickchartButtonEl =\n",
              "        document.querySelector('#df-ade73b4d-4bf9-4afe-8333-b49b43889e12 button');\n",
              "      quickchartButtonEl.style.display =\n",
              "        google.colab.kernel.accessAllowed ? 'block' : 'none';\n",
              "    })();\n",
              "  </script>\n",
              "</div>\n",
              "    </div>\n",
              "  </div>\n"
            ]
          },
          "metadata": {},
          "execution_count": 22
        }
      ]
    },
    {
      "cell_type": "markdown",
      "source": [
        "## Use Case 3: GPT For Data Wrangling"
      ],
      "metadata": {
        "id": "UtTfjzfYAVQa"
      }
    },
    {
      "cell_type": "markdown",
      "source": [
        "This section is devoted to using GPT models for data wrangling tasks in Pandas. You'll discover how AI can assist in cleaning, transforming, and enriching your data for easier analysis."
      ],
      "metadata": {
        "id": "Jm3Trxgk5SlF"
      }
    },
    {
      "cell_type": "code",
      "source": [
        "# Install Pandas AI\n",
        "# Repo: https://github.com/gventuri/pandas-ai\n",
        "!pip install pandasai"
      ],
      "metadata": {
        "id": "bL-el8lcAXbP"
      },
      "execution_count": null,
      "outputs": []
    },
    {
      "cell_type": "code",
      "source": [
        "import pandas as pd\n",
        "from pandasai import SmartDataframe\n",
        "\n",
        "# Instantiate a LLM\n",
        "from pandasai.llm import OpenAI\n",
        "llm = OpenAI(api_token = os.getenv(\"API_KEY\"))\n",
        "\n",
        "sdf = SmartDataframe(products_df, config={\"llm\": llm})"
      ],
      "metadata": {
        "id": "zbMNY6U90E2-"
      },
      "execution_count": 25,
      "outputs": []
    },
    {
      "cell_type": "markdown",
      "source": [
        "### Chat with your dataframe"
      ],
      "metadata": {
        "id": "wF7wnQvB3saM"
      }
    },
    {
      "cell_type": "code",
      "source": [
        "sdf.chat('Which product sold most?')"
      ],
      "metadata": {
        "colab": {
          "base_uri": "https://localhost:8080/",
          "height": 52
        },
        "id": "mEUZ4C9q3sFf",
        "outputId": "1d3af6cb-500a-47fc-ad8e-1191b3a1e542"
      },
      "execution_count": 29,
      "outputs": [
        {
          "output_type": "stream",
          "name": "stderr",
          "text": [
            "WARNING:pandasai.helpers.logger:Error of executing code\n"
          ]
        },
        {
          "output_type": "execute_result",
          "data": {
            "text/plain": [
              "'The product sold most is TV.'"
            ],
            "application/vnd.google.colaboratory.intrinsic+json": {
              "type": "string"
            }
          },
          "metadata": {},
          "execution_count": 29
        }
      ]
    },
    {
      "cell_type": "markdown",
      "source": [
        "Return a dataframe"
      ],
      "metadata": {
        "id": "Z5xhgxTG4DBD"
      }
    },
    {
      "cell_type": "code",
      "source": [
        "sdf.chat(\"Return the top 3 products by sales as a dataframe\")"
      ],
      "metadata": {
        "colab": {
          "base_uri": "https://localhost:8080/",
          "height": 159
        },
        "id": "eoKd7R8k4EOe",
        "outputId": "0b2486a8-5cb8-4aa9-8515-1b27eb376e27"
      },
      "execution_count": 27,
      "outputs": [
        {
          "output_type": "stream",
          "name": "stderr",
          "text": [
            "WARNING:pandasai.helpers.logger:Error of executing code\n"
          ]
        },
        {
          "output_type": "execute_result",
          "data": {
            "text/plain": [
              "  product_name   total_sales\n",
              "0           TV  76095.375536\n",
              "1       Laptop  70976.574967\n",
              "2        Phone  65932.735493"
            ],
            "text/html": [
              "<div>\n",
              "<style scoped>\n",
              "    .dataframe tbody tr th:only-of-type {\n",
              "        vertical-align: middle;\n",
              "    }\n",
              "\n",
              "    .dataframe tbody tr th {\n",
              "        vertical-align: top;\n",
              "    }\n",
              "\n",
              "    .dataframe thead th {\n",
              "        text-align: right;\n",
              "    }\n",
              "</style>\n",
              "<table border=\"1\" class=\"dataframe\">\n",
              "  <thead>\n",
              "    <tr style=\"text-align: right;\">\n",
              "      <th></th>\n",
              "      <th>product_name</th>\n",
              "      <th>total_sales</th>\n",
              "    </tr>\n",
              "  </thead>\n",
              "  <tbody>\n",
              "    <tr>\n",
              "      <th>0</th>\n",
              "      <td>TV</td>\n",
              "      <td>76095.375536</td>\n",
              "    </tr>\n",
              "    <tr>\n",
              "      <th>1</th>\n",
              "      <td>Laptop</td>\n",
              "      <td>70976.574967</td>\n",
              "    </tr>\n",
              "    <tr>\n",
              "      <th>2</th>\n",
              "      <td>Phone</td>\n",
              "      <td>65932.735493</td>\n",
              "    </tr>\n",
              "  </tbody>\n",
              "</table>\n",
              "</div>"
            ]
          },
          "metadata": {},
          "execution_count": 27
        }
      ]
    },
    {
      "cell_type": "markdown",
      "source": [
        "Print the code"
      ],
      "metadata": {
        "id": "nusVKlVv4ff3"
      }
    },
    {
      "cell_type": "code",
      "source": [
        "print(sdf.last_code_generated)"
      ],
      "metadata": {
        "colab": {
          "base_uri": "https://localhost:8080/"
        },
        "id": "UoL9lsmn4gtf",
        "outputId": "0f8c2133-5015-4254-dcef-5daaa48223ea"
      },
      "execution_count": 30,
      "outputs": [
        {
          "output_type": "stream",
          "name": "stdout",
          "text": [
            "def analyze_data(dfs: list[pd.DataFrame]) ->dict:\n",
            "    \"\"\"\n",
            "    Analyze the data\n",
            "    1. Prepare: Preprocessing and cleaning data if necessary\n",
            "    2. Process: Manipulating data for analysis (grouping, filtering, aggregating, etc.)\n",
            "    3. Analyze: Conducting the actual analysis (if the user asks to plot a chart save it to an image in temp_chart.png and do not show the chart.)\n",
            "    At the end, return a dictionary of:\n",
            "    - type (possible values \"string\", \"number\", \"dataframe\", \"plot\")\n",
            "    - value (can be a string, a dataframe or the path of the plot, NOT a dictionary)\n",
            "    Examples: \n",
            "        { \"type\": \"string\", \"value\": \"The highest salary is $9,000.\" }\n",
            "        or\n",
            "        { \"type\": \"number\", \"value\": 125 }\n",
            "        or\n",
            "        { \"type\": \"dataframe\", \"value\": pd.DataFrame({...}) }\n",
            "        or\n",
            "        { \"type\": \"plot\", \"value\": \"temp_chart.png\" }\n",
            "    \"\"\"\n",
            "    df = dfs[0]\n",
            "    product_sales = df.groupby('product_name')['total_sales'].sum().reset_index()\n",
            "    max_sales_product = product_sales.loc[product_sales['total_sales'].idxmax()]\n",
            "    result = {'type': 'string', 'value': f\"The product sold most is {max_sales_product['product_name']}.\"}\n",
            "    return result\n"
          ]
        }
      ]
    },
    {
      "cell_type": "markdown",
      "source": [
        "Manipulate the dataframe"
      ],
      "metadata": {
        "id": "Dk584Qvn4swS"
      }
    },
    {
      "cell_type": "code",
      "source": [
        "sdf = sdf.chat(\"Replace total sales for customer ID 50 with NA\")"
      ],
      "metadata": {
        "id": "g3GSbk_94sd2"
      },
      "execution_count": 33,
      "outputs": []
    },
    {
      "cell_type": "markdown",
      "source": [
        "Clean data"
      ],
      "metadata": {
        "id": "qKAgJO5-5JT1"
      }
    },
    {
      "cell_type": "code",
      "source": [
        "sdf.clean_data()"
      ],
      "metadata": {
        "colab": {
          "base_uri": "https://localhost:8080/",
          "height": 419
        },
        "id": "JGZmaHdV48Ky",
        "outputId": "aa17b561-2e75-45ba-d028-9813191a9f40"
      },
      "execution_count": 37,
      "outputs": [
        {
          "output_type": "execute_result",
          "data": {
            "text/plain": [
              "     customer_id product_name  total_sales\n",
              "0              1       Camera  2071.531202\n",
              "1              1       Laptop  2409.043864\n",
              "2              1        Phone  2139.401815\n",
              "3              1           TV  1063.531322\n",
              "4              2       Camera  2345.252477\n",
              "..           ...          ...          ...\n",
              "177           48           TV   444.816770\n",
              "178           49       Camera  1229.130590\n",
              "179           49       Laptop  2751.317755\n",
              "180           49        Phone  1949.990515\n",
              "181           49           TV  1652.898348\n",
              "\n",
              "[182 rows x 3 columns]"
            ],
            "text/html": [
              "<div>\n",
              "<style scoped>\n",
              "    .dataframe tbody tr th:only-of-type {\n",
              "        vertical-align: middle;\n",
              "    }\n",
              "\n",
              "    .dataframe tbody tr th {\n",
              "        vertical-align: top;\n",
              "    }\n",
              "\n",
              "    .dataframe thead th {\n",
              "        text-align: right;\n",
              "    }\n",
              "</style>\n",
              "<table border=\"1\" class=\"dataframe\">\n",
              "  <thead>\n",
              "    <tr style=\"text-align: right;\">\n",
              "      <th></th>\n",
              "      <th>customer_id</th>\n",
              "      <th>product_name</th>\n",
              "      <th>total_sales</th>\n",
              "    </tr>\n",
              "  </thead>\n",
              "  <tbody>\n",
              "    <tr>\n",
              "      <th>0</th>\n",
              "      <td>1</td>\n",
              "      <td>Camera</td>\n",
              "      <td>2071.531202</td>\n",
              "    </tr>\n",
              "    <tr>\n",
              "      <th>1</th>\n",
              "      <td>1</td>\n",
              "      <td>Laptop</td>\n",
              "      <td>2409.043864</td>\n",
              "    </tr>\n",
              "    <tr>\n",
              "      <th>2</th>\n",
              "      <td>1</td>\n",
              "      <td>Phone</td>\n",
              "      <td>2139.401815</td>\n",
              "    </tr>\n",
              "    <tr>\n",
              "      <th>3</th>\n",
              "      <td>1</td>\n",
              "      <td>TV</td>\n",
              "      <td>1063.531322</td>\n",
              "    </tr>\n",
              "    <tr>\n",
              "      <th>4</th>\n",
              "      <td>2</td>\n",
              "      <td>Camera</td>\n",
              "      <td>2345.252477</td>\n",
              "    </tr>\n",
              "    <tr>\n",
              "      <th>...</th>\n",
              "      <td>...</td>\n",
              "      <td>...</td>\n",
              "      <td>...</td>\n",
              "    </tr>\n",
              "    <tr>\n",
              "      <th>177</th>\n",
              "      <td>48</td>\n",
              "      <td>TV</td>\n",
              "      <td>444.816770</td>\n",
              "    </tr>\n",
              "    <tr>\n",
              "      <th>178</th>\n",
              "      <td>49</td>\n",
              "      <td>Camera</td>\n",
              "      <td>1229.130590</td>\n",
              "    </tr>\n",
              "    <tr>\n",
              "      <th>179</th>\n",
              "      <td>49</td>\n",
              "      <td>Laptop</td>\n",
              "      <td>2751.317755</td>\n",
              "    </tr>\n",
              "    <tr>\n",
              "      <th>180</th>\n",
              "      <td>49</td>\n",
              "      <td>Phone</td>\n",
              "      <td>1949.990515</td>\n",
              "    </tr>\n",
              "    <tr>\n",
              "      <th>181</th>\n",
              "      <td>49</td>\n",
              "      <td>TV</td>\n",
              "      <td>1652.898348</td>\n",
              "    </tr>\n",
              "  </tbody>\n",
              "</table>\n",
              "<p>182 rows × 3 columns</p>\n",
              "</div>"
            ]
          },
          "metadata": {},
          "execution_count": 37
        }
      ]
    },
    {
      "cell_type": "code",
      "source": [
        "print(sdf.last_code_generated)"
      ],
      "metadata": {
        "colab": {
          "base_uri": "https://localhost:8080/"
        },
        "id": "RXvzsMzC5js6",
        "outputId": "fa611c9e-26f5-4bea-a643-06a2e1d960e0"
      },
      "execution_count": 41,
      "outputs": [
        {
          "output_type": "stream",
          "name": "stdout",
          "text": [
            "def analyze_data(dfs: list[pd.DataFrame]) ->dict:\n",
            "    \"\"\"\n",
            "    Analyze the data\n",
            "    1. Prepare: Preprocessing and cleaning data if necessary\n",
            "    2. Process: Manipulating data for analysis (grouping, filtering, aggregating, etc.)\n",
            "    3. Analyze: Conducting the actual analysis (if the user asks to plot a chart save it to an image in temp_chart.png and do not show the chart.)\n",
            "    At the end, return a dictionary of:\n",
            "    - type (possible values \"string\", \"number\", \"dataframe\", \"plot\")\n",
            "    - value (can be a string, a dataframe or the path of the plot, NOT a dictionary)\n",
            "    Examples: \n",
            "        { \"type\": \"string\", \"value\": \"The highest salary is $9,000.\" }\n",
            "        or\n",
            "        { \"type\": \"number\", \"value\": 125 }\n",
            "        or\n",
            "        { \"type\": \"dataframe\", \"value\": pd.DataFrame({...}) }\n",
            "        or\n",
            "        { \"type\": \"plot\", \"value\": \"temp_chart.png\" }\n",
            "    \"\"\"\n",
            "    df_cleaned = dfs[0].copy()\n",
            "    df_cleaned.dropna(inplace=True)\n",
            "    df_cleaned['total_sales'] = pd.to_numeric(df_cleaned['total_sales'], errors='coerce')\n",
            "    return {'type': 'dataframe', 'value': df_cleaned}\n"
          ]
        }
      ]
    },
    {
      "cell_type": "markdown",
      "source": [
        "Missing value imputation"
      ],
      "metadata": {
        "id": "D_rb9wO1503-"
      }
    },
    {
      "cell_type": "code",
      "source": [
        "sdf.chat(\"Impute the missing values for total sales using the average for each product name\")"
      ],
      "metadata": {
        "colab": {
          "base_uri": "https://localhost:8080/",
          "height": 419
        },
        "id": "GEYdLck45wH9",
        "outputId": "95120965-b6bd-4649-b5ad-bbb4e7601449"
      },
      "execution_count": 43,
      "outputs": [
        {
          "output_type": "execute_result",
          "data": {
            "text/plain": [
              "     customer_id product_name  total_sales\n",
              "0              1       Camera  2071.531202\n",
              "1              1       Laptop  2409.043864\n",
              "2              1        Phone  2139.401815\n",
              "3              1           TV  1063.531322\n",
              "4              2       Camera  2345.252477\n",
              "..           ...          ...          ...\n",
              "181           49           TV  1652.898348\n",
              "182           50       Camera  1250.185852\n",
              "183           50       Laptop  1531.079554\n",
              "184           50        Phone  1417.009450\n",
              "185           50           TV  1586.066352\n",
              "\n",
              "[186 rows x 3 columns]"
            ],
            "text/html": [
              "<div>\n",
              "<style scoped>\n",
              "    .dataframe tbody tr th:only-of-type {\n",
              "        vertical-align: middle;\n",
              "    }\n",
              "\n",
              "    .dataframe tbody tr th {\n",
              "        vertical-align: top;\n",
              "    }\n",
              "\n",
              "    .dataframe thead th {\n",
              "        text-align: right;\n",
              "    }\n",
              "</style>\n",
              "<table border=\"1\" class=\"dataframe\">\n",
              "  <thead>\n",
              "    <tr style=\"text-align: right;\">\n",
              "      <th></th>\n",
              "      <th>customer_id</th>\n",
              "      <th>product_name</th>\n",
              "      <th>total_sales</th>\n",
              "    </tr>\n",
              "  </thead>\n",
              "  <tbody>\n",
              "    <tr>\n",
              "      <th>0</th>\n",
              "      <td>1</td>\n",
              "      <td>Camera</td>\n",
              "      <td>2071.531202</td>\n",
              "    </tr>\n",
              "    <tr>\n",
              "      <th>1</th>\n",
              "      <td>1</td>\n",
              "      <td>Laptop</td>\n",
              "      <td>2409.043864</td>\n",
              "    </tr>\n",
              "    <tr>\n",
              "      <th>2</th>\n",
              "      <td>1</td>\n",
              "      <td>Phone</td>\n",
              "      <td>2139.401815</td>\n",
              "    </tr>\n",
              "    <tr>\n",
              "      <th>3</th>\n",
              "      <td>1</td>\n",
              "      <td>TV</td>\n",
              "      <td>1063.531322</td>\n",
              "    </tr>\n",
              "    <tr>\n",
              "      <th>4</th>\n",
              "      <td>2</td>\n",
              "      <td>Camera</td>\n",
              "      <td>2345.252477</td>\n",
              "    </tr>\n",
              "    <tr>\n",
              "      <th>...</th>\n",
              "      <td>...</td>\n",
              "      <td>...</td>\n",
              "      <td>...</td>\n",
              "    </tr>\n",
              "    <tr>\n",
              "      <th>181</th>\n",
              "      <td>49</td>\n",
              "      <td>TV</td>\n",
              "      <td>1652.898348</td>\n",
              "    </tr>\n",
              "    <tr>\n",
              "      <th>182</th>\n",
              "      <td>50</td>\n",
              "      <td>Camera</td>\n",
              "      <td>1250.185852</td>\n",
              "    </tr>\n",
              "    <tr>\n",
              "      <th>183</th>\n",
              "      <td>50</td>\n",
              "      <td>Laptop</td>\n",
              "      <td>1531.079554</td>\n",
              "    </tr>\n",
              "    <tr>\n",
              "      <th>184</th>\n",
              "      <td>50</td>\n",
              "      <td>Phone</td>\n",
              "      <td>1417.009450</td>\n",
              "    </tr>\n",
              "    <tr>\n",
              "      <th>185</th>\n",
              "      <td>50</td>\n",
              "      <td>TV</td>\n",
              "      <td>1586.066352</td>\n",
              "    </tr>\n",
              "  </tbody>\n",
              "</table>\n",
              "<p>186 rows × 3 columns</p>\n",
              "</div>"
            ]
          },
          "metadata": {},
          "execution_count": 43
        }
      ]
    },
    {
      "cell_type": "code",
      "source": [
        "print(sdf.last_code_generated)"
      ],
      "metadata": {
        "colab": {
          "base_uri": "https://localhost:8080/"
        },
        "id": "oHZbGXRz6XSg",
        "outputId": "d088efde-4479-4500-df9c-acde1d4b8b64"
      },
      "execution_count": 49,
      "outputs": [
        {
          "output_type": "stream",
          "name": "stdout",
          "text": [
            "def analyze_data(dfs: list[pd.DataFrame]) ->dict:\n",
            "    \"\"\"\n",
            "    Analyze the data\n",
            "    1. Prepare: Preprocessing and cleaning data if necessary\n",
            "    2. Process: Manipulating data for analysis (grouping, filtering, aggregating, etc.)\n",
            "    3. Analyze: Conducting the actual analysis (if the user asks to plot a chart save it to an image in temp_chart.png and do not show the chart.)\n",
            "    At the end, return a dictionary of:\n",
            "    - type (possible values \"string\", \"number\", \"dataframe\", \"plot\")\n",
            "    - value (can be a string, a dataframe or the path of the plot, NOT a dictionary)\n",
            "    Examples: \n",
            "        { \"type\": \"string\", \"value\": \"The highest salary is $9,000.\" }\n",
            "        or\n",
            "        { \"type\": \"number\", \"value\": 125 }\n",
            "        or\n",
            "        { \"type\": \"dataframe\", \"value\": pd.DataFrame({...}) }\n",
            "        or\n",
            "        { \"type\": \"plot\", \"value\": \"temp_chart.png\" }\n",
            "    \"\"\"\n",
            "    df = dfs[0].copy()\n",
            "    df['total_sales'] = df.groupby('product_name')['total_sales'].transform(lambda x: x.fillna(x.mean()))\n",
            "    return {'type': 'dataframe', 'value': df}\n"
          ]
        }
      ]
    },
    {
      "cell_type": "markdown",
      "source": [
        "## Use Case 4: Create visuals"
      ],
      "metadata": {
        "id": "1Jcw9kqCAeqD"
      }
    },
    {
      "cell_type": "markdown",
      "source": [
        "### With Pandas AI:"
      ],
      "metadata": {
        "id": "lk9RD9T01N56"
      }
    },
    {
      "cell_type": "code",
      "source": [
        "sdf.chat(\"Plot a barchart of the total_sales by product name, sort by total sales\")"
      ],
      "metadata": {
        "colab": {
          "base_uri": "https://localhost:8080/",
          "height": 334
        },
        "id": "Jbcm5qXC6n3m",
        "outputId": "34117216-0d96-4123-9f62-5e1ba34b62e4"
      },
      "execution_count": 52,
      "outputs": [
        {
          "output_type": "display_data",
          "data": {
            "text/plain": [
              "<Figure size 640x480 with 1 Axes>"
            ],
            "image/png": "[encoded data removed]"
          },
          "metadata": {}
        }
      ]
    },
    {
      "cell_type": "markdown",
      "source": [
        "### Custom implementation"
      ],
      "metadata": {
        "id": "sOiKH09g1NGi"
      }
    },
    {
      "cell_type": "code",
      "source": [
        "def visuals_gpt(natural_language_query, dataframe):\n",
        "\n",
        "  df = dataframe\n",
        "  system_prompt = \"\"\"\n",
        "\n",
        "  ROLE: You are a Python code generator.\n",
        "\n",
        "  TASK: I'll give you a pandas dataframe and a description about a visualization I need for this data.\n",
        "  You will take my description and translate it into functional Python code that works with the dataset I provided you.\n",
        "\n",
        "  CONTEXT: ## My dataframe is called `df`. Here are the first 30 rows indicated in triple backticks:\n",
        "  ```\n",
        "  {}\n",
        "  ```\n",
        "\n",
        "  OUTPUT: Return ONLY the Python code in plain text, no markdown. Skip pre- and post text.\n",
        "\n",
        "  \"\"\".format(dataframe.head(30))\n",
        "\n",
        "  completion = openai.ChatCompletion.create(\n",
        "  model=\"gpt-4\",\n",
        "  messages=[\n",
        "    {\"role\": \"system\", \"content\": system_prompt},\n",
        "    {\"role\": \"user\", \"content\": str(natural_language_query)}\n",
        "  ],\n",
        "  temperature=0.0\n",
        "  )\n",
        "  script = completion.choices[0].message.content\n",
        "  print(script)\n",
        "\n",
        "  # Delete markdown backticks that often come with the output response\n",
        "  # Split the multi-line string into a list of lines\n",
        "  lines = script.strip().split('\\n')\n",
        "\n",
        "  # Check and remove the first line if it starts with a backtick\n",
        "  if lines[0].startswith('`'):\n",
        "      lines.pop(0)\n",
        "\n",
        "  # Check and remove the last line if it starts with a backtick\n",
        "  if lines[-1].startswith('`'):\n",
        "      lines.pop(-1)\n",
        "\n",
        "  # Join the list back into a multi-line string\n",
        "  script = '\\n'.join(lines)\n",
        "\n",
        "  visual = exec(script)\n",
        "  return(visual)"
      ],
      "metadata": {
        "id": "xOK0y1tXA3GX"
      },
      "execution_count": 53,
      "outputs": []
    },
    {
      "cell_type": "markdown",
      "source": [
        "**Question:**\n",
        "<blockquote>total sales by product as barchart, x-labels rotated 45 degrees, different colors by product name</blockquote>"
      ],
      "metadata": {
        "id": "LrwpCJoJ7Ylp"
      }
    },
    {
      "cell_type": "code",
      "source": [
        "visuals_gpt(input(), products_df)"
      ],
      "metadata": {
        "colab": {
          "base_uri": "https://localhost:8080/",
          "height": 849
        },
        "id": "F4X5Lr2ZCYBQ",
        "outputId": "fe658705-d34f-4486-a746-ab7bad620ecb"
      },
      "execution_count": 55,
      "outputs": [
        {
          "output_type": "stream",
          "name": "stdout",
          "text": [
            "total sales by product as barchart, x-labels rotated 45 degrees, different colors by product name\n",
            "import matplotlib.pyplot as plt\n",
            "import seaborn as sns\n",
            "\n",
            "# Group by product_name and sum total_sales\n",
            "product_sales = df.groupby('product_name')['total_sales'].sum().reset_index()\n",
            "\n",
            "# Create bar chart\n",
            "plt.figure(figsize=(10,6))\n",
            "sns.barplot(x='product_name', y='total_sales', data=product_sales)\n",
            "\n",
            "# Rotate x-labels 45 degrees\n",
            "plt.xticks(rotation=45)\n",
            "\n",
            "# Show the plot\n",
            "plt.show()\n"
          ]
        },
        {
          "output_type": "display_data",
          "data": {
            "text/plain": [
              "<Figure size 1000x600 with 1 Axes>"
            ],
            "image/png": "[encoded data removed]"
          },
          "metadata": {}
        }
      ]
    },
    {
      "cell_type": "markdown",
      "source": [
        "Advanced plotting"
      ],
      "metadata": {
        "id": "J2hVoF5k7mSp"
      }
    },
    {
      "cell_type": "markdown",
      "source": [
        "**Question:**\n",
        "<blockquote>Barcharts sales by customer ID for the top 5 customers, grouped by product type</blockquote>"
      ],
      "metadata": {
        "id": "GXbIEiSi7qmx"
      }
    },
    {
      "cell_type": "code",
      "source": [
        "visuals_gpt(input(), products_df)"
      ],
      "metadata": {
        "colab": {
          "base_uri": "https://localhost:8080/",
          "height": 832
        },
        "id": "5DmrwBPzJtge",
        "outputId": "6e360d03-45ff-410b-b91d-8d6fef6f2f3e"
      },
      "execution_count": 57,
      "outputs": [
        {
          "output_type": "stream",
          "name": "stdout",
          "text": [
            "Barcharts sales by customer ID for the top 5 customers, grouped by product type\n",
            "```python\n",
            "import matplotlib.pyplot as plt\n",
            "\n",
            "# Get the top 5 customers by total sales\n",
            "top_5_customers = df.groupby('customer_id')['total_sales'].sum().nlargest(5).index\n",
            "\n",
            "# Filter the dataframe to include only the top 5 customers\n",
            "df_top_5 = df[df['customer_id'].isin(top_5_customers)]\n",
            "\n",
            "# Create a pivot table for the bar chart\n",
            "pivot = df_top_5.pivot_table(values='total_sales', index='customer_id', columns='product_name', aggfunc='sum')\n",
            "\n",
            "# Plot the bar chart\n",
            "pivot.plot(kind='bar', stacked=True)\n",
            "\n",
            "plt.title('Sales by Customer ID for Top 5 Customers, Grouped by Product Type')\n",
            "plt.xlabel('Customer ID')\n",
            "plt.ylabel('Total Sales')\n",
            "plt.show()\n",
            "```\n"
          ]
        },
        {
          "output_type": "display_data",
          "data": {
            "text/plain": [
              "<Figure size 640x480 with 1 Axes>"
            ],
            "image/png": "[encoded data removed]"
          },
          "metadata": {}
        }
      ]
    },
    {
      "cell_type": "markdown",
      "source": [
        "**Question:**\n",
        "<blockquote>Draw a Scatterplot. x-axis = number of products sold, y-axis = total sales per product. One Point= product type</blockquote>"
      ],
      "metadata": {
        "id": "BG8jqMqo7-zl"
      }
    },
    {
      "cell_type": "code",
      "source": [
        "visuals_gpt(input(), products_df)"
      ],
      "metadata": {
        "colab": {
          "base_uri": "https://localhost:8080/",
          "height": 955
        },
        "id": "BfH1dw4A8WbY",
        "outputId": "b9068f14-be94-4419-9225-d7de86cd8954"
      },
      "execution_count": 61,
      "outputs": [
        {
          "output_type": "stream",
          "name": "stdout",
          "text": [
            "Draw a Scatterplot. x-axis = number of products sold, y-axis = total sales per product. One Point= product type\n",
            "```python\n",
            "import matplotlib.pyplot as plt\n",
            "import seaborn as sns\n",
            "\n",
            "# Group by product_name and calculate the number of products sold\n",
            "product_counts = df.groupby('product_name').size().reset_index(name='number_of_products_sold')\n",
            "\n",
            "# Merge with the original dataframe to get total sales per product\n",
            "merged_df = pd.merge(df, product_counts, on='product_name')\n",
            "\n",
            "# Calculate total sales per product\n",
            "total_sales_per_product = merged_df.groupby('product_name')['total_sales'].sum().reset_index()\n",
            "\n",
            "# Merge with the merged_df to get the final dataframe\n",
            "final_df = pd.merge(merged_df, total_sales_per_product, on='product_name', suffixes=('', '_per_product'))\n",
            "\n",
            "# Draw the scatterplot\n",
            "plt.figure(figsize=(10, 6))\n",
            "sns.scatterplot(data=final_df, x='number_of_products_sold', y='total_sales_per_product', hue='product_name')\n",
            "plt.title('Scatterplot of Number of Products Sold vs Total Sales per Product')\n",
            "plt.show()\n",
            "```\n"
          ]
        },
        {
          "output_type": "display_data",
          "data": {
            "text/plain": [
              "<Figure size 1000x600 with 1 Axes>"
            ],
            "image/png": "[encoded data removed]"
          },
          "metadata": {}
        }
      ]
    },
    {
      "cell_type": "markdown",
      "source": [
        "## Use Case 5 - Create an EDA"
      ],
      "metadata": {
        "id": "MfXpvL-HNaGW"
      }
    },
    {
      "cell_type": "code",
      "source": [
        "def eda_gpt(dataframe, target_col_name):\n",
        "\n",
        "  df = dataframe\n",
        "  system_prompt = f\"\"\"\n",
        "\n",
        "  ROLE: You are a Python code generator.\n",
        "\n",
        "  TASK: Please provide a detailed analysis of this dataframe, including summary statistics for each column, relationships with the target column, and suggestions for visualizations to better understand the data.\n",
        "\n",
        "  CONTEXT: ## My dataframe is called `df`. The target column is {target_col_name}.  Here are the first 30 rows indicated in triple backticks:\n",
        "  ```\n",
        "  {dataframe.head(30)}\n",
        "  ```\n",
        "\n",
        "  OUTPUT: Return ONLY the Python code in plain text, no markdown. Skip pre- and post text.\n",
        "\n",
        "  \"\"\"\n",
        "\n",
        "  completion = openai.ChatCompletion.create(\n",
        "  model=\"gpt-4\",\n",
        "  messages=[\n",
        "    {\"role\": \"system\", \"content\": system_prompt}\n",
        "  ],\n",
        "  temperature=0.0\n",
        "  )\n",
        "  script = completion.choices[0].message.content\n",
        "  print(script)\n",
        "\n",
        "  # Delete markdown backticks\n",
        "  # Split the multi-line string into a list of lines\n",
        "  lines = script.strip().split('\\n')\n",
        "\n",
        "  # Check and remove the first line if it starts with a backtick\n",
        "  if lines[0].startswith('`'):\n",
        "      lines.pop(0)\n",
        "\n",
        "  # Check and remove the last line if it starts with a backtick\n",
        "  if lines[-1].startswith('`'):\n",
        "      lines.pop(-1)\n",
        "\n",
        "  # Join the list back into a multi-line string\n",
        "  script = '\\n'.join(lines)\n",
        "\n",
        "  eda = exec(script)\n",
        "  return(eda)"
      ],
      "metadata": {
        "id": "5cVFHWex9mmJ"
      },
      "execution_count": 62,
      "outputs": []
    },
    {
      "cell_type": "code",
      "source": [
        "eda_gpt(products_df, \"product_name\")"
      ],
      "metadata": {
        "colab": {
          "base_uri": "https://localhost:8080/",
          "height": 1000
        },
        "id": "yYCTi6N4OXsG",
        "outputId": "d4d17864-613f-4ae9-caeb-a46991b9cd71"
      },
      "execution_count": 65,
      "outputs": [
        {
          "output_type": "stream",
          "name": "stdout",
          "text": [
            "# Import necessary libraries\n",
            "import pandas as pd\n",
            "import matplotlib.pyplot as plt\n",
            "import seaborn as sns\n",
            "\n",
            "# Summary statistics for each column\n",
            "summary_stats = df.describe(include='all')\n",
            "print(summary_stats)\n",
            "\n",
            "# Check for missing values\n",
            "missing_values = df.isnull().sum()\n",
            "print(missing_values)\n",
            "\n",
            "# Check the unique values in the target column 'product_name'\n",
            "unique_products = df['product_name'].unique()\n",
            "print(unique_products)\n",
            "\n",
            "# Relationship with the target column\n",
            "# Group the data by 'product_name' and calculate the mean of 'total_sales' and 'total_sales_per_customer'\n",
            "grouped_data = df.groupby('product_name').mean()\n",
            "\n",
            "# Visualizations\n",
            "# Bar plot for 'total_sales' for each 'product_name'\n",
            "plt.figure(figsize=(10, 6))\n",
            "sns.barplot(x='product_name', y='total_sales', data=df)\n",
            "plt.title('Total Sales for each Product')\n",
            "plt.show()\n",
            "\n",
            "# Box plot for 'total_sales_per_customer' for each 'product_name'\n",
            "plt.figure(figsize=(10, 6))\n",
            "sns.boxplot(x='product_name', y='total_sales_per_customer', data=df)\n",
            "plt.title('Total Sales per Customer for each Product')\n",
            "plt.show()\n",
            "\n",
            "# Pairplot to visualize the relationship between all numerical variables\n",
            "sns.pairplot(df)\n",
            "plt.show()\n",
            "        customer_id product_name  total_sales  total_sales_per_customer\n",
            "count    186.000000          186   186.000000                186.000000\n",
            "unique          NaN            4          NaN                       NaN\n",
            "top             NaN           TV          NaN                       NaN\n",
            "freq            NaN           48          NaN                       NaN\n",
            "mean      25.758065          NaN  1445.960008               5487.968215\n",
            "std       14.619149          NaN   925.085005               1624.362880\n",
            "min        1.000000          NaN   102.105627               1593.946567\n",
            "25%       13.000000          NaN   745.763256               4308.466099\n",
            "50%       26.000000          NaN  1274.718761               5512.750941\n",
            "75%       38.750000          NaN  2118.383312               6550.582743\n",
            "max       50.000000          NaN  5547.032425               8919.621054\n",
            "customer_id                 0\n",
            "product_name                0\n",
            "total_sales                 0\n",
            "total_sales_per_customer    0\n",
            "dtype: int64\n",
            "['Camera' 'Laptop' 'Phone' 'TV']\n"
          ]
        },
        {
          "output_type": "display_data",
          "data": {
            "text/plain": [
              "<Figure size 1000x600 with 1 Axes>"
            ],
            "image/png": "[encoded data removed]"
          },
          "metadata": {}
        },
        {
          "output_type": "display_data",
          "data": {
            "text/plain": [
              "<Figure size 1000x600 with 1 Axes>"
            ],
            "image/png": "[encoded data removed]"
          },
          "metadata": {}
        },
        {
          "output_type": "display_data",
          "data": {
            "text/plain": [
              "<Figure size 750x750 with 12 Axes>"
            ],
            "image/png": "[encoded data removed]"
          },
          "metadata": {}
        }
      ]
    },
    {
      "cell_type": "markdown",
      "source": [
        "## Limitations"
      ],
      "metadata": {
        "id": "eL4jyzS56mL5"
      }
    },
    {
      "cell_type": "markdown",
      "source": [
        "* Always check your results!\n",
        "* Remember: This is an augmented scenario!\n",
        "* You're in charge."
      ],
      "metadata": {
        "id": "-gjOHl_T6oS6"
      }
    }
  ]
}
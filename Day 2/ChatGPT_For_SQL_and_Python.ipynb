{
  "nbformat": 4,
  "nbformat_minor": 0,
  "metadata": {
    "colab": {
      "provenance": []
    },
    "kernelspec": {
      "name": "python3",
      "display_name": "Python 3"
    },
    "language_info": {
      "name": "python"
    }
  },
  "cells": [
    {
      "cell_type": "markdown",
      "source": [
        "# GPT-Models For SQL & Python"
      ],
      "metadata": {
        "id": "OhQF52soNRam"
      }
    },
    {
      "cell_type": "markdown",
      "source": [
        "## Introduction\n",
        "\n",
        "**Learning Goals:**\n",
        "\n",
        "- Understand the scope of the notebook.\n",
        "- Familiarize yourself with what GPT models can do in the context of SQL and Python."
      ],
      "metadata": {
        "id": "UO1_yepy1I-L"
      }
    },
    {
      "cell_type": "markdown",
      "source": [
        "## Setting Up the Environment\n",
        "\n",
        "In this section, we'll import the required Python libraries and connect to a sample SQL database to prepare our environment for the tasks ahead."
      ],
      "metadata": {
        "id": "nO5qqwOFNuNZ"
      }
    },
    {
      "cell_type": "code",
      "execution_count": 1,
      "metadata": {
        "id": "PCUlzNVONPlR"
      },
      "outputs": [],
      "source": [
        "import sqlite3\n",
        "import pandas as pd\n",
        "\n",
        "# Connect to the database\n",
        "db_connection = sqlite3.connect('sample_warehouse.db')"
      ]
    },
    {
      "cell_type": "code",
      "source": [
        "pd.read_sql(sql = 'SELECT * FROM customers LIMIT 5',\n",
        "            con = db_connection)"
      ],
      "metadata": {
        "colab": {
          "base_uri": "https://localhost:8080/",
          "height": 204
        },
        "id": "Iqz-Xy-0OSOB",
        "outputId": "051aebba-29b1-44a9-a6e3-9972e1306725"
      },
      "execution_count": 3,
      "outputs": [
        {
          "output_type": "execute_result",
          "data": {
            "text/plain": [
              "   customer_id first_name last_name                         email\n",
              "0            1       John       Doe          john.doe@example.com\n",
              "1            2       Jane       Doe          jane.doe@example.com\n",
              "2            3      Emily     Smith       emily.smith@example.com\n",
              "3            4    Michael   Johnson   michael.johnson@example.com\n",
              "4            5      Corey      Lara  acummings@thompson-bruce.biz"
            ],
            "text/html": [
              "\n",
              "  <div id=\"df-e50174fa-cb04-4967-97a2-20b809139ae8\" class=\"colab-df-container\">\n",
              "    <div>\n",
              "<style scoped>\n",
              "    .dataframe tbody tr th:only-of-type {\n",
              "        vertical-align: middle;\n",
              "    }\n",
              "\n",
              "    .dataframe tbody tr th {\n",
              "        vertical-align: top;\n",
              "    }\n",
              "\n",
              "    .dataframe thead th {\n",
              "        text-align: right;\n",
              "    }\n",
              "</style>\n",
              "<table border=\"1\" class=\"dataframe\">\n",
              "  <thead>\n",
              "    <tr style=\"text-align: right;\">\n",
              "      <th></th>\n",
              "      <th>customer_id</th>\n",
              "      <th>first_name</th>\n",
              "      <th>last_name</th>\n",
              "      <th>email</th>\n",
              "    </tr>\n",
              "  </thead>\n",
              "  <tbody>\n",
              "    <tr>\n",
              "      <th>0</th>\n",
              "      <td>1</td>\n",
              "      <td>John</td>\n",
              "      <td>Doe</td>\n",
              "      <td>john.doe@example.com</td>\n",
              "    </tr>\n",
              "    <tr>\n",
              "      <th>1</th>\n",
              "      <td>2</td>\n",
              "      <td>Jane</td>\n",
              "      <td>Doe</td>\n",
              "      <td>jane.doe@example.com</td>\n",
              "    </tr>\n",
              "    <tr>\n",
              "      <th>2</th>\n",
              "      <td>3</td>\n",
              "      <td>Emily</td>\n",
              "      <td>Smith</td>\n",
              "      <td>emily.smith@example.com</td>\n",
              "    </tr>\n",
              "    <tr>\n",
              "      <th>3</th>\n",
              "      <td>4</td>\n",
              "      <td>Michael</td>\n",
              "      <td>Johnson</td>\n",
              "      <td>michael.johnson@example.com</td>\n",
              "    </tr>\n",
              "    <tr>\n",
              "      <th>4</th>\n",
              "      <td>5</td>\n",
              "      <td>Corey</td>\n",
              "      <td>Lara</td>\n",
              "      <td>acummings@thompson-bruce.biz</td>\n",
              "    </tr>\n",
              "  </tbody>\n",
              "</table>\n",
              "</div>\n",
              "    <div class=\"colab-df-buttons\">\n",
              "\n",
              "  <div class=\"colab-df-container\">\n",
              "    <button class=\"colab-df-convert\" onclick=\"convertToInteractive('df-e50174fa-cb04-4967-97a2-20b809139ae8')\"\n",
              "            title=\"Convert this dataframe to an interactive table.\"\n",
              "            style=\"display:none;\">\n",
              "\n",
              "  <svg xmlns=\"http://www.w3.org/2000/svg\" height=\"24px\" viewBox=\"0 -960 960 960\">\n",
              "    <path d=\"M120-120v-720h720v720H120Zm60-500h600v-160H180v160Zm220 220h160v-160H400v160Zm0 220h160v-160H400v160ZM180-400h160v-160H180v160Zm440 0h160v-160H620v160ZM180-180h160v-160H180v160Zm440 0h160v-160H620v160Z\"/>\n",
              "  </svg>\n",
              "    </button>\n",
              "\n",
              "  <style>\n",
              "    .colab-df-container {\n",
              "      display:flex;\n",
              "      gap: 12px;\n",
              "    }\n",
              "\n",
              "    .colab-df-convert {\n",
              "      background-color: #E8F0FE;\n",
              "      border: none;\n",
              "      border-radius: 50%;\n",
              "      cursor: pointer;\n",
              "      display: none;\n",
              "      fill: #1967D2;\n",
              "      height: 32px;\n",
              "      padding: 0 0 0 0;\n",
              "      width: 32px;\n",
              "    }\n",
              "\n",
              "    .colab-df-convert:hover {\n",
              "      background-color: #E2EBFA;\n",
              "      box-shadow: 0px 1px 2px rgba(60, 64, 67, 0.3), 0px 1px 3px 1px rgba(60, 64, 67, 0.15);\n",
              "      fill: #174EA6;\n",
              "    }\n",
              "\n",
              "    .colab-df-buttons div {\n",
              "      margin-bottom: 4px;\n",
              "    }\n",
              "\n",
              "    [theme=dark] .colab-df-convert {\n",
              "      background-color: #3B4455;\n",
              "      fill: #D2E3FC;\n",
              "    }\n",
              "\n",
              "    [theme=dark] .colab-df-convert:hover {\n",
              "      background-color: #434B5C;\n",
              "      box-shadow: 0px 1px 3px 1px rgba(0, 0, 0, 0.15);\n",
              "      filter: drop-shadow(0px 1px 2px rgba(0, 0, 0, 0.3));\n",
              "      fill: #FFFFFF;\n",
              "    }\n",
              "  </style>\n",
              "\n",
              "    <script>\n",
              "      const buttonEl =\n",
              "        document.querySelector('#df-e50174fa-cb04-4967-97a2-20b809139ae8 button.colab-df-convert');\n",
              "      buttonEl.style.display =\n",
              "        google.colab.kernel.accessAllowed ? 'block' : 'none';\n",
              "\n",
              "      async function convertToInteractive(key) {\n",
              "        const element = document.querySelector('#df-e50174fa-cb04-4967-97a2-20b809139ae8');\n",
              "        const dataTable =\n",
              "          await google.colab.kernel.invokeFunction('convertToInteractive',\n",
              "                                                    [key], {});\n",
              "        if (!dataTable) return;\n",
              "\n",
              "        const docLinkHtml = 'Like what you see? Visit the ' +\n",
              "          '<a target=\"_blank\" href=https://colab.research.google.com/notebooks/data_table.ipynb>data table notebook</a>'\n",
              "          + ' to learn more about interactive tables.';\n",
              "        element.innerHTML = '';\n",
              "        dataTable['output_type'] = 'display_data';\n",
              "        await google.colab.output.renderOutput(dataTable, element);\n",
              "        const docLink = document.createElement('div');\n",
              "        docLink.innerHTML = docLinkHtml;\n",
              "        element.appendChild(docLink);\n",
              "      }\n",
              "    </script>\n",
              "  </div>\n",
              "\n",
              "\n",
              "<div id=\"df-7297269a-cc44-405f-b3ab-01f001ecb126\">\n",
              "  <button class=\"colab-df-quickchart\" onclick=\"quickchart('df-7297269a-cc44-405f-b3ab-01f001ecb126')\"\n",
              "            title=\"Suggest charts\"\n",
              "            style=\"display:none;\">\n",
              "\n",
              "<svg xmlns=\"http://www.w3.org/2000/svg\" height=\"24px\"viewBox=\"0 0 24 24\"\n",
              "     width=\"24px\">\n",
              "    <g>\n",
              "        <path d=\"M19 3H5c-1.1 0-2 .9-2 2v14c0 1.1.9 2 2 2h14c1.1 0 2-.9 2-2V5c0-1.1-.9-2-2-2zM9 17H7v-7h2v7zm4 0h-2V7h2v10zm4 0h-2v-4h2v4z\"/>\n",
              "    </g>\n",
              "</svg>\n",
              "  </button>\n",
              "\n",
              "<style>\n",
              "  .colab-df-quickchart {\n",
              "      --bg-color: #E8F0FE;\n",
              "      --fill-color: #1967D2;\n",
              "      --hover-bg-color: #E2EBFA;\n",
              "      --hover-fill-color: #174EA6;\n",
              "      --disabled-fill-color: #AAA;\n",
              "      --disabled-bg-color: #DDD;\n",
              "  }\n",
              "\n",
              "  [theme=dark] .colab-df-quickchart {\n",
              "      --bg-color: #3B4455;\n",
              "      --fill-color: #D2E3FC;\n",
              "      --hover-bg-color: #434B5C;\n",
              "      --hover-fill-color: #FFFFFF;\n",
              "      --disabled-bg-color: #3B4455;\n",
              "      --disabled-fill-color: #666;\n",
              "  }\n",
              "\n",
              "  .colab-df-quickchart {\n",
              "    background-color: var(--bg-color);\n",
              "    border: none;\n",
              "    border-radius: 50%;\n",
              "    cursor: pointer;\n",
              "    display: none;\n",
              "    fill: var(--fill-color);\n",
              "    height: 32px;\n",
              "    padding: 0;\n",
              "    width: 32px;\n",
              "  }\n",
              "\n",
              "  .colab-df-quickchart:hover {\n",
              "    background-color: var(--hover-bg-color);\n",
              "    box-shadow: 0 1px 2px rgba(60, 64, 67, 0.3), 0 1px 3px 1px rgba(60, 64, 67, 0.15);\n",
              "    fill: var(--button-hover-fill-color);\n",
              "  }\n",
              "\n",
              "  .colab-df-quickchart-complete:disabled,\n",
              "  .colab-df-quickchart-complete:disabled:hover {\n",
              "    background-color: var(--disabled-bg-color);\n",
              "    fill: var(--disabled-fill-color);\n",
              "    box-shadow: none;\n",
              "  }\n",
              "\n",
              "  .colab-df-spinner {\n",
              "    border: 2px solid var(--fill-color);\n",
              "    border-color: transparent;\n",
              "    border-bottom-color: var(--fill-color);\n",
              "    animation:\n",
              "      spin 1s steps(1) infinite;\n",
              "  }\n",
              "\n",
              "  @keyframes spin {\n",
              "    0% {\n",
              "      border-color: transparent;\n",
              "      border-bottom-color: var(--fill-color);\n",
              "      border-left-color: var(--fill-color);\n",
              "    }\n",
              "    20% {\n",
              "      border-color: transparent;\n",
              "      border-left-color: var(--fill-color);\n",
              "      border-top-color: var(--fill-color);\n",
              "    }\n",
              "    30% {\n",
              "      border-color: transparent;\n",
              "      border-left-color: var(--fill-color);\n",
              "      border-top-color: var(--fill-color);\n",
              "      border-right-color: var(--fill-color);\n",
              "    }\n",
              "    40% {\n",
              "      border-color: transparent;\n",
              "      border-right-color: var(--fill-color);\n",
              "      border-top-color: var(--fill-color);\n",
              "    }\n",
              "    60% {\n",
              "      border-color: transparent;\n",
              "      border-right-color: var(--fill-color);\n",
              "    }\n",
              "    80% {\n",
              "      border-color: transparent;\n",
              "      border-right-color: var(--fill-color);\n",
              "      border-bottom-color: var(--fill-color);\n",
              "    }\n",
              "    90% {\n",
              "      border-color: transparent;\n",
              "      border-bottom-color: var(--fill-color);\n",
              "    }\n",
              "  }\n",
              "</style>\n",
              "\n",
              "  <script>\n",
              "    async function quickchart(key) {\n",
              "      const quickchartButtonEl =\n",
              "        document.querySelector('#' + key + ' button');\n",
              "      quickchartButtonEl.disabled = true;  // To prevent multiple clicks.\n",
              "      quickchartButtonEl.classList.add('colab-df-spinner');\n",
              "      try {\n",
              "        const charts = await google.colab.kernel.invokeFunction(\n",
              "            'suggestCharts', [key], {});\n",
              "      } catch (error) {\n",
              "        console.error('Error during call to suggestCharts:', error);\n",
              "      }\n",
              "      quickchartButtonEl.classList.remove('colab-df-spinner');\n",
              "      quickchartButtonEl.classList.add('colab-df-quickchart-complete');\n",
              "    }\n",
              "    (() => {\n",
              "      let quickchartButtonEl =\n",
              "        document.querySelector('#df-7297269a-cc44-405f-b3ab-01f001ecb126 button');\n",
              "      quickchartButtonEl.style.display =\n",
              "        google.colab.kernel.accessAllowed ? 'block' : 'none';\n",
              "    })();\n",
              "  </script>\n",
              "</div>\n",
              "    </div>\n",
              "  </div>\n"
            ]
          },
          "metadata": {},
          "execution_count": 3
        }
      ]
    },
    {
      "cell_type": "markdown",
      "source": [
        "## Exploring the Database"
      ],
      "metadata": {
        "id": "KfHIwPymPnGB"
      }
    },
    {
      "cell_type": "markdown",
      "source": [
        "Here, we'll explore the database's tables and their relationships. We'll use SQL queries to get a better understanding of the data structure."
      ],
      "metadata": {
        "id": "TkeVW-EG1vol"
      }
    },
    {
      "cell_type": "code",
      "source": [
        "# Connect to the SQLite database\n",
        "cursor = db_connection.cursor()\n",
        "\n",
        "# Query to get all tables\n",
        "cursor.execute(\"SELECT name FROM sqlite_master WHERE type='table';\")\n",
        "tables = cursor.fetchall()\n",
        "tables"
      ],
      "metadata": {
        "colab": {
          "base_uri": "https://localhost:8080/"
        },
        "id": "HgyYFhiaPmhj",
        "outputId": "be41e8d0-2825-474a-d46e-57e0b15db348"
      },
      "execution_count": 4,
      "outputs": [
        {
          "output_type": "execute_result",
          "data": {
            "text/plain": [
              "[('customers',), ('sqlite_sequence',), ('products',), ('date',), ('sales',)]"
            ]
          },
          "metadata": {},
          "execution_count": 4
        }
      ]
    },
    {
      "cell_type": "code",
      "source": [
        "def list_tables_and_relationships(conn):\n",
        "    cursor = conn.cursor()\n",
        "\n",
        "    # Fetch all table names\n",
        "    cursor.execute(\"SELECT name FROM sqlite_master WHERE type='table';\")\n",
        "    tables = cursor.fetchall()\n",
        "\n",
        "    # Dictionary to store table relationships\n",
        "    relationships = {}\n",
        "\n",
        "    # Loop through tables to find their relationships\n",
        "    for table in tables:\n",
        "        table = table[0]\n",
        "        cursor.execute(f\"PRAGMA foreign_key_list({table});\")\n",
        "        foreign_keys = cursor.fetchall()\n",
        "\n",
        "        # Each item in foreign_keys is a tuple containing information about foreign keys.\n",
        "        # For example: (0, 'main', 'products', 'product_id', 'product_id', 'NO ACTION', 'NO ACTION', 'NONE')\n",
        "        relationships[table] = []\n",
        "        for fk in foreign_keys:\n",
        "            relationships[table].append({\n",
        "                'table': fk[2],\n",
        "                'from_column': fk[3],\n",
        "                'to_column': fk[4]\n",
        "            })\n",
        "\n",
        "    # Close the connection\n",
        "    conn.close()\n",
        "\n",
        "    return relationships\n",
        "\n",
        "def list_table_schemas(conn):\n",
        "    cursor = conn.cursor()\n",
        "\n",
        "    # Fetch all table names\n",
        "    cursor.execute(\"SELECT name FROM sqlite_master WHERE type='table';\")\n",
        "    tables = cursor.fetchall()\n",
        "\n",
        "    # Dictionary to store table schemas\n",
        "    schemas = {}\n",
        "\n",
        "    # Loop through tables to find their columns and types\n",
        "    for table in tables:\n",
        "        table = table[0]\n",
        "        cursor.execute(f\"PRAGMA table_info({table});\")\n",
        "        columns = cursor.fetchall()\n",
        "\n",
        "        # Each item in columns is a tuple containing information about the column.\n",
        "        schemas[table] = []\n",
        "        for column in columns:\n",
        "            schemas[table].append({\n",
        "                'name': column[1],\n",
        "                'type': column[2]\n",
        "            })\n",
        "\n",
        "    return schemas"
      ],
      "metadata": {
        "id": "v6BpGQkFP9Cp"
      },
      "execution_count": 5,
      "outputs": []
    },
    {
      "cell_type": "markdown",
      "source": [
        "## Use Case 1: ChatGPT for Code Explanation\n",
        "\n",
        "This section focuses on how ChatGPT can assist in explaining Python and SQL code.\n",
        "\n",
        "Copy & paste the following prompt into ChatGPT following by the code you want explanations for:\n",
        "\n",
        "```\n",
        "ROLE: You're a world-class Python tutor.\n",
        "TASK: Walk me through the Python code I give you. Explain it step by step. My Python level is Novice.\n",
        "FORMAT: Return a chunk of code, followed by an explanation appropriate to my experience level in non-technical language. Skip the pre and post text.\n",
        "\n",
        "Here's the code:\n",
        "```"
      ],
      "metadata": {
        "id": "llNR2WVo-B0n"
      }
    },
    {
      "cell_type": "code",
      "source": [
        "# Fetch and display the schemas\n",
        "schemas = list_table_schemas(db_connection)\n",
        "schemas"
      ],
      "metadata": {
        "colab": {
          "base_uri": "https://localhost:8080/"
        },
        "id": "CSjTXRKMWyuI",
        "outputId": "b3ab68ac-96ba-4c56-ba1b-6b4209cf6f11"
      },
      "execution_count": 6,
      "outputs": [
        {
          "output_type": "execute_result",
          "data": {
            "text/plain": [
              "{'customers': [{'name': 'customer_id', 'type': 'INTEGER'},\n",
              "  {'name': 'first_name', 'type': 'TEXT'},\n",
              "  {'name': 'last_name', 'type': 'TEXT'},\n",
              "  {'name': 'email', 'type': 'TEXT'}],\n",
              " 'sqlite_sequence': [{'name': 'name', 'type': ''},\n",
              "  {'name': 'seq', 'type': ''}],\n",
              " 'products': [{'name': 'product_id', 'type': 'INTEGER'},\n",
              "  {'name': 'product_name', 'type': 'TEXT'},\n",
              "  {'name': 'price', 'type': 'REAL'}],\n",
              " 'date': [{'name': 'date_id', 'type': 'INTEGER'},\n",
              "  {'name': 'day', 'type': 'INTEGER'},\n",
              "  {'name': 'month', 'type': 'INTEGER'},\n",
              "  {'name': 'year', 'type': 'INTEGER'}],\n",
              " 'sales': [{'name': 'sale_id', 'type': 'INTEGER'},\n",
              "  {'name': 'customer_id', 'type': 'INTEGER'},\n",
              "  {'name': 'product_id', 'type': 'INTEGER'},\n",
              "  {'name': 'date_id', 'type': 'INTEGER'},\n",
              "  {'name': 'amount', 'type': 'REAL'}]}"
            ]
          },
          "metadata": {},
          "execution_count": 6
        }
      ]
    },
    {
      "cell_type": "code",
      "source": [
        "# Fetch and display the relationships\n",
        "relationships = list_tables_and_relationships(db_connection)\n",
        "relationships"
      ],
      "metadata": {
        "colab": {
          "base_uri": "https://localhost:8080/"
        },
        "id": "SuonxKYQQwcy",
        "outputId": "f121c8f3-af86-4f0c-d6fe-ea27eb79f250"
      },
      "execution_count": 7,
      "outputs": [
        {
          "output_type": "execute_result",
          "data": {
            "text/plain": [
              "{'customers': [],\n",
              " 'sqlite_sequence': [],\n",
              " 'products': [],\n",
              " 'date': [],\n",
              " 'sales': [{'table': 'date', 'from_column': 'date_id', 'to_column': 'date_id'},\n",
              "  {'table': 'products',\n",
              "   'from_column': 'product_id',\n",
              "   'to_column': 'product_id'},\n",
              "  {'table': 'customers',\n",
              "   'from_column': 'customer_id',\n",
              "   'to_column': 'customer_id'}]}"
            ]
          },
          "metadata": {},
          "execution_count": 7
        }
      ]
    },
    {
      "cell_type": "markdown",
      "source": [
        "* The customers, products, and date tables do not have any foreign key relationships pointing to other tables.\n",
        "\n",
        "* The sales table has foreign keys that establish relationships with the following tables:\n",
        "  * A foreign key relationship to the date table through the date_id column.\n",
        "  * A foreign key relationship to the products table through the product_id column.\n",
        "  * A foreign key relationship to the customers table through the customer_id column."
      ],
      "metadata": {
        "id": "lQfQj7oIRTyn"
      }
    },
    {
      "cell_type": "markdown",
      "source": [
        "## Use Case 2: Automating SQL Code Generation with GPT"
      ],
      "metadata": {
        "id": "DAWnTVjoRftX"
      }
    },
    {
      "cell_type": "markdown",
      "source": [
        "In this section, we'll see how GPT models can assist in generating SQL code. We'll also go through the setup process for using OpenAI's API."
      ],
      "metadata": {
        "id": "q39KMTm92n_G"
      }
    },
    {
      "cell_type": "code",
      "source": [
        "# Option 1: Set the API key locally\n",
        "import os\n",
        "api_key = input(\"Enter your API key: \")\n",
        "os.environ[\"API_KEY\"] = api_key"
      ],
      "metadata": {
        "id": "1asEbrvdRqs1"
      },
      "execution_count": null,
      "outputs": []
    },
    {
      "cell_type": "code",
      "source": [
        "# Option 2: Set the API key via colab\n",
        "from google.colab import userdata\n",
        "api_key = userdata.get('API_KEY')"
      ],
      "metadata": {
        "id": "K4Gz8MMhr_qx"
      },
      "execution_count": 8,
      "outputs": []
    },
    {
      "cell_type": "code",
      "source": [
        "# Install openai package\n",
        "!pip install openai"
      ],
      "metadata": {
        "colab": {
          "base_uri": "https://localhost:8080/"
        },
        "id": "Y1hd_ANcSMKk",
        "outputId": "f114d855-b293-45b5-dd9e-c9a9dd5cec0e"
      },
      "execution_count": 9,
      "outputs": [
        {
          "output_type": "stream",
          "name": "stdout",
          "text": [
            "Collecting openai\n",
            "  Downloading openai-1.3.8-py3-none-any.whl (221 kB)\n",
            "\u001b[2K     \u001b[90m━━━━━━━━━━━━━━━━━━━━━━━━━━━━━━━━━━━━━━━━\u001b[0m \u001b[32m221.5/221.5 kB\u001b[0m \u001b[31m4.8 MB/s\u001b[0m eta \u001b[36m0:00:00\u001b[0m\n",
            "\u001b[?25hRequirement already satisfied: anyio<5,>=3.5.0 in /usr/local/lib/python3.10/dist-packages (from openai) (3.7.1)\n",
            "Requirement already satisfied: distro<2,>=1.7.0 in /usr/lib/python3/dist-packages (from openai) (1.7.0)\n",
            "Collecting httpx<1,>=0.23.0 (from openai)\n",
            "  Downloading httpx-0.25.2-py3-none-any.whl (74 kB)\n",
            "\u001b[2K     \u001b[90m━━━━━━━━━━━━━━━━━━━━━━━━━━━━━━━━━━━━━━━━\u001b[0m \u001b[32m75.0/75.0 kB\u001b[0m \u001b[31m9.8 MB/s\u001b[0m eta \u001b[36m0:00:00\u001b[0m\n",
            "\u001b[?25hRequirement already satisfied: pydantic<3,>=1.9.0 in /usr/local/lib/python3.10/dist-packages (from openai) (1.10.13)\n",
            "Requirement already satisfied: sniffio in /usr/local/lib/python3.10/dist-packages (from openai) (1.3.0)\n",
            "Requirement already satisfied: tqdm>4 in /usr/local/lib/python3.10/dist-packages (from openai) (4.66.1)\n",
            "Requirement already satisfied: typing-extensions<5,>=4.5 in /usr/local/lib/python3.10/dist-packages (from openai) (4.5.0)\n",
            "Requirement already satisfied: idna>=2.8 in /usr/local/lib/python3.10/dist-packages (from anyio<5,>=3.5.0->openai) (3.6)\n",
            "Requirement already satisfied: exceptiongroup in /usr/local/lib/python3.10/dist-packages (from anyio<5,>=3.5.0->openai) (1.2.0)\n",
            "Requirement already satisfied: certifi in /usr/local/lib/python3.10/dist-packages (from httpx<1,>=0.23.0->openai) (2023.11.17)\n",
            "Collecting httpcore==1.* (from httpx<1,>=0.23.0->openai)\n",
            "  Downloading httpcore-1.0.2-py3-none-any.whl (76 kB)\n",
            "\u001b[2K     \u001b[90m━━━━━━━━━━━━━━━━━━━━━━━━━━━━━━━━━━━━━━━━\u001b[0m \u001b[32m76.9/76.9 kB\u001b[0m \u001b[31m9.9 MB/s\u001b[0m eta \u001b[36m0:00:00\u001b[0m\n",
            "\u001b[?25hCollecting h11<0.15,>=0.13 (from httpcore==1.*->httpx<1,>=0.23.0->openai)\n",
            "  Downloading h11-0.14.0-py3-none-any.whl (58 kB)\n",
            "\u001b[2K     \u001b[90m━━━━━━━━━━━━━━━━━━━━━━━━━━━━━━━━━━━━━━━━\u001b[0m \u001b[32m58.3/58.3 kB\u001b[0m \u001b[31m8.1 MB/s\u001b[0m eta \u001b[36m0:00:00\u001b[0m\n",
            "\u001b[?25hInstalling collected packages: h11, httpcore, httpx, openai\n",
            "\u001b[31mERROR: pip's dependency resolver does not currently take into account all the packages that are installed. This behaviour is the source of the following dependency conflicts.\n",
            "llmx 0.0.15a0 requires cohere, which is not installed.\n",
            "llmx 0.0.15a0 requires tiktoken, which is not installed.\u001b[0m\u001b[31m\n",
            "\u001b[0mSuccessfully installed h11-0.14.0 httpcore-1.0.2 httpx-0.25.2 openai-1.3.8\n"
          ]
        }
      ]
    },
    {
      "cell_type": "code",
      "source": [
        "# Import openai package and register API key\n",
        "import openai\n",
        "import json\n",
        "client = openai.Client(api_key = api_key)"
      ],
      "metadata": {
        "id": "pGPce-XoUQjK"
      },
      "execution_count": 12,
      "outputs": []
    },
    {
      "cell_type": "code",
      "source": [
        "# Define system prompt\n",
        "\n",
        "system_prompt = \"\"\"\n",
        "\n",
        "ROLE: You are a SQL expert.\n",
        "\n",
        "TASK: I'll give you the list of tables and relationships of my SQLite database.\n",
        "You will take my natural langauge query and translate it into a functional SQL query for this database.\n",
        "\n",
        "CONTEXT: ## Tables and relationships in triple backticks:\n",
        "```\n",
        "{'customers': [],\n",
        " 'sqlite_sequence': [],\n",
        " 'products': [],\n",
        " 'date': [],\n",
        " 'sales': [{'table': 'date', 'from_column': 'date_id', 'to_column': 'date_id'},\n",
        "  {'table': 'products',\n",
        "   'from_column': 'product_id',\n",
        "   'to_column': 'product_id'},\n",
        "  {'table': 'customers',\n",
        "   'from_column': 'customer_id',\n",
        "   'to_column': 'customer_id'}]}\n",
        "```\n",
        "\n",
        "## Table schemas in triple backticks:\n",
        "```\n",
        "{'customers': [{'name': 'customer_id', 'type': 'INTEGER'},\n",
        "  {'name': 'first_name', 'type': 'TEXT'},\n",
        "  {'name': 'last_name', 'type': 'TEXT'},\n",
        "  {'name': 'email', 'type': 'TEXT'}],\n",
        " 'sqlite_sequence': [{'name': 'name', 'type': ''},\n",
        "  {'name': 'seq', 'type': ''}],\n",
        " 'products': [{'name': 'product_id', 'type': 'INTEGER'},\n",
        "  {'name': 'product_name', 'type': 'TEXT'},\n",
        "  {'name': 'price', 'type': 'REAL'}],\n",
        " 'date': [{'name': 'date_id', 'type': 'INTEGER'},\n",
        "  {'name': 'day', 'type': 'INTEGER'},\n",
        "  {'name': 'month', 'type': 'INTEGER'},\n",
        "  {'name': 'year', 'type': 'INTEGER'}],\n",
        " 'sales': [{'name': 'sale_id', 'type': 'INTEGER'},\n",
        "  {'name': 'customer_id', 'type': 'INTEGER'},\n",
        "  {'name': 'product_id', 'type': 'INTEGER'},\n",
        "  {'name': 'date_id', 'type': 'INTEGER'},\n",
        "  {'name': 'amount', 'type': 'REAL'}]}\n",
        "```\n",
        "\n",
        "OUTPUT: Return only the SQL query. Skip pre- and post text.\n",
        "\n",
        "\"\"\""
      ],
      "metadata": {
        "id": "hkAWMeiZS3si"
      },
      "execution_count": 11,
      "outputs": []
    },
    {
      "cell_type": "markdown",
      "source": [
        "Run the first simple SQL query:"
      ],
      "metadata": {
        "id": "y7f1LbGm3h2T"
      }
    },
    {
      "cell_type": "code",
      "source": [
        "response = client.chat.completions.create(\n",
        "  model=\"gpt-3.5-turbo\",\n",
        "  messages=[\n",
        "    {\"role\": \"system\", \"content\": system_prompt},\n",
        "    {\"role\": \"user\", \"content\": \"How many customers are in the system?\"}\n",
        "  ],\n",
        "  temperature=0.0,\n",
        ")\n",
        "\n",
        "json.loads(response.json())"
      ],
      "metadata": {
        "colab": {
          "base_uri": "https://localhost:8080/"
        },
        "id": "thzF9D1ZSIWM",
        "outputId": "0933ea8b-3711-48f2-ff69-ee20a57f75fc"
      },
      "execution_count": 18,
      "outputs": [
        {
          "output_type": "execute_result",
          "data": {
            "text/plain": [
              "{'id': 'chatcmpl-8UhlWCk8rWeFwkNwaLQ95qj8BOX5w',\n",
              " 'choices': [{'finish_reason': 'stop',\n",
              "   'index': 0,\n",
              "   'message': {'content': 'SELECT COUNT(*) FROM customers;',\n",
              "    'role': 'assistant',\n",
              "    'function_call': None,\n",
              "    'tool_calls': None}}],\n",
              " 'created': 1702328766,\n",
              " 'model': 'gpt-3.5-turbo-0613',\n",
              " 'object': 'chat.completion',\n",
              " 'system_fingerprint': None,\n",
              " 'usage': {'completion_tokens': 6, 'prompt_tokens': 457, 'total_tokens': 463}}"
            ]
          },
          "metadata": {},
          "execution_count": 18
        }
      ]
    },
    {
      "cell_type": "markdown",
      "source": [
        "Extract the SQL query from the completion object"
      ],
      "metadata": {
        "id": "ym095wgH3lYP"
      }
    },
    {
      "cell_type": "code",
      "source": [
        "print(response.choices[0].message.content)"
      ],
      "metadata": {
        "colab": {
          "base_uri": "https://localhost:8080/"
        },
        "id": "L112Fu4eUsma",
        "outputId": "5bfb8fa5-ea36-4e59-c8e5-db2ffd7017c3"
      },
      "execution_count": 19,
      "outputs": [
        {
          "output_type": "stream",
          "name": "stdout",
          "text": [
            "SELECT COUNT(*) FROM customers;\n"
          ]
        }
      ]
    },
    {
      "cell_type": "code",
      "source": [
        "sql_query = response.choices[0].message.content\n",
        "sql_query"
      ],
      "metadata": {
        "colab": {
          "base_uri": "https://localhost:8080/",
          "height": 35
        },
        "id": "UPYv2AO8U1Tv",
        "outputId": "ab1faff4-1bd1-4887-f353-f5de12ca3814"
      },
      "execution_count": 21,
      "outputs": [
        {
          "output_type": "execute_result",
          "data": {
            "text/plain": [
              "'SELECT COUNT(*) FROM customers;'"
            ],
            "application/vnd.google.colaboratory.intrinsic+json": {
              "type": "string"
            }
          },
          "metadata": {},
          "execution_count": 21
        }
      ]
    },
    {
      "cell_type": "markdown",
      "source": [
        "**New:** Use [JSON mode](https://platform.openai.com/docs/guides/text-generation/json-mode) - this returns a JSON output instead. Must instruct the model to produce JSON via some message in the conversation!"
      ],
      "metadata": {
        "id": "M_9B__6lttY1"
      }
    },
    {
      "cell_type": "code",
      "source": [
        "response = client.chat.completions.create(\n",
        "  model=\"gpt-3.5-turbo-1106\",\n",
        "  response_format={ \"type\": \"json_object\" },\n",
        "  messages=[\n",
        "    {\"role\": \"system\", \"content\": system_prompt + \"Respond in JSON\"},\n",
        "    {\"role\": \"user\", \"content\": \"How many customers are in the system?\"}\n",
        "  ],\n",
        "  temperature=0.0,\n",
        ")\n",
        "\n",
        "json.loads(response.choices[0].message.content)['sql_query']"
      ],
      "metadata": {
        "colab": {
          "base_uri": "https://localhost:8080/",
          "height": 35
        },
        "id": "x4a7PvZUsjGm",
        "outputId": "15e02ad6-0339-4749-dc39-915631d47b88"
      },
      "execution_count": 27,
      "outputs": [
        {
          "output_type": "execute_result",
          "data": {
            "text/plain": [
              "'SELECT COUNT(*) FROM customers;'"
            ],
            "application/vnd.google.colaboratory.intrinsic+json": {
              "type": "string"
            }
          },
          "metadata": {},
          "execution_count": 27
        }
      ]
    },
    {
      "cell_type": "markdown",
      "source": [
        "### Run script inside Python code"
      ],
      "metadata": {
        "id": "9jYarRXhU6yB"
      }
    },
    {
      "cell_type": "code",
      "source": [
        "db_connection = sqlite3.connect('sample_warehouse.db')\n",
        "pd.read_sql(sql = sql_query,\n",
        "            con = db_connection)"
      ],
      "metadata": {
        "colab": {
          "base_uri": "https://localhost:8080/",
          "height": 80
        },
        "id": "6J5Nx71xU9pP",
        "outputId": "7a00f208-0d26-4d6f-ab65-c5f998230e17"
      },
      "execution_count": 28,
      "outputs": [
        {
          "output_type": "execute_result",
          "data": {
            "text/plain": [
              "   COUNT(*)\n",
              "0        54"
            ],
            "text/html": [
              "\n",
              "  <div id=\"df-5802045b-e8e1-47b2-bb8d-76b54358b964\" class=\"colab-df-container\">\n",
              "    <div>\n",
              "<style scoped>\n",
              "    .dataframe tbody tr th:only-of-type {\n",
              "        vertical-align: middle;\n",
              "    }\n",
              "\n",
              "    .dataframe tbody tr th {\n",
              "        vertical-align: top;\n",
              "    }\n",
              "\n",
              "    .dataframe thead th {\n",
              "        text-align: right;\n",
              "    }\n",
              "</style>\n",
              "<table border=\"1\" class=\"dataframe\">\n",
              "  <thead>\n",
              "    <tr style=\"text-align: right;\">\n",
              "      <th></th>\n",
              "      <th>COUNT(*)</th>\n",
              "    </tr>\n",
              "  </thead>\n",
              "  <tbody>\n",
              "    <tr>\n",
              "      <th>0</th>\n",
              "      <td>54</td>\n",
              "    </tr>\n",
              "  </tbody>\n",
              "</table>\n",
              "</div>\n",
              "    <div class=\"colab-df-buttons\">\n",
              "\n",
              "  <div class=\"colab-df-container\">\n",
              "    <button class=\"colab-df-convert\" onclick=\"convertToInteractive('df-5802045b-e8e1-47b2-bb8d-76b54358b964')\"\n",
              "            title=\"Convert this dataframe to an interactive table.\"\n",
              "            style=\"display:none;\">\n",
              "\n",
              "  <svg xmlns=\"http://www.w3.org/2000/svg\" height=\"24px\" viewBox=\"0 -960 960 960\">\n",
              "    <path d=\"M120-120v-720h720v720H120Zm60-500h600v-160H180v160Zm220 220h160v-160H400v160Zm0 220h160v-160H400v160ZM180-400h160v-160H180v160Zm440 0h160v-160H620v160ZM180-180h160v-160H180v160Zm440 0h160v-160H620v160Z\"/>\n",
              "  </svg>\n",
              "    </button>\n",
              "\n",
              "  <style>\n",
              "    .colab-df-container {\n",
              "      display:flex;\n",
              "      gap: 12px;\n",
              "    }\n",
              "\n",
              "    .colab-df-convert {\n",
              "      background-color: #E8F0FE;\n",
              "      border: none;\n",
              "      border-radius: 50%;\n",
              "      cursor: pointer;\n",
              "      display: none;\n",
              "      fill: #1967D2;\n",
              "      height: 32px;\n",
              "      padding: 0 0 0 0;\n",
              "      width: 32px;\n",
              "    }\n",
              "\n",
              "    .colab-df-convert:hover {\n",
              "      background-color: #E2EBFA;\n",
              "      box-shadow: 0px 1px 2px rgba(60, 64, 67, 0.3), 0px 1px 3px 1px rgba(60, 64, 67, 0.15);\n",
              "      fill: #174EA6;\n",
              "    }\n",
              "\n",
              "    .colab-df-buttons div {\n",
              "      margin-bottom: 4px;\n",
              "    }\n",
              "\n",
              "    [theme=dark] .colab-df-convert {\n",
              "      background-color: #3B4455;\n",
              "      fill: #D2E3FC;\n",
              "    }\n",
              "\n",
              "    [theme=dark] .colab-df-convert:hover {\n",
              "      background-color: #434B5C;\n",
              "      box-shadow: 0px 1px 3px 1px rgba(0, 0, 0, 0.15);\n",
              "      filter: drop-shadow(0px 1px 2px rgba(0, 0, 0, 0.3));\n",
              "      fill: #FFFFFF;\n",
              "    }\n",
              "  </style>\n",
              "\n",
              "    <script>\n",
              "      const buttonEl =\n",
              "        document.querySelector('#df-5802045b-e8e1-47b2-bb8d-76b54358b964 button.colab-df-convert');\n",
              "      buttonEl.style.display =\n",
              "        google.colab.kernel.accessAllowed ? 'block' : 'none';\n",
              "\n",
              "      async function convertToInteractive(key) {\n",
              "        const element = document.querySelector('#df-5802045b-e8e1-47b2-bb8d-76b54358b964');\n",
              "        const dataTable =\n",
              "          await google.colab.kernel.invokeFunction('convertToInteractive',\n",
              "                                                    [key], {});\n",
              "        if (!dataTable) return;\n",
              "\n",
              "        const docLinkHtml = 'Like what you see? Visit the ' +\n",
              "          '<a target=\"_blank\" href=https://colab.research.google.com/notebooks/data_table.ipynb>data table notebook</a>'\n",
              "          + ' to learn more about interactive tables.';\n",
              "        element.innerHTML = '';\n",
              "        dataTable['output_type'] = 'display_data';\n",
              "        await google.colab.output.renderOutput(dataTable, element);\n",
              "        const docLink = document.createElement('div');\n",
              "        docLink.innerHTML = docLinkHtml;\n",
              "        element.appendChild(docLink);\n",
              "      }\n",
              "    </script>\n",
              "  </div>\n",
              "\n",
              "    </div>\n",
              "  </div>\n"
            ]
          },
          "metadata": {},
          "execution_count": 28
        }
      ]
    },
    {
      "cell_type": "markdown",
      "source": [
        "Pull it all together to a single function for easier use:"
      ],
      "metadata": {
        "id": "xCx4mTxO3zOQ"
      }
    },
    {
      "cell_type": "code",
      "source": [
        "def sql_gpt(natural_language_query):\n",
        "  system_prompt = \"\"\"\n",
        "\n",
        "  ROLE: You are a SQL expert.\n",
        "\n",
        "  TASK: I'll give you the list of tables and relationships of my SQLite database.\n",
        "  You will take my natural langauge query and translate it into a functional SQL query for this database.\n",
        "\n",
        "  CONTEXT: ## Tables and relationships in triple backticks:\n",
        "  ```\n",
        "  {'customers': [],\n",
        "  'sqlite_sequence': [],\n",
        "  'products': [],\n",
        "  'date': [],\n",
        "  'sales': [{'table': 'date', 'from_column': 'date_id', 'to_column': 'date_id'},\n",
        "    {'table': 'products',\n",
        "    'from_column': 'product_id',\n",
        "    'to_column': 'product_id'},\n",
        "    {'table': 'customers',\n",
        "    'from_column': 'customer_id',\n",
        "    'to_column': 'customer_id'}]}\n",
        "  ```\n",
        "\n",
        "  ## Table schemas in triple backticks:\n",
        "  ```\n",
        "  {'customers': [{'name': 'customer_id', 'type': 'INTEGER'},\n",
        "    {'name': 'first_name', 'type': 'TEXT'},\n",
        "    {'name': 'last_name', 'type': 'TEXT'},\n",
        "    {'name': 'email', 'type': 'TEXT'}],\n",
        "  'sqlite_sequence': [{'name': 'name', 'type': ''},\n",
        "    {'name': 'seq', 'type': ''}],\n",
        "  'products': [{'name': 'product_id', 'type': 'INTEGER'},\n",
        "    {'name': 'product_name', 'type': 'TEXT'},\n",
        "    {'name': 'price', 'type': 'REAL'}],\n",
        "  'date': [{'name': 'date_id', 'type': 'INTEGER'},\n",
        "    {'name': 'day', 'type': 'INTEGER'},\n",
        "    {'name': 'month', 'type': 'INTEGER'},\n",
        "    {'name': 'year', 'type': 'INTEGER'}],\n",
        "  'sales': [{'name': 'sale_id', 'type': 'INTEGER'},\n",
        "    {'name': 'customer_id', 'type': 'INTEGER'},\n",
        "    {'name': 'product_id', 'type': 'INTEGER'},\n",
        "    {'name': 'date_id', 'type': 'INTEGER'},\n",
        "    {'name': 'amount', 'type': 'REAL'}]}\n",
        "  ```\n",
        "\n",
        "  OUTPUT: Return only the SQL query. Skip pre- and post text.\n",
        "\n",
        "  \"\"\"\n",
        "  response = client.chat.completions.create(\n",
        "  model=\"gpt-3.5-turbo-1106\",\n",
        "  response_format={ \"type\": \"json_object\" },\n",
        "  messages=[\n",
        "    {\"role\": \"system\", \"content\": system_prompt + \"Respond in JSON\"},\n",
        "    {\"role\": \"user\", \"content\": str(natural_language_query)}\n",
        "  ],\n",
        "  temperature=0.0\n",
        "  )\n",
        "\n",
        "  script = json.loads(response.choices[0].message.content)['sql_query']\n",
        "\n",
        "  print(script)\n",
        "  return(script)"
      ],
      "metadata": {
        "id": "J8ZL52nhVJeZ"
      },
      "execution_count": 43,
      "outputs": []
    },
    {
      "cell_type": "code",
      "source": [],
      "metadata": {
        "id": "7FK8zHwZvmNh"
      },
      "execution_count": null,
      "outputs": []
    },
    {
      "cell_type": "markdown",
      "source": [
        "### Try it out:\n",
        "\n",
        "**Question**\n",
        "<blockquote>How many customers are in the database?</blockquote>"
      ],
      "metadata": {
        "id": "hwB5C7Xb4HHY"
      }
    },
    {
      "cell_type": "code",
      "source": [
        "pd.read_sql(sql = sql_gpt(input()),\n",
        "            con = db_connection)"
      ],
      "metadata": {
        "colab": {
          "base_uri": "https://localhost:8080/",
          "height": 114
        },
        "id": "TH_yBZgCVp0a",
        "outputId": "519b1143-679b-4551-8e36-da7ca1221eb9"
      },
      "execution_count": 32,
      "outputs": [
        {
          "output_type": "stream",
          "name": "stdout",
          "text": [
            "How many customers are in the database?\n",
            "SELECT COUNT(*) FROM customers;\n"
          ]
        },
        {
          "output_type": "execute_result",
          "data": {
            "text/plain": [
              "   COUNT(*)\n",
              "0        54"
            ],
            "text/html": [
              "\n",
              "  <div id=\"df-9372ebe5-7a15-4577-b6e4-bd84ea70cac9\" class=\"colab-df-container\">\n",
              "    <div>\n",
              "<style scoped>\n",
              "    .dataframe tbody tr th:only-of-type {\n",
              "        vertical-align: middle;\n",
              "    }\n",
              "\n",
              "    .dataframe tbody tr th {\n",
              "        vertical-align: top;\n",
              "    }\n",
              "\n",
              "    .dataframe thead th {\n",
              "        text-align: right;\n",
              "    }\n",
              "</style>\n",
              "<table border=\"1\" class=\"dataframe\">\n",
              "  <thead>\n",
              "    <tr style=\"text-align: right;\">\n",
              "      <th></th>\n",
              "      <th>COUNT(*)</th>\n",
              "    </tr>\n",
              "  </thead>\n",
              "  <tbody>\n",
              "    <tr>\n",
              "      <th>0</th>\n",
              "      <td>54</td>\n",
              "    </tr>\n",
              "  </tbody>\n",
              "</table>\n",
              "</div>\n",
              "    <div class=\"colab-df-buttons\">\n",
              "\n",
              "  <div class=\"colab-df-container\">\n",
              "    <button class=\"colab-df-convert\" onclick=\"convertToInteractive('df-9372ebe5-7a15-4577-b6e4-bd84ea70cac9')\"\n",
              "            title=\"Convert this dataframe to an interactive table.\"\n",
              "            style=\"display:none;\">\n",
              "\n",
              "  <svg xmlns=\"http://www.w3.org/2000/svg\" height=\"24px\" viewBox=\"0 -960 960 960\">\n",
              "    <path d=\"M120-120v-720h720v720H120Zm60-500h600v-160H180v160Zm220 220h160v-160H400v160Zm0 220h160v-160H400v160ZM180-400h160v-160H180v160Zm440 0h160v-160H620v160ZM180-180h160v-160H180v160Zm440 0h160v-160H620v160Z\"/>\n",
              "  </svg>\n",
              "    </button>\n",
              "\n",
              "  <style>\n",
              "    .colab-df-container {\n",
              "      display:flex;\n",
              "      gap: 12px;\n",
              "    }\n",
              "\n",
              "    .colab-df-convert {\n",
              "      background-color: #E8F0FE;\n",
              "      border: none;\n",
              "      border-radius: 50%;\n",
              "      cursor: pointer;\n",
              "      display: none;\n",
              "      fill: #1967D2;\n",
              "      height: 32px;\n",
              "      padding: 0 0 0 0;\n",
              "      width: 32px;\n",
              "    }\n",
              "\n",
              "    .colab-df-convert:hover {\n",
              "      background-color: #E2EBFA;\n",
              "      box-shadow: 0px 1px 2px rgba(60, 64, 67, 0.3), 0px 1px 3px 1px rgba(60, 64, 67, 0.15);\n",
              "      fill: #174EA6;\n",
              "    }\n",
              "\n",
              "    .colab-df-buttons div {\n",
              "      margin-bottom: 4px;\n",
              "    }\n",
              "\n",
              "    [theme=dark] .colab-df-convert {\n",
              "      background-color: #3B4455;\n",
              "      fill: #D2E3FC;\n",
              "    }\n",
              "\n",
              "    [theme=dark] .colab-df-convert:hover {\n",
              "      background-color: #434B5C;\n",
              "      box-shadow: 0px 1px 3px 1px rgba(0, 0, 0, 0.15);\n",
              "      filter: drop-shadow(0px 1px 2px rgba(0, 0, 0, 0.3));\n",
              "      fill: #FFFFFF;\n",
              "    }\n",
              "  </style>\n",
              "\n",
              "    <script>\n",
              "      const buttonEl =\n",
              "        document.querySelector('#df-9372ebe5-7a15-4577-b6e4-bd84ea70cac9 button.colab-df-convert');\n",
              "      buttonEl.style.display =\n",
              "        google.colab.kernel.accessAllowed ? 'block' : 'none';\n",
              "\n",
              "      async function convertToInteractive(key) {\n",
              "        const element = document.querySelector('#df-9372ebe5-7a15-4577-b6e4-bd84ea70cac9');\n",
              "        const dataTable =\n",
              "          await google.colab.kernel.invokeFunction('convertToInteractive',\n",
              "                                                    [key], {});\n",
              "        if (!dataTable) return;\n",
              "\n",
              "        const docLinkHtml = 'Like what you see? Visit the ' +\n",
              "          '<a target=\"_blank\" href=https://colab.research.google.com/notebooks/data_table.ipynb>data table notebook</a>'\n",
              "          + ' to learn more about interactive tables.';\n",
              "        element.innerHTML = '';\n",
              "        dataTable['output_type'] = 'display_data';\n",
              "        await google.colab.output.renderOutput(dataTable, element);\n",
              "        const docLink = document.createElement('div');\n",
              "        docLink.innerHTML = docLinkHtml;\n",
              "        element.appendChild(docLink);\n",
              "      }\n",
              "    </script>\n",
              "  </div>\n",
              "\n",
              "    </div>\n",
              "  </div>\n"
            ]
          },
          "metadata": {},
          "execution_count": 32
        }
      ]
    },
    {
      "cell_type": "markdown",
      "source": [
        "**Question:**\n",
        "<blockquote>When did the last sale happen?</blockquote>"
      ],
      "metadata": {
        "id": "EdoqMlQp2ay3"
      }
    },
    {
      "cell_type": "code",
      "source": [
        "pd.read_sql(sql = sql_gpt(input()),\n",
        "            con = db_connection)"
      ],
      "metadata": {
        "colab": {
          "base_uri": "https://localhost:8080/",
          "height": 114
        },
        "id": "UOY3EC06V7IB",
        "outputId": "15d7049a-5c86-4636-c510-4c82a1842574"
      },
      "execution_count": 33,
      "outputs": [
        {
          "output_type": "stream",
          "name": "stdout",
          "text": [
            "When did the last sale happen?\n",
            "SELECT day, month, year FROM date WHERE date_id = (SELECT MAX(date_id) FROM sales)\n"
          ]
        },
        {
          "output_type": "execute_result",
          "data": {
            "text/plain": [
              "   day  month  year\n",
              "0   10      1  2023"
            ],
            "text/html": [
              "\n",
              "  <div id=\"df-0d840a19-c013-4630-b0d6-0730e366d83a\" class=\"colab-df-container\">\n",
              "    <div>\n",
              "<style scoped>\n",
              "    .dataframe tbody tr th:only-of-type {\n",
              "        vertical-align: middle;\n",
              "    }\n",
              "\n",
              "    .dataframe tbody tr th {\n",
              "        vertical-align: top;\n",
              "    }\n",
              "\n",
              "    .dataframe thead th {\n",
              "        text-align: right;\n",
              "    }\n",
              "</style>\n",
              "<table border=\"1\" class=\"dataframe\">\n",
              "  <thead>\n",
              "    <tr style=\"text-align: right;\">\n",
              "      <th></th>\n",
              "      <th>day</th>\n",
              "      <th>month</th>\n",
              "      <th>year</th>\n",
              "    </tr>\n",
              "  </thead>\n",
              "  <tbody>\n",
              "    <tr>\n",
              "      <th>0</th>\n",
              "      <td>10</td>\n",
              "      <td>1</td>\n",
              "      <td>2023</td>\n",
              "    </tr>\n",
              "  </tbody>\n",
              "</table>\n",
              "</div>\n",
              "    <div class=\"colab-df-buttons\">\n",
              "\n",
              "  <div class=\"colab-df-container\">\n",
              "    <button class=\"colab-df-convert\" onclick=\"convertToInteractive('df-0d840a19-c013-4630-b0d6-0730e366d83a')\"\n",
              "            title=\"Convert this dataframe to an interactive table.\"\n",
              "            style=\"display:none;\">\n",
              "\n",
              "  <svg xmlns=\"http://www.w3.org/2000/svg\" height=\"24px\" viewBox=\"0 -960 960 960\">\n",
              "    <path d=\"M120-120v-720h720v720H120Zm60-500h600v-160H180v160Zm220 220h160v-160H400v160Zm0 220h160v-160H400v160ZM180-400h160v-160H180v160Zm440 0h160v-160H620v160ZM180-180h160v-160H180v160Zm440 0h160v-160H620v160Z\"/>\n",
              "  </svg>\n",
              "    </button>\n",
              "\n",
              "  <style>\n",
              "    .colab-df-container {\n",
              "      display:flex;\n",
              "      gap: 12px;\n",
              "    }\n",
              "\n",
              "    .colab-df-convert {\n",
              "      background-color: #E8F0FE;\n",
              "      border: none;\n",
              "      border-radius: 50%;\n",
              "      cursor: pointer;\n",
              "      display: none;\n",
              "      fill: #1967D2;\n",
              "      height: 32px;\n",
              "      padding: 0 0 0 0;\n",
              "      width: 32px;\n",
              "    }\n",
              "\n",
              "    .colab-df-convert:hover {\n",
              "      background-color: #E2EBFA;\n",
              "      box-shadow: 0px 1px 2px rgba(60, 64, 67, 0.3), 0px 1px 3px 1px rgba(60, 64, 67, 0.15);\n",
              "      fill: #174EA6;\n",
              "    }\n",
              "\n",
              "    .colab-df-buttons div {\n",
              "      margin-bottom: 4px;\n",
              "    }\n",
              "\n",
              "    [theme=dark] .colab-df-convert {\n",
              "      background-color: #3B4455;\n",
              "      fill: #D2E3FC;\n",
              "    }\n",
              "\n",
              "    [theme=dark] .colab-df-convert:hover {\n",
              "      background-color: #434B5C;\n",
              "      box-shadow: 0px 1px 3px 1px rgba(0, 0, 0, 0.15);\n",
              "      filter: drop-shadow(0px 1px 2px rgba(0, 0, 0, 0.3));\n",
              "      fill: #FFFFFF;\n",
              "    }\n",
              "  </style>\n",
              "\n",
              "    <script>\n",
              "      const buttonEl =\n",
              "        document.querySelector('#df-0d840a19-c013-4630-b0d6-0730e366d83a button.colab-df-convert');\n",
              "      buttonEl.style.display =\n",
              "        google.colab.kernel.accessAllowed ? 'block' : 'none';\n",
              "\n",
              "      async function convertToInteractive(key) {\n",
              "        const element = document.querySelector('#df-0d840a19-c013-4630-b0d6-0730e366d83a');\n",
              "        const dataTable =\n",
              "          await google.colab.kernel.invokeFunction('convertToInteractive',\n",
              "                                                    [key], {});\n",
              "        if (!dataTable) return;\n",
              "\n",
              "        const docLinkHtml = 'Like what you see? Visit the ' +\n",
              "          '<a target=\"_blank\" href=https://colab.research.google.com/notebooks/data_table.ipynb>data table notebook</a>'\n",
              "          + ' to learn more about interactive tables.';\n",
              "        element.innerHTML = '';\n",
              "        dataTable['output_type'] = 'display_data';\n",
              "        await google.colab.output.renderOutput(dataTable, element);\n",
              "        const docLink = document.createElement('div');\n",
              "        docLink.innerHTML = docLinkHtml;\n",
              "        element.appendChild(docLink);\n",
              "      }\n",
              "    </script>\n",
              "  </div>\n",
              "\n",
              "    </div>\n",
              "  </div>\n"
            ]
          },
          "metadata": {},
          "execution_count": 33
        }
      ]
    },
    {
      "cell_type": "markdown",
      "source": [
        "**Question:**\n",
        "<blockquote>When did the first sale happen?</blockquote>"
      ],
      "metadata": {
        "id": "hkE2U_eE2aHM"
      }
    },
    {
      "cell_type": "code",
      "source": [
        "pd.read_sql(sql = sql_gpt(input()),\n",
        "            con = db_connection)"
      ],
      "metadata": {
        "colab": {
          "base_uri": "https://localhost:8080/",
          "height": 114
        },
        "id": "Clsw_6yVXdvZ",
        "outputId": "5cff1454-3c34-47a8-915f-abac2f7e85c2"
      },
      "execution_count": 36,
      "outputs": [
        {
          "output_type": "stream",
          "name": "stdout",
          "text": [
            "When did the first sale happen?\n",
            "SELECT d.day, d.month, d.year FROM date d JOIN sales s ON d.date_id = s.date_id ORDER BY s.sale_id LIMIT 1;\n"
          ]
        },
        {
          "output_type": "execute_result",
          "data": {
            "text/plain": [
              "   day  month  year\n",
              "0    1      1  2023"
            ],
            "text/html": [
              "\n",
              "  <div id=\"df-e38107ed-8514-4886-818f-89abc01ba486\" class=\"colab-df-container\">\n",
              "    <div>\n",
              "<style scoped>\n",
              "    .dataframe tbody tr th:only-of-type {\n",
              "        vertical-align: middle;\n",
              "    }\n",
              "\n",
              "    .dataframe tbody tr th {\n",
              "        vertical-align: top;\n",
              "    }\n",
              "\n",
              "    .dataframe thead th {\n",
              "        text-align: right;\n",
              "    }\n",
              "</style>\n",
              "<table border=\"1\" class=\"dataframe\">\n",
              "  <thead>\n",
              "    <tr style=\"text-align: right;\">\n",
              "      <th></th>\n",
              "      <th>day</th>\n",
              "      <th>month</th>\n",
              "      <th>year</th>\n",
              "    </tr>\n",
              "  </thead>\n",
              "  <tbody>\n",
              "    <tr>\n",
              "      <th>0</th>\n",
              "      <td>1</td>\n",
              "      <td>1</td>\n",
              "      <td>2023</td>\n",
              "    </tr>\n",
              "  </tbody>\n",
              "</table>\n",
              "</div>\n",
              "    <div class=\"colab-df-buttons\">\n",
              "\n",
              "  <div class=\"colab-df-container\">\n",
              "    <button class=\"colab-df-convert\" onclick=\"convertToInteractive('df-e38107ed-8514-4886-818f-89abc01ba486')\"\n",
              "            title=\"Convert this dataframe to an interactive table.\"\n",
              "            style=\"display:none;\">\n",
              "\n",
              "  <svg xmlns=\"http://www.w3.org/2000/svg\" height=\"24px\" viewBox=\"0 -960 960 960\">\n",
              "    <path d=\"M120-120v-720h720v720H120Zm60-500h600v-160H180v160Zm220 220h160v-160H400v160Zm0 220h160v-160H400v160ZM180-400h160v-160H180v160Zm440 0h160v-160H620v160ZM180-180h160v-160H180v160Zm440 0h160v-160H620v160Z\"/>\n",
              "  </svg>\n",
              "    </button>\n",
              "\n",
              "  <style>\n",
              "    .colab-df-container {\n",
              "      display:flex;\n",
              "      gap: 12px;\n",
              "    }\n",
              "\n",
              "    .colab-df-convert {\n",
              "      background-color: #E8F0FE;\n",
              "      border: none;\n",
              "      border-radius: 50%;\n",
              "      cursor: pointer;\n",
              "      display: none;\n",
              "      fill: #1967D2;\n",
              "      height: 32px;\n",
              "      padding: 0 0 0 0;\n",
              "      width: 32px;\n",
              "    }\n",
              "\n",
              "    .colab-df-convert:hover {\n",
              "      background-color: #E2EBFA;\n",
              "      box-shadow: 0px 1px 2px rgba(60, 64, 67, 0.3), 0px 1px 3px 1px rgba(60, 64, 67, 0.15);\n",
              "      fill: #174EA6;\n",
              "    }\n",
              "\n",
              "    .colab-df-buttons div {\n",
              "      margin-bottom: 4px;\n",
              "    }\n",
              "\n",
              "    [theme=dark] .colab-df-convert {\n",
              "      background-color: #3B4455;\n",
              "      fill: #D2E3FC;\n",
              "    }\n",
              "\n",
              "    [theme=dark] .colab-df-convert:hover {\n",
              "      background-color: #434B5C;\n",
              "      box-shadow: 0px 1px 3px 1px rgba(0, 0, 0, 0.15);\n",
              "      filter: drop-shadow(0px 1px 2px rgba(0, 0, 0, 0.3));\n",
              "      fill: #FFFFFF;\n",
              "    }\n",
              "  </style>\n",
              "\n",
              "    <script>\n",
              "      const buttonEl =\n",
              "        document.querySelector('#df-e38107ed-8514-4886-818f-89abc01ba486 button.colab-df-convert');\n",
              "      buttonEl.style.display =\n",
              "        google.colab.kernel.accessAllowed ? 'block' : 'none';\n",
              "\n",
              "      async function convertToInteractive(key) {\n",
              "        const element = document.querySelector('#df-e38107ed-8514-4886-818f-89abc01ba486');\n",
              "        const dataTable =\n",
              "          await google.colab.kernel.invokeFunction('convertToInteractive',\n",
              "                                                    [key], {});\n",
              "        if (!dataTable) return;\n",
              "\n",
              "        const docLinkHtml = 'Like what you see? Visit the ' +\n",
              "          '<a target=\"_blank\" href=https://colab.research.google.com/notebooks/data_table.ipynb>data table notebook</a>'\n",
              "          + ' to learn more about interactive tables.';\n",
              "        element.innerHTML = '';\n",
              "        dataTable['output_type'] = 'display_data';\n",
              "        await google.colab.output.renderOutput(dataTable, element);\n",
              "        const docLink = document.createElement('div');\n",
              "        docLink.innerHTML = docLinkHtml;\n",
              "        element.appendChild(docLink);\n",
              "      }\n",
              "    </script>\n",
              "  </div>\n",
              "\n",
              "    </div>\n",
              "  </div>\n"
            ]
          },
          "metadata": {},
          "execution_count": 36
        }
      ]
    },
    {
      "cell_type": "markdown",
      "source": [
        "**Question:**\n",
        "<blockquote>How much did we sell on 15/01/2023?</blockquote>"
      ],
      "metadata": {
        "id": "4RuW-Otn2UQO"
      }
    },
    {
      "cell_type": "code",
      "source": [
        "pd.read_sql(sql = sql_gpt(input()),\n",
        "            con = db_connection)"
      ],
      "metadata": {
        "colab": {
          "base_uri": "https://localhost:8080/",
          "height": 114
        },
        "id": "1X2vT9B3XjTh",
        "outputId": "8e5e1972-3624-47d2-deba-4581c0c467dd"
      },
      "execution_count": 37,
      "outputs": [
        {
          "output_type": "stream",
          "name": "stdout",
          "text": [
            "How much did we sell on 15/01/2023?\n",
            "SELECT SUM(amount) AS total_sales FROM sales s JOIN date d ON s.date_id = d.date_id WHERE d.day = 15 AND d.month = 1 AND d.year = 2023\n"
          ]
        },
        {
          "output_type": "execute_result",
          "data": {
            "text/plain": [
              "   total_sales\n",
              "0   21772.2597"
            ],
            "text/html": [
              "\n",
              "  <div id=\"df-fca5da26-3ab5-4141-9bf6-89168a33b77a\" class=\"colab-df-container\">\n",
              "    <div>\n",
              "<style scoped>\n",
              "    .dataframe tbody tr th:only-of-type {\n",
              "        vertical-align: middle;\n",
              "    }\n",
              "\n",
              "    .dataframe tbody tr th {\n",
              "        vertical-align: top;\n",
              "    }\n",
              "\n",
              "    .dataframe thead th {\n",
              "        text-align: right;\n",
              "    }\n",
              "</style>\n",
              "<table border=\"1\" class=\"dataframe\">\n",
              "  <thead>\n",
              "    <tr style=\"text-align: right;\">\n",
              "      <th></th>\n",
              "      <th>total_sales</th>\n",
              "    </tr>\n",
              "  </thead>\n",
              "  <tbody>\n",
              "    <tr>\n",
              "      <th>0</th>\n",
              "      <td>21772.2597</td>\n",
              "    </tr>\n",
              "  </tbody>\n",
              "</table>\n",
              "</div>\n",
              "    <div class=\"colab-df-buttons\">\n",
              "\n",
              "  <div class=\"colab-df-container\">\n",
              "    <button class=\"colab-df-convert\" onclick=\"convertToInteractive('df-fca5da26-3ab5-4141-9bf6-89168a33b77a')\"\n",
              "            title=\"Convert this dataframe to an interactive table.\"\n",
              "            style=\"display:none;\">\n",
              "\n",
              "  <svg xmlns=\"http://www.w3.org/2000/svg\" height=\"24px\" viewBox=\"0 -960 960 960\">\n",
              "    <path d=\"M120-120v-720h720v720H120Zm60-500h600v-160H180v160Zm220 220h160v-160H400v160Zm0 220h160v-160H400v160ZM180-400h160v-160H180v160Zm440 0h160v-160H620v160ZM180-180h160v-160H180v160Zm440 0h160v-160H620v160Z\"/>\n",
              "  </svg>\n",
              "    </button>\n",
              "\n",
              "  <style>\n",
              "    .colab-df-container {\n",
              "      display:flex;\n",
              "      gap: 12px;\n",
              "    }\n",
              "\n",
              "    .colab-df-convert {\n",
              "      background-color: #E8F0FE;\n",
              "      border: none;\n",
              "      border-radius: 50%;\n",
              "      cursor: pointer;\n",
              "      display: none;\n",
              "      fill: #1967D2;\n",
              "      height: 32px;\n",
              "      padding: 0 0 0 0;\n",
              "      width: 32px;\n",
              "    }\n",
              "\n",
              "    .colab-df-convert:hover {\n",
              "      background-color: #E2EBFA;\n",
              "      box-shadow: 0px 1px 2px rgba(60, 64, 67, 0.3), 0px 1px 3px 1px rgba(60, 64, 67, 0.15);\n",
              "      fill: #174EA6;\n",
              "    }\n",
              "\n",
              "    .colab-df-buttons div {\n",
              "      margin-bottom: 4px;\n",
              "    }\n",
              "\n",
              "    [theme=dark] .colab-df-convert {\n",
              "      background-color: #3B4455;\n",
              "      fill: #D2E3FC;\n",
              "    }\n",
              "\n",
              "    [theme=dark] .colab-df-convert:hover {\n",
              "      background-color: #434B5C;\n",
              "      box-shadow: 0px 1px 3px 1px rgba(0, 0, 0, 0.15);\n",
              "      filter: drop-shadow(0px 1px 2px rgba(0, 0, 0, 0.3));\n",
              "      fill: #FFFFFF;\n",
              "    }\n",
              "  </style>\n",
              "\n",
              "    <script>\n",
              "      const buttonEl =\n",
              "        document.querySelector('#df-fca5da26-3ab5-4141-9bf6-89168a33b77a button.colab-df-convert');\n",
              "      buttonEl.style.display =\n",
              "        google.colab.kernel.accessAllowed ? 'block' : 'none';\n",
              "\n",
              "      async function convertToInteractive(key) {\n",
              "        const element = document.querySelector('#df-fca5da26-3ab5-4141-9bf6-89168a33b77a');\n",
              "        const dataTable =\n",
              "          await google.colab.kernel.invokeFunction('convertToInteractive',\n",
              "                                                    [key], {});\n",
              "        if (!dataTable) return;\n",
              "\n",
              "        const docLinkHtml = 'Like what you see? Visit the ' +\n",
              "          '<a target=\"_blank\" href=https://colab.research.google.com/notebooks/data_table.ipynb>data table notebook</a>'\n",
              "          + ' to learn more about interactive tables.';\n",
              "        element.innerHTML = '';\n",
              "        dataTable['output_type'] = 'display_data';\n",
              "        await google.colab.output.renderOutput(dataTable, element);\n",
              "        const docLink = document.createElement('div');\n",
              "        docLink.innerHTML = docLinkHtml;\n",
              "        element.appendChild(docLink);\n",
              "      }\n",
              "    </script>\n",
              "  </div>\n",
              "\n",
              "    </div>\n",
              "  </div>\n"
            ]
          },
          "metadata": {},
          "execution_count": 37
        }
      ]
    },
    {
      "cell_type": "markdown",
      "source": [
        "**Question:**\n",
        "<blockquote>Which customer did the highest sales?</blockquote>"
      ],
      "metadata": {
        "id": "PT_FrJ7R2Oqo"
      }
    },
    {
      "cell_type": "code",
      "source": [
        "pd.read_sql(sql = sql_gpt(input()),\n",
        "            con = db_connection)"
      ],
      "metadata": {
        "colab": {
          "base_uri": "https://localhost:8080/",
          "height": 134
        },
        "id": "LHPOyZbtYcFb",
        "outputId": "2c0de900-0e8f-414e-c4d6-2d49dedfc88f"
      },
      "execution_count": 42,
      "outputs": [
        {
          "output_type": "stream",
          "name": "stdout",
          "text": [
            "Which customer did the highest sales?\n",
            "\"SELECT c.first_name, c.last_name, SUM(s.amount) AS total_sales_amount FROM customers c JOIN sales s ON c.customer_id = s.customer_id GROUP BY c.customer_id ORDER BY total_sales_amount DESC LIMIT 1;\"\n"
          ]
        },
        {
          "output_type": "execute_result",
          "data": {
            "text/plain": [
              "  first_name last_name  total_sales_amount\n",
              "0    Barbara    Murray         8919.621054"
            ],
            "text/html": [
              "\n",
              "  <div id=\"df-41f71ba9-5d94-4e04-877d-e993f30258ba\" class=\"colab-df-container\">\n",
              "    <div>\n",
              "<style scoped>\n",
              "    .dataframe tbody tr th:only-of-type {\n",
              "        vertical-align: middle;\n",
              "    }\n",
              "\n",
              "    .dataframe tbody tr th {\n",
              "        vertical-align: top;\n",
              "    }\n",
              "\n",
              "    .dataframe thead th {\n",
              "        text-align: right;\n",
              "    }\n",
              "</style>\n",
              "<table border=\"1\" class=\"dataframe\">\n",
              "  <thead>\n",
              "    <tr style=\"text-align: right;\">\n",
              "      <th></th>\n",
              "      <th>first_name</th>\n",
              "      <th>last_name</th>\n",
              "      <th>total_sales_amount</th>\n",
              "    </tr>\n",
              "  </thead>\n",
              "  <tbody>\n",
              "    <tr>\n",
              "      <th>0</th>\n",
              "      <td>Barbara</td>\n",
              "      <td>Murray</td>\n",
              "      <td>8919.621054</td>\n",
              "    </tr>\n",
              "  </tbody>\n",
              "</table>\n",
              "</div>\n",
              "    <div class=\"colab-df-buttons\">\n",
              "\n",
              "  <div class=\"colab-df-container\">\n",
              "    <button class=\"colab-df-convert\" onclick=\"convertToInteractive('df-41f71ba9-5d94-4e04-877d-e993f30258ba')\"\n",
              "            title=\"Convert this dataframe to an interactive table.\"\n",
              "            style=\"display:none;\">\n",
              "\n",
              "  <svg xmlns=\"http://www.w3.org/2000/svg\" height=\"24px\" viewBox=\"0 -960 960 960\">\n",
              "    <path d=\"M120-120v-720h720v720H120Zm60-500h600v-160H180v160Zm220 220h160v-160H400v160Zm0 220h160v-160H400v160ZM180-400h160v-160H180v160Zm440 0h160v-160H620v160ZM180-180h160v-160H180v160Zm440 0h160v-160H620v160Z\"/>\n",
              "  </svg>\n",
              "    </button>\n",
              "\n",
              "  <style>\n",
              "    .colab-df-container {\n",
              "      display:flex;\n",
              "      gap: 12px;\n",
              "    }\n",
              "\n",
              "    .colab-df-convert {\n",
              "      background-color: #E8F0FE;\n",
              "      border: none;\n",
              "      border-radius: 50%;\n",
              "      cursor: pointer;\n",
              "      display: none;\n",
              "      fill: #1967D2;\n",
              "      height: 32px;\n",
              "      padding: 0 0 0 0;\n",
              "      width: 32px;\n",
              "    }\n",
              "\n",
              "    .colab-df-convert:hover {\n",
              "      background-color: #E2EBFA;\n",
              "      box-shadow: 0px 1px 2px rgba(60, 64, 67, 0.3), 0px 1px 3px 1px rgba(60, 64, 67, 0.15);\n",
              "      fill: #174EA6;\n",
              "    }\n",
              "\n",
              "    .colab-df-buttons div {\n",
              "      margin-bottom: 4px;\n",
              "    }\n",
              "\n",
              "    [theme=dark] .colab-df-convert {\n",
              "      background-color: #3B4455;\n",
              "      fill: #D2E3FC;\n",
              "    }\n",
              "\n",
              "    [theme=dark] .colab-df-convert:hover {\n",
              "      background-color: #434B5C;\n",
              "      box-shadow: 0px 1px 3px 1px rgba(0, 0, 0, 0.15);\n",
              "      filter: drop-shadow(0px 1px 2px rgba(0, 0, 0, 0.3));\n",
              "      fill: #FFFFFF;\n",
              "    }\n",
              "  </style>\n",
              "\n",
              "    <script>\n",
              "      const buttonEl =\n",
              "        document.querySelector('#df-41f71ba9-5d94-4e04-877d-e993f30258ba button.colab-df-convert');\n",
              "      buttonEl.style.display =\n",
              "        google.colab.kernel.accessAllowed ? 'block' : 'none';\n",
              "\n",
              "      async function convertToInteractive(key) {\n",
              "        const element = document.querySelector('#df-41f71ba9-5d94-4e04-877d-e993f30258ba');\n",
              "        const dataTable =\n",
              "          await google.colab.kernel.invokeFunction('convertToInteractive',\n",
              "                                                    [key], {});\n",
              "        if (!dataTable) return;\n",
              "\n",
              "        const docLinkHtml = 'Like what you see? Visit the ' +\n",
              "          '<a target=\"_blank\" href=https://colab.research.google.com/notebooks/data_table.ipynb>data table notebook</a>'\n",
              "          + ' to learn more about interactive tables.';\n",
              "        element.innerHTML = '';\n",
              "        dataTable['output_type'] = 'display_data';\n",
              "        await google.colab.output.renderOutput(dataTable, element);\n",
              "        const docLink = document.createElement('div');\n",
              "        docLink.innerHTML = docLinkHtml;\n",
              "        element.appendChild(docLink);\n",
              "      }\n",
              "    </script>\n",
              "  </div>\n",
              "\n",
              "    </div>\n",
              "  </div>\n"
            ]
          },
          "metadata": {},
          "execution_count": 42
        }
      ]
    },
    {
      "cell_type": "markdown",
      "source": [
        "### Return output as a new data frame"
      ],
      "metadata": {
        "id": "lMXtH-_y4ls0"
      }
    },
    {
      "cell_type": "markdown",
      "source": [
        "**Question:**\n",
        "<blockquote>Give me a list of the top 10 customers orders depending by amount. Include first name, last name and total amount.</blockquote>\n"
      ],
      "metadata": {
        "id": "iWCIpLu914a4"
      }
    },
    {
      "cell_type": "code",
      "source": [
        "customers_df = pd.read_sql(sql = sql_gpt(input()), con = db_connection)"
      ],
      "metadata": {
        "colab": {
          "base_uri": "https://localhost:8080/"
        },
        "id": "uxqO3hNUCa5w",
        "outputId": "f8095362-e2da-448a-b65b-403a66358cca"
      },
      "execution_count": 44,
      "outputs": [
        {
          "output_type": "stream",
          "name": "stdout",
          "text": [
            "Give me a list of the top 10 customers orders depending by amount. Include first name, last name and total amount.\n",
            "SELECT c.first_name, c.last_name, SUM(s.amount) AS total_amount FROM customers c JOIN sales s ON c.customer_id = s.customer_id GROUP BY c.customer_id ORDER BY total_amount DESC LIMIT 10;\n"
          ]
        }
      ]
    },
    {
      "cell_type": "code",
      "source": [
        "customers_df"
      ],
      "metadata": {
        "colab": {
          "base_uri": "https://localhost:8080/",
          "height": 359
        },
        "id": "hFBCwD55DrbH",
        "outputId": "88590f2f-8dca-4d68-edbf-357613eaed4c"
      },
      "execution_count": 45,
      "outputs": [
        {
          "output_type": "execute_result",
          "data": {
            "text/plain": [
              "  first_name   last_name  total_amount\n",
              "0    Barbara      Murray   8919.621054\n",
              "1        Zoe      Hughes   8839.783989\n",
              "2       Seth        Reid   8100.049504\n",
              "3       Jane         Doe   7737.892352\n",
              "4       John         Doe   7683.508202\n",
              "5      Leroy       Evans   7583.337208\n",
              "6      Holly  Mclaughlin   7393.094220\n",
              "7     Justin  Harrington   7213.560863\n",
              "8      Helen       Brown   6762.883192\n",
              "9     Andrew    Mcknight   6757.403785"
            ],
            "text/html": [
              "\n",
              "  <div id=\"df-50e29421-7e00-4251-904b-3189303c617f\" class=\"colab-df-container\">\n",
              "    <div>\n",
              "<style scoped>\n",
              "    .dataframe tbody tr th:only-of-type {\n",
              "        vertical-align: middle;\n",
              "    }\n",
              "\n",
              "    .dataframe tbody tr th {\n",
              "        vertical-align: top;\n",
              "    }\n",
              "\n",
              "    .dataframe thead th {\n",
              "        text-align: right;\n",
              "    }\n",
              "</style>\n",
              "<table border=\"1\" class=\"dataframe\">\n",
              "  <thead>\n",
              "    <tr style=\"text-align: right;\">\n",
              "      <th></th>\n",
              "      <th>first_name</th>\n",
              "      <th>last_name</th>\n",
              "      <th>total_amount</th>\n",
              "    </tr>\n",
              "  </thead>\n",
              "  <tbody>\n",
              "    <tr>\n",
              "      <th>0</th>\n",
              "      <td>Barbara</td>\n",
              "      <td>Murray</td>\n",
              "      <td>8919.621054</td>\n",
              "    </tr>\n",
              "    <tr>\n",
              "      <th>1</th>\n",
              "      <td>Zoe</td>\n",
              "      <td>Hughes</td>\n",
              "      <td>8839.783989</td>\n",
              "    </tr>\n",
              "    <tr>\n",
              "      <th>2</th>\n",
              "      <td>Seth</td>\n",
              "      <td>Reid</td>\n",
              "      <td>8100.049504</td>\n",
              "    </tr>\n",
              "    <tr>\n",
              "      <th>3</th>\n",
              "      <td>Jane</td>\n",
              "      <td>Doe</td>\n",
              "      <td>7737.892352</td>\n",
              "    </tr>\n",
              "    <tr>\n",
              "      <th>4</th>\n",
              "      <td>John</td>\n",
              "      <td>Doe</td>\n",
              "      <td>7683.508202</td>\n",
              "    </tr>\n",
              "    <tr>\n",
              "      <th>5</th>\n",
              "      <td>Leroy</td>\n",
              "      <td>Evans</td>\n",
              "      <td>7583.337208</td>\n",
              "    </tr>\n",
              "    <tr>\n",
              "      <th>6</th>\n",
              "      <td>Holly</td>\n",
              "      <td>Mclaughlin</td>\n",
              "      <td>7393.094220</td>\n",
              "    </tr>\n",
              "    <tr>\n",
              "      <th>7</th>\n",
              "      <td>Justin</td>\n",
              "      <td>Harrington</td>\n",
              "      <td>7213.560863</td>\n",
              "    </tr>\n",
              "    <tr>\n",
              "      <th>8</th>\n",
              "      <td>Helen</td>\n",
              "      <td>Brown</td>\n",
              "      <td>6762.883192</td>\n",
              "    </tr>\n",
              "    <tr>\n",
              "      <th>9</th>\n",
              "      <td>Andrew</td>\n",
              "      <td>Mcknight</td>\n",
              "      <td>6757.403785</td>\n",
              "    </tr>\n",
              "  </tbody>\n",
              "</table>\n",
              "</div>\n",
              "    <div class=\"colab-df-buttons\">\n",
              "\n",
              "  <div class=\"colab-df-container\">\n",
              "    <button class=\"colab-df-convert\" onclick=\"convertToInteractive('df-50e29421-7e00-4251-904b-3189303c617f')\"\n",
              "            title=\"Convert this dataframe to an interactive table.\"\n",
              "            style=\"display:none;\">\n",
              "\n",
              "  <svg xmlns=\"http://www.w3.org/2000/svg\" height=\"24px\" viewBox=\"0 -960 960 960\">\n",
              "    <path d=\"M120-120v-720h720v720H120Zm60-500h600v-160H180v160Zm220 220h160v-160H400v160Zm0 220h160v-160H400v160ZM180-400h160v-160H180v160Zm440 0h160v-160H620v160ZM180-180h160v-160H180v160Zm440 0h160v-160H620v160Z\"/>\n",
              "  </svg>\n",
              "    </button>\n",
              "\n",
              "  <style>\n",
              "    .colab-df-container {\n",
              "      display:flex;\n",
              "      gap: 12px;\n",
              "    }\n",
              "\n",
              "    .colab-df-convert {\n",
              "      background-color: #E8F0FE;\n",
              "      border: none;\n",
              "      border-radius: 50%;\n",
              "      cursor: pointer;\n",
              "      display: none;\n",
              "      fill: #1967D2;\n",
              "      height: 32px;\n",
              "      padding: 0 0 0 0;\n",
              "      width: 32px;\n",
              "    }\n",
              "\n",
              "    .colab-df-convert:hover {\n",
              "      background-color: #E2EBFA;\n",
              "      box-shadow: 0px 1px 2px rgba(60, 64, 67, 0.3), 0px 1px 3px 1px rgba(60, 64, 67, 0.15);\n",
              "      fill: #174EA6;\n",
              "    }\n",
              "\n",
              "    .colab-df-buttons div {\n",
              "      margin-bottom: 4px;\n",
              "    }\n",
              "\n",
              "    [theme=dark] .colab-df-convert {\n",
              "      background-color: #3B4455;\n",
              "      fill: #D2E3FC;\n",
              "    }\n",
              "\n",
              "    [theme=dark] .colab-df-convert:hover {\n",
              "      background-color: #434B5C;\n",
              "      box-shadow: 0px 1px 3px 1px rgba(0, 0, 0, 0.15);\n",
              "      filter: drop-shadow(0px 1px 2px rgba(0, 0, 0, 0.3));\n",
              "      fill: #FFFFFF;\n",
              "    }\n",
              "  </style>\n",
              "\n",
              "    <script>\n",
              "      const buttonEl =\n",
              "        document.querySelector('#df-50e29421-7e00-4251-904b-3189303c617f button.colab-df-convert');\n",
              "      buttonEl.style.display =\n",
              "        google.colab.kernel.accessAllowed ? 'block' : 'none';\n",
              "\n",
              "      async function convertToInteractive(key) {\n",
              "        const element = document.querySelector('#df-50e29421-7e00-4251-904b-3189303c617f');\n",
              "        const dataTable =\n",
              "          await google.colab.kernel.invokeFunction('convertToInteractive',\n",
              "                                                    [key], {});\n",
              "        if (!dataTable) return;\n",
              "\n",
              "        const docLinkHtml = 'Like what you see? Visit the ' +\n",
              "          '<a target=\"_blank\" href=https://colab.research.google.com/notebooks/data_table.ipynb>data table notebook</a>'\n",
              "          + ' to learn more about interactive tables.';\n",
              "        element.innerHTML = '';\n",
              "        dataTable['output_type'] = 'display_data';\n",
              "        await google.colab.output.renderOutput(dataTable, element);\n",
              "        const docLink = document.createElement('div');\n",
              "        docLink.innerHTML = docLinkHtml;\n",
              "        element.appendChild(docLink);\n",
              "      }\n",
              "    </script>\n",
              "  </div>\n",
              "\n",
              "\n",
              "<div id=\"df-64f8211f-4f09-49ca-b356-f67fe0ba7eeb\">\n",
              "  <button class=\"colab-df-quickchart\" onclick=\"quickchart('df-64f8211f-4f09-49ca-b356-f67fe0ba7eeb')\"\n",
              "            title=\"Suggest charts\"\n",
              "            style=\"display:none;\">\n",
              "\n",
              "<svg xmlns=\"http://www.w3.org/2000/svg\" height=\"24px\"viewBox=\"0 0 24 24\"\n",
              "     width=\"24px\">\n",
              "    <g>\n",
              "        <path d=\"M19 3H5c-1.1 0-2 .9-2 2v14c0 1.1.9 2 2 2h14c1.1 0 2-.9 2-2V5c0-1.1-.9-2-2-2zM9 17H7v-7h2v7zm4 0h-2V7h2v10zm4 0h-2v-4h2v4z\"/>\n",
              "    </g>\n",
              "</svg>\n",
              "  </button>\n",
              "\n",
              "<style>\n",
              "  .colab-df-quickchart {\n",
              "      --bg-color: #E8F0FE;\n",
              "      --fill-color: #1967D2;\n",
              "      --hover-bg-color: #E2EBFA;\n",
              "      --hover-fill-color: #174EA6;\n",
              "      --disabled-fill-color: #AAA;\n",
              "      --disabled-bg-color: #DDD;\n",
              "  }\n",
              "\n",
              "  [theme=dark] .colab-df-quickchart {\n",
              "      --bg-color: #3B4455;\n",
              "      --fill-color: #D2E3FC;\n",
              "      --hover-bg-color: #434B5C;\n",
              "      --hover-fill-color: #FFFFFF;\n",
              "      --disabled-bg-color: #3B4455;\n",
              "      --disabled-fill-color: #666;\n",
              "  }\n",
              "\n",
              "  .colab-df-quickchart {\n",
              "    background-color: var(--bg-color);\n",
              "    border: none;\n",
              "    border-radius: 50%;\n",
              "    cursor: pointer;\n",
              "    display: none;\n",
              "    fill: var(--fill-color);\n",
              "    height: 32px;\n",
              "    padding: 0;\n",
              "    width: 32px;\n",
              "  }\n",
              "\n",
              "  .colab-df-quickchart:hover {\n",
              "    background-color: var(--hover-bg-color);\n",
              "    box-shadow: 0 1px 2px rgba(60, 64, 67, 0.3), 0 1px 3px 1px rgba(60, 64, 67, 0.15);\n",
              "    fill: var(--button-hover-fill-color);\n",
              "  }\n",
              "\n",
              "  .colab-df-quickchart-complete:disabled,\n",
              "  .colab-df-quickchart-complete:disabled:hover {\n",
              "    background-color: var(--disabled-bg-color);\n",
              "    fill: var(--disabled-fill-color);\n",
              "    box-shadow: none;\n",
              "  }\n",
              "\n",
              "  .colab-df-spinner {\n",
              "    border: 2px solid var(--fill-color);\n",
              "    border-color: transparent;\n",
              "    border-bottom-color: var(--fill-color);\n",
              "    animation:\n",
              "      spin 1s steps(1) infinite;\n",
              "  }\n",
              "\n",
              "  @keyframes spin {\n",
              "    0% {\n",
              "      border-color: transparent;\n",
              "      border-bottom-color: var(--fill-color);\n",
              "      border-left-color: var(--fill-color);\n",
              "    }\n",
              "    20% {\n",
              "      border-color: transparent;\n",
              "      border-left-color: var(--fill-color);\n",
              "      border-top-color: var(--fill-color);\n",
              "    }\n",
              "    30% {\n",
              "      border-color: transparent;\n",
              "      border-left-color: var(--fill-color);\n",
              "      border-top-color: var(--fill-color);\n",
              "      border-right-color: var(--fill-color);\n",
              "    }\n",
              "    40% {\n",
              "      border-color: transparent;\n",
              "      border-right-color: var(--fill-color);\n",
              "      border-top-color: var(--fill-color);\n",
              "    }\n",
              "    60% {\n",
              "      border-color: transparent;\n",
              "      border-right-color: var(--fill-color);\n",
              "    }\n",
              "    80% {\n",
              "      border-color: transparent;\n",
              "      border-right-color: var(--fill-color);\n",
              "      border-bottom-color: var(--fill-color);\n",
              "    }\n",
              "    90% {\n",
              "      border-color: transparent;\n",
              "      border-bottom-color: var(--fill-color);\n",
              "    }\n",
              "  }\n",
              "</style>\n",
              "\n",
              "  <script>\n",
              "    async function quickchart(key) {\n",
              "      const quickchartButtonEl =\n",
              "        document.querySelector('#' + key + ' button');\n",
              "      quickchartButtonEl.disabled = true;  // To prevent multiple clicks.\n",
              "      quickchartButtonEl.classList.add('colab-df-spinner');\n",
              "      try {\n",
              "        const charts = await google.colab.kernel.invokeFunction(\n",
              "            'suggestCharts', [key], {});\n",
              "      } catch (error) {\n",
              "        console.error('Error during call to suggestCharts:', error);\n",
              "      }\n",
              "      quickchartButtonEl.classList.remove('colab-df-spinner');\n",
              "      quickchartButtonEl.classList.add('colab-df-quickchart-complete');\n",
              "    }\n",
              "    (() => {\n",
              "      let quickchartButtonEl =\n",
              "        document.querySelector('#df-64f8211f-4f09-49ca-b356-f67fe0ba7eeb button');\n",
              "      quickchartButtonEl.style.display =\n",
              "        google.colab.kernel.accessAllowed ? 'block' : 'none';\n",
              "    })();\n",
              "  </script>\n",
              "</div>\n",
              "    </div>\n",
              "  </div>\n"
            ]
          },
          "metadata": {},
          "execution_count": 45
        }
      ]
    },
    {
      "cell_type": "markdown",
      "source": [
        "**Question:**\n",
        "<blockquote>I want to know which product types are popular by customer ID. Show me the total of sales by product type for each customer ID.</blockquote>"
      ],
      "metadata": {
        "id": "IOKSsSCk4zBl"
      }
    },
    {
      "cell_type": "code",
      "source": [
        "products_df = pd.read_sql(sql = sql_gpt(input()), con = db_connection)"
      ],
      "metadata": {
        "colab": {
          "base_uri": "https://localhost:8080/"
        },
        "id": "nririwt5KB2r",
        "outputId": "287a4e42-2b93-4f33-a66d-41e591444a5a"
      },
      "execution_count": 55,
      "outputs": [
        {
          "output_type": "stream",
          "name": "stdout",
          "text": [
            "I want to know which product types are popular by customer ID. Show me the total of sales by product type for each customer ID.\n",
            "SELECT c.customer_id, p.product_name, SUM(s.amount) AS total_sales\n",
            "FROM sales s\n",
            "JOIN customers c ON s.customer_id = c.customer_id\n",
            "JOIN products p ON s.product_id = p.product_id\n",
            "GROUP BY c.customer_id, p.product_name;\n"
          ]
        }
      ]
    },
    {
      "cell_type": "code",
      "source": [
        "products_df"
      ],
      "metadata": {
        "colab": {
          "base_uri": "https://localhost:8080/",
          "height": 419
        },
        "id": "G6H3mT1pKJZp",
        "outputId": "29a7dd92-4641-48a3-e2b0-8ecaa6ba6dab"
      },
      "execution_count": 56,
      "outputs": [
        {
          "output_type": "execute_result",
          "data": {
            "text/plain": [
              "     customer_id product_name  total_sales\n",
              "0              1       Camera  2071.531202\n",
              "1              1       Laptop  2409.043864\n",
              "2              1        Phone  2139.401815\n",
              "3              1           TV  1063.531322\n",
              "4              2       Camera  2345.252477\n",
              "..           ...          ...          ...\n",
              "181           49           TV  1652.898348\n",
              "182           50       Camera  2185.883877\n",
              "183           50       Laptop   546.915469\n",
              "184           50        Phone   750.300776\n",
              "185           50           TV  1550.257011\n",
              "\n",
              "[186 rows x 3 columns]"
            ],
            "text/html": [
              "\n",
              "  <div id=\"df-73d1c21a-feaa-4978-8100-be4e9565b2ca\" class=\"colab-df-container\">\n",
              "    <div>\n",
              "<style scoped>\n",
              "    .dataframe tbody tr th:only-of-type {\n",
              "        vertical-align: middle;\n",
              "    }\n",
              "\n",
              "    .dataframe tbody tr th {\n",
              "        vertical-align: top;\n",
              "    }\n",
              "\n",
              "    .dataframe thead th {\n",
              "        text-align: right;\n",
              "    }\n",
              "</style>\n",
              "<table border=\"1\" class=\"dataframe\">\n",
              "  <thead>\n",
              "    <tr style=\"text-align: right;\">\n",
              "      <th></th>\n",
              "      <th>customer_id</th>\n",
              "      <th>product_name</th>\n",
              "      <th>total_sales</th>\n",
              "    </tr>\n",
              "  </thead>\n",
              "  <tbody>\n",
              "    <tr>\n",
              "      <th>0</th>\n",
              "      <td>1</td>\n",
              "      <td>Camera</td>\n",
              "      <td>2071.531202</td>\n",
              "    </tr>\n",
              "    <tr>\n",
              "      <th>1</th>\n",
              "      <td>1</td>\n",
              "      <td>Laptop</td>\n",
              "      <td>2409.043864</td>\n",
              "    </tr>\n",
              "    <tr>\n",
              "      <th>2</th>\n",
              "      <td>1</td>\n",
              "      <td>Phone</td>\n",
              "      <td>2139.401815</td>\n",
              "    </tr>\n",
              "    <tr>\n",
              "      <th>3</th>\n",
              "      <td>1</td>\n",
              "      <td>TV</td>\n",
              "      <td>1063.531322</td>\n",
              "    </tr>\n",
              "    <tr>\n",
              "      <th>4</th>\n",
              "      <td>2</td>\n",
              "      <td>Camera</td>\n",
              "      <td>2345.252477</td>\n",
              "    </tr>\n",
              "    <tr>\n",
              "      <th>...</th>\n",
              "      <td>...</td>\n",
              "      <td>...</td>\n",
              "      <td>...</td>\n",
              "    </tr>\n",
              "    <tr>\n",
              "      <th>181</th>\n",
              "      <td>49</td>\n",
              "      <td>TV</td>\n",
              "      <td>1652.898348</td>\n",
              "    </tr>\n",
              "    <tr>\n",
              "      <th>182</th>\n",
              "      <td>50</td>\n",
              "      <td>Camera</td>\n",
              "      <td>2185.883877</td>\n",
              "    </tr>\n",
              "    <tr>\n",
              "      <th>183</th>\n",
              "      <td>50</td>\n",
              "      <td>Laptop</td>\n",
              "      <td>546.915469</td>\n",
              "    </tr>\n",
              "    <tr>\n",
              "      <th>184</th>\n",
              "      <td>50</td>\n",
              "      <td>Phone</td>\n",
              "      <td>750.300776</td>\n",
              "    </tr>\n",
              "    <tr>\n",
              "      <th>185</th>\n",
              "      <td>50</td>\n",
              "      <td>TV</td>\n",
              "      <td>1550.257011</td>\n",
              "    </tr>\n",
              "  </tbody>\n",
              "</table>\n",
              "<p>186 rows × 3 columns</p>\n",
              "</div>\n",
              "    <div class=\"colab-df-buttons\">\n",
              "\n",
              "  <div class=\"colab-df-container\">\n",
              "    <button class=\"colab-df-convert\" onclick=\"convertToInteractive('df-73d1c21a-feaa-4978-8100-be4e9565b2ca')\"\n",
              "            title=\"Convert this dataframe to an interactive table.\"\n",
              "            style=\"display:none;\">\n",
              "\n",
              "  <svg xmlns=\"http://www.w3.org/2000/svg\" height=\"24px\" viewBox=\"0 -960 960 960\">\n",
              "    <path d=\"M120-120v-720h720v720H120Zm60-500h600v-160H180v160Zm220 220h160v-160H400v160Zm0 220h160v-160H400v160ZM180-400h160v-160H180v160Zm440 0h160v-160H620v160ZM180-180h160v-160H180v160Zm440 0h160v-160H620v160Z\"/>\n",
              "  </svg>\n",
              "    </button>\n",
              "\n",
              "  <style>\n",
              "    .colab-df-container {\n",
              "      display:flex;\n",
              "      gap: 12px;\n",
              "    }\n",
              "\n",
              "    .colab-df-convert {\n",
              "      background-color: #E8F0FE;\n",
              "      border: none;\n",
              "      border-radius: 50%;\n",
              "      cursor: pointer;\n",
              "      display: none;\n",
              "      fill: #1967D2;\n",
              "      height: 32px;\n",
              "      padding: 0 0 0 0;\n",
              "      width: 32px;\n",
              "    }\n",
              "\n",
              "    .colab-df-convert:hover {\n",
              "      background-color: #E2EBFA;\n",
              "      box-shadow: 0px 1px 2px rgba(60, 64, 67, 0.3), 0px 1px 3px 1px rgba(60, 64, 67, 0.15);\n",
              "      fill: #174EA6;\n",
              "    }\n",
              "\n",
              "    .colab-df-buttons div {\n",
              "      margin-bottom: 4px;\n",
              "    }\n",
              "\n",
              "    [theme=dark] .colab-df-convert {\n",
              "      background-color: #3B4455;\n",
              "      fill: #D2E3FC;\n",
              "    }\n",
              "\n",
              "    [theme=dark] .colab-df-convert:hover {\n",
              "      background-color: #434B5C;\n",
              "      box-shadow: 0px 1px 3px 1px rgba(0, 0, 0, 0.15);\n",
              "      filter: drop-shadow(0px 1px 2px rgba(0, 0, 0, 0.3));\n",
              "      fill: #FFFFFF;\n",
              "    }\n",
              "  </style>\n",
              "\n",
              "    <script>\n",
              "      const buttonEl =\n",
              "        document.querySelector('#df-73d1c21a-feaa-4978-8100-be4e9565b2ca button.colab-df-convert');\n",
              "      buttonEl.style.display =\n",
              "        google.colab.kernel.accessAllowed ? 'block' : 'none';\n",
              "\n",
              "      async function convertToInteractive(key) {\n",
              "        const element = document.querySelector('#df-73d1c21a-feaa-4978-8100-be4e9565b2ca');\n",
              "        const dataTable =\n",
              "          await google.colab.kernel.invokeFunction('convertToInteractive',\n",
              "                                                    [key], {});\n",
              "        if (!dataTable) return;\n",
              "\n",
              "        const docLinkHtml = 'Like what you see? Visit the ' +\n",
              "          '<a target=\"_blank\" href=https://colab.research.google.com/notebooks/data_table.ipynb>data table notebook</a>'\n",
              "          + ' to learn more about interactive tables.';\n",
              "        element.innerHTML = '';\n",
              "        dataTable['output_type'] = 'display_data';\n",
              "        await google.colab.output.renderOutput(dataTable, element);\n",
              "        const docLink = document.createElement('div');\n",
              "        docLink.innerHTML = docLinkHtml;\n",
              "        element.appendChild(docLink);\n",
              "      }\n",
              "    </script>\n",
              "  </div>\n",
              "\n",
              "\n",
              "<div id=\"df-3d92a482-9e4e-4eb0-8cd0-861593684403\">\n",
              "  <button class=\"colab-df-quickchart\" onclick=\"quickchart('df-3d92a482-9e4e-4eb0-8cd0-861593684403')\"\n",
              "            title=\"Suggest charts\"\n",
              "            style=\"display:none;\">\n",
              "\n",
              "<svg xmlns=\"http://www.w3.org/2000/svg\" height=\"24px\"viewBox=\"0 0 24 24\"\n",
              "     width=\"24px\">\n",
              "    <g>\n",
              "        <path d=\"M19 3H5c-1.1 0-2 .9-2 2v14c0 1.1.9 2 2 2h14c1.1 0 2-.9 2-2V5c0-1.1-.9-2-2-2zM9 17H7v-7h2v7zm4 0h-2V7h2v10zm4 0h-2v-4h2v4z\"/>\n",
              "    </g>\n",
              "</svg>\n",
              "  </button>\n",
              "\n",
              "<style>\n",
              "  .colab-df-quickchart {\n",
              "      --bg-color: #E8F0FE;\n",
              "      --fill-color: #1967D2;\n",
              "      --hover-bg-color: #E2EBFA;\n",
              "      --hover-fill-color: #174EA6;\n",
              "      --disabled-fill-color: #AAA;\n",
              "      --disabled-bg-color: #DDD;\n",
              "  }\n",
              "\n",
              "  [theme=dark] .colab-df-quickchart {\n",
              "      --bg-color: #3B4455;\n",
              "      --fill-color: #D2E3FC;\n",
              "      --hover-bg-color: #434B5C;\n",
              "      --hover-fill-color: #FFFFFF;\n",
              "      --disabled-bg-color: #3B4455;\n",
              "      --disabled-fill-color: #666;\n",
              "  }\n",
              "\n",
              "  .colab-df-quickchart {\n",
              "    background-color: var(--bg-color);\n",
              "    border: none;\n",
              "    border-radius: 50%;\n",
              "    cursor: pointer;\n",
              "    display: none;\n",
              "    fill: var(--fill-color);\n",
              "    height: 32px;\n",
              "    padding: 0;\n",
              "    width: 32px;\n",
              "  }\n",
              "\n",
              "  .colab-df-quickchart:hover {\n",
              "    background-color: var(--hover-bg-color);\n",
              "    box-shadow: 0 1px 2px rgba(60, 64, 67, 0.3), 0 1px 3px 1px rgba(60, 64, 67, 0.15);\n",
              "    fill: var(--button-hover-fill-color);\n",
              "  }\n",
              "\n",
              "  .colab-df-quickchart-complete:disabled,\n",
              "  .colab-df-quickchart-complete:disabled:hover {\n",
              "    background-color: var(--disabled-bg-color);\n",
              "    fill: var(--disabled-fill-color);\n",
              "    box-shadow: none;\n",
              "  }\n",
              "\n",
              "  .colab-df-spinner {\n",
              "    border: 2px solid var(--fill-color);\n",
              "    border-color: transparent;\n",
              "    border-bottom-color: var(--fill-color);\n",
              "    animation:\n",
              "      spin 1s steps(1) infinite;\n",
              "  }\n",
              "\n",
              "  @keyframes spin {\n",
              "    0% {\n",
              "      border-color: transparent;\n",
              "      border-bottom-color: var(--fill-color);\n",
              "      border-left-color: var(--fill-color);\n",
              "    }\n",
              "    20% {\n",
              "      border-color: transparent;\n",
              "      border-left-color: var(--fill-color);\n",
              "      border-top-color: var(--fill-color);\n",
              "    }\n",
              "    30% {\n",
              "      border-color: transparent;\n",
              "      border-left-color: var(--fill-color);\n",
              "      border-top-color: var(--fill-color);\n",
              "      border-right-color: var(--fill-color);\n",
              "    }\n",
              "    40% {\n",
              "      border-color: transparent;\n",
              "      border-right-color: var(--fill-color);\n",
              "      border-top-color: var(--fill-color);\n",
              "    }\n",
              "    60% {\n",
              "      border-color: transparent;\n",
              "      border-right-color: var(--fill-color);\n",
              "    }\n",
              "    80% {\n",
              "      border-color: transparent;\n",
              "      border-right-color: var(--fill-color);\n",
              "      border-bottom-color: var(--fill-color);\n",
              "    }\n",
              "    90% {\n",
              "      border-color: transparent;\n",
              "      border-bottom-color: var(--fill-color);\n",
              "    }\n",
              "  }\n",
              "</style>\n",
              "\n",
              "  <script>\n",
              "    async function quickchart(key) {\n",
              "      const quickchartButtonEl =\n",
              "        document.querySelector('#' + key + ' button');\n",
              "      quickchartButtonEl.disabled = true;  // To prevent multiple clicks.\n",
              "      quickchartButtonEl.classList.add('colab-df-spinner');\n",
              "      try {\n",
              "        const charts = await google.colab.kernel.invokeFunction(\n",
              "            'suggestCharts', [key], {});\n",
              "      } catch (error) {\n",
              "        console.error('Error during call to suggestCharts:', error);\n",
              "      }\n",
              "      quickchartButtonEl.classList.remove('colab-df-spinner');\n",
              "      quickchartButtonEl.classList.add('colab-df-quickchart-complete');\n",
              "    }\n",
              "    (() => {\n",
              "      let quickchartButtonEl =\n",
              "        document.querySelector('#df-3d92a482-9e4e-4eb0-8cd0-861593684403 button');\n",
              "      quickchartButtonEl.style.display =\n",
              "        google.colab.kernel.accessAllowed ? 'block' : 'none';\n",
              "    })();\n",
              "  </script>\n",
              "</div>\n",
              "    </div>\n",
              "  </div>\n"
            ]
          },
          "metadata": {},
          "execution_count": 56
        }
      ]
    },
    {
      "cell_type": "markdown",
      "source": [
        "## Use Case 3: GPT For Data Wrangling"
      ],
      "metadata": {
        "id": "UtTfjzfYAVQa"
      }
    },
    {
      "cell_type": "markdown",
      "source": [
        "This section is devoted to using GPT models for data wrangling tasks in Pandas. You'll discover how AI can assist in cleaning, transforming, and enriching your data for easier analysis."
      ],
      "metadata": {
        "id": "Jm3Trxgk5SlF"
      }
    },
    {
      "cell_type": "code",
      "source": [
        "# Install Pandas AI\n",
        "# Repo: https://github.com/gventuri/pandas-ai\n",
        "!pip install pandasai"
      ],
      "metadata": {
        "id": "bL-el8lcAXbP"
      },
      "execution_count": null,
      "outputs": []
    },
    {
      "cell_type": "code",
      "source": [
        "import pandas as pd\n",
        "from pandasai import SmartDataframe\n",
        "\n",
        "# Instantiate a LLM\n",
        "from pandasai.llm import OpenAI\n",
        "llm = OpenAI(api_token = api_key)\n",
        "\n",
        "sdf = SmartDataframe(products_df, config={\"llm\": llm})"
      ],
      "metadata": {
        "id": "zbMNY6U90E2-"
      },
      "execution_count": 69,
      "outputs": []
    },
    {
      "cell_type": "markdown",
      "source": [
        "### Chat with your dataframe"
      ],
      "metadata": {
        "id": "wF7wnQvB3saM"
      }
    },
    {
      "cell_type": "code",
      "source": [
        "sdf.chat(\"Top 3 products by grand total sales\")"
      ],
      "metadata": {
        "colab": {
          "base_uri": "https://localhost:8080/",
          "height": 142
        },
        "id": "eoKd7R8k4EOe",
        "outputId": "c3d6e606-2b26-4ab3-905c-2d8cd45e0f62"
      },
      "execution_count": 80,
      "outputs": [
        {
          "output_type": "execute_result",
          "data": {
            "text/plain": [
              "  product_name  total_sales\n",
              "0           TV        76070\n",
              "1       Laptop        70954\n",
              "2        Phone        65907"
            ],
            "text/html": [
              "<div>\n",
              "<style scoped>\n",
              "    .dataframe tbody tr th:only-of-type {\n",
              "        vertical-align: middle;\n",
              "    }\n",
              "\n",
              "    .dataframe tbody tr th {\n",
              "        vertical-align: top;\n",
              "    }\n",
              "\n",
              "    .dataframe thead th {\n",
              "        text-align: right;\n",
              "    }\n",
              "</style>\n",
              "<table border=\"1\" class=\"dataframe\">\n",
              "  <thead>\n",
              "    <tr style=\"text-align: right;\">\n",
              "      <th></th>\n",
              "      <th>product_name</th>\n",
              "      <th>total_sales</th>\n",
              "    </tr>\n",
              "  </thead>\n",
              "  <tbody>\n",
              "    <tr>\n",
              "      <th>0</th>\n",
              "      <td>TV</td>\n",
              "      <td>76070</td>\n",
              "    </tr>\n",
              "    <tr>\n",
              "      <th>1</th>\n",
              "      <td>Laptop</td>\n",
              "      <td>70954</td>\n",
              "    </tr>\n",
              "    <tr>\n",
              "      <th>2</th>\n",
              "      <td>Phone</td>\n",
              "      <td>65907</td>\n",
              "    </tr>\n",
              "  </tbody>\n",
              "</table>\n",
              "</div>"
            ]
          },
          "metadata": {},
          "execution_count": 80
        }
      ]
    },
    {
      "cell_type": "markdown",
      "source": [
        "Print the code"
      ],
      "metadata": {
        "id": "nusVKlVv4ff3"
      }
    },
    {
      "cell_type": "code",
      "source": [
        "print(sdf.last_code_generated)"
      ],
      "metadata": {
        "colab": {
          "base_uri": "https://localhost:8080/"
        },
        "id": "UoL9lsmn4gtf",
        "outputId": "173916f8-4602-4ca0-fc90-0d7eddd99497"
      },
      "execution_count": 81,
      "outputs": [
        {
          "output_type": "stream",
          "name": "stdout",
          "text": [
            "df = dfs[0]\n",
            "df['total_sales'] = df['total_sales'].astype(int)\n",
            "top_products = df.groupby('product_name')['total_sales'].sum().nlargest(3).reset_index()\n",
            "result = {'type': 'dataframe', 'value': top_products}\n"
          ]
        }
      ]
    },
    {
      "cell_type": "markdown",
      "source": [
        "Manipulate the dataframe"
      ],
      "metadata": {
        "id": "Dk584Qvn4swS"
      }
    },
    {
      "cell_type": "code",
      "source": [
        "sdf = sdf.chat(\"Replace total sales for customer ID 50 with NA\")"
      ],
      "metadata": {
        "id": "g3GSbk_94sd2"
      },
      "execution_count": 82,
      "outputs": []
    },
    {
      "cell_type": "code",
      "source": [
        "sdf"
      ],
      "metadata": {
        "colab": {
          "base_uri": "https://localhost:8080/",
          "height": 419
        },
        "id": "YqxhozF0wYda",
        "outputId": "e7806746-6d5f-4f22-da5c-d11c55bb5e0c"
      },
      "execution_count": 83,
      "outputs": [
        {
          "output_type": "execute_result",
          "data": {
            "text/plain": [
              "     customer_id product_name  total_sales\n",
              "0              1       Camera  2071.531202\n",
              "1              1       Laptop  2409.043864\n",
              "2              1        Phone  2139.401815\n",
              "3              1           TV  1063.531322\n",
              "4              2       Camera  2345.252477\n",
              "..           ...          ...          ...\n",
              "181           49           TV  1652.898348\n",
              "182           50       Camera          NaN\n",
              "183           50       Laptop          NaN\n",
              "184           50        Phone          NaN\n",
              "185           50           TV          NaN\n",
              "\n",
              "[186 rows x 3 columns]"
            ],
            "text/html": [
              "<div>\n",
              "<style scoped>\n",
              "    .dataframe tbody tr th:only-of-type {\n",
              "        vertical-align: middle;\n",
              "    }\n",
              "\n",
              "    .dataframe tbody tr th {\n",
              "        vertical-align: top;\n",
              "    }\n",
              "\n",
              "    .dataframe thead th {\n",
              "        text-align: right;\n",
              "    }\n",
              "</style>\n",
              "<table border=\"1\" class=\"dataframe\">\n",
              "  <thead>\n",
              "    <tr style=\"text-align: right;\">\n",
              "      <th></th>\n",
              "      <th>customer_id</th>\n",
              "      <th>product_name</th>\n",
              "      <th>total_sales</th>\n",
              "    </tr>\n",
              "  </thead>\n",
              "  <tbody>\n",
              "    <tr>\n",
              "      <th>0</th>\n",
              "      <td>1</td>\n",
              "      <td>Camera</td>\n",
              "      <td>2071.531202</td>\n",
              "    </tr>\n",
              "    <tr>\n",
              "      <th>1</th>\n",
              "      <td>1</td>\n",
              "      <td>Laptop</td>\n",
              "      <td>2409.043864</td>\n",
              "    </tr>\n",
              "    <tr>\n",
              "      <th>2</th>\n",
              "      <td>1</td>\n",
              "      <td>Phone</td>\n",
              "      <td>2139.401815</td>\n",
              "    </tr>\n",
              "    <tr>\n",
              "      <th>3</th>\n",
              "      <td>1</td>\n",
              "      <td>TV</td>\n",
              "      <td>1063.531322</td>\n",
              "    </tr>\n",
              "    <tr>\n",
              "      <th>4</th>\n",
              "      <td>2</td>\n",
              "      <td>Camera</td>\n",
              "      <td>2345.252477</td>\n",
              "    </tr>\n",
              "    <tr>\n",
              "      <th>...</th>\n",
              "      <td>...</td>\n",
              "      <td>...</td>\n",
              "      <td>...</td>\n",
              "    </tr>\n",
              "    <tr>\n",
              "      <th>181</th>\n",
              "      <td>49</td>\n",
              "      <td>TV</td>\n",
              "      <td>1652.898348</td>\n",
              "    </tr>\n",
              "    <tr>\n",
              "      <th>182</th>\n",
              "      <td>50</td>\n",
              "      <td>Camera</td>\n",
              "      <td>NaN</td>\n",
              "    </tr>\n",
              "    <tr>\n",
              "      <th>183</th>\n",
              "      <td>50</td>\n",
              "      <td>Laptop</td>\n",
              "      <td>NaN</td>\n",
              "    </tr>\n",
              "    <tr>\n",
              "      <th>184</th>\n",
              "      <td>50</td>\n",
              "      <td>Phone</td>\n",
              "      <td>NaN</td>\n",
              "    </tr>\n",
              "    <tr>\n",
              "      <th>185</th>\n",
              "      <td>50</td>\n",
              "      <td>TV</td>\n",
              "      <td>NaN</td>\n",
              "    </tr>\n",
              "  </tbody>\n",
              "</table>\n",
              "<p>186 rows × 3 columns</p>\n",
              "</div>"
            ]
          },
          "metadata": {},
          "execution_count": 83
        }
      ]
    },
    {
      "cell_type": "markdown",
      "source": [
        "Clean data"
      ],
      "metadata": {
        "id": "qKAgJO5-5JT1"
      }
    },
    {
      "cell_type": "code",
      "source": [
        "sdf.clean_data()"
      ],
      "metadata": {
        "colab": {
          "base_uri": "https://localhost:8080/",
          "height": 419
        },
        "id": "JGZmaHdV48Ky",
        "outputId": "44f50305-3257-42a5-e0e4-0d4ed1acffc1"
      },
      "execution_count": 84,
      "outputs": [
        {
          "output_type": "execute_result",
          "data": {
            "text/plain": [
              "     customer_id product_name  total_sales\n",
              "0              1       Camera  2071.531202\n",
              "1              1       Laptop  2409.043864\n",
              "2              1        Phone  2139.401815\n",
              "3              1           TV  1063.531322\n",
              "4              2       Camera  2345.252477\n",
              "..           ...          ...          ...\n",
              "177           48           TV   444.816770\n",
              "178           49       Camera  1229.130590\n",
              "179           49       Laptop  2751.317755\n",
              "180           49        Phone  1949.990515\n",
              "181           49           TV  1652.898348\n",
              "\n",
              "[182 rows x 3 columns]"
            ],
            "text/html": [
              "<div>\n",
              "<style scoped>\n",
              "    .dataframe tbody tr th:only-of-type {\n",
              "        vertical-align: middle;\n",
              "    }\n",
              "\n",
              "    .dataframe tbody tr th {\n",
              "        vertical-align: top;\n",
              "    }\n",
              "\n",
              "    .dataframe thead th {\n",
              "        text-align: right;\n",
              "    }\n",
              "</style>\n",
              "<table border=\"1\" class=\"dataframe\">\n",
              "  <thead>\n",
              "    <tr style=\"text-align: right;\">\n",
              "      <th></th>\n",
              "      <th>customer_id</th>\n",
              "      <th>product_name</th>\n",
              "      <th>total_sales</th>\n",
              "    </tr>\n",
              "  </thead>\n",
              "  <tbody>\n",
              "    <tr>\n",
              "      <th>0</th>\n",
              "      <td>1</td>\n",
              "      <td>Camera</td>\n",
              "      <td>2071.531202</td>\n",
              "    </tr>\n",
              "    <tr>\n",
              "      <th>1</th>\n",
              "      <td>1</td>\n",
              "      <td>Laptop</td>\n",
              "      <td>2409.043864</td>\n",
              "    </tr>\n",
              "    <tr>\n",
              "      <th>2</th>\n",
              "      <td>1</td>\n",
              "      <td>Phone</td>\n",
              "      <td>2139.401815</td>\n",
              "    </tr>\n",
              "    <tr>\n",
              "      <th>3</th>\n",
              "      <td>1</td>\n",
              "      <td>TV</td>\n",
              "      <td>1063.531322</td>\n",
              "    </tr>\n",
              "    <tr>\n",
              "      <th>4</th>\n",
              "      <td>2</td>\n",
              "      <td>Camera</td>\n",
              "      <td>2345.252477</td>\n",
              "    </tr>\n",
              "    <tr>\n",
              "      <th>...</th>\n",
              "      <td>...</td>\n",
              "      <td>...</td>\n",
              "      <td>...</td>\n",
              "    </tr>\n",
              "    <tr>\n",
              "      <th>177</th>\n",
              "      <td>48</td>\n",
              "      <td>TV</td>\n",
              "      <td>444.816770</td>\n",
              "    </tr>\n",
              "    <tr>\n",
              "      <th>178</th>\n",
              "      <td>49</td>\n",
              "      <td>Camera</td>\n",
              "      <td>1229.130590</td>\n",
              "    </tr>\n",
              "    <tr>\n",
              "      <th>179</th>\n",
              "      <td>49</td>\n",
              "      <td>Laptop</td>\n",
              "      <td>2751.317755</td>\n",
              "    </tr>\n",
              "    <tr>\n",
              "      <th>180</th>\n",
              "      <td>49</td>\n",
              "      <td>Phone</td>\n",
              "      <td>1949.990515</td>\n",
              "    </tr>\n",
              "    <tr>\n",
              "      <th>181</th>\n",
              "      <td>49</td>\n",
              "      <td>TV</td>\n",
              "      <td>1652.898348</td>\n",
              "    </tr>\n",
              "  </tbody>\n",
              "</table>\n",
              "<p>182 rows × 3 columns</p>\n",
              "</div>"
            ]
          },
          "metadata": {},
          "execution_count": 84
        }
      ]
    },
    {
      "cell_type": "code",
      "source": [
        "print(sdf.last_code_generated)"
      ],
      "metadata": {
        "colab": {
          "base_uri": "https://localhost:8080/"
        },
        "id": "RXvzsMzC5js6",
        "outputId": "99cfaaa2-212c-49d2-c1a6-e1d812d464ee"
      },
      "execution_count": 85,
      "outputs": [
        {
          "output_type": "stream",
          "name": "stdout",
          "text": [
            "df_cleaned = dfs[0].copy()\n",
            "df_cleaned.dropna(inplace=True)\n",
            "df_cleaned.drop_duplicates(inplace=True)\n",
            "df_cleaned['total_sales'] = pd.to_numeric(df_cleaned['total_sales'])\n",
            "result = {'type': 'dataframe', 'value': df_cleaned}\n"
          ]
        }
      ]
    },
    {
      "cell_type": "markdown",
      "source": [
        "Missing value imputation"
      ],
      "metadata": {
        "id": "D_rb9wO1503-"
      }
    },
    {
      "cell_type": "code",
      "source": [
        "sdf.chat(\"Impute the missing values for total sales using the average for each product name\")"
      ],
      "metadata": {
        "colab": {
          "base_uri": "https://localhost:8080/",
          "height": 419
        },
        "id": "GEYdLck45wH9",
        "outputId": "68084536-0a53-4ad9-a50c-e61a2c2a31d3"
      },
      "execution_count": 86,
      "outputs": [
        {
          "output_type": "execute_result",
          "data": {
            "text/plain": [
              "     customer_id product_name  total_sales\n",
              "0              1       Camera  2071.531202\n",
              "1              1       Laptop  2409.043864\n",
              "2              1        Phone  2139.401815\n",
              "3              1           TV  1063.531322\n",
              "4              2       Camera  2345.252477\n",
              "..           ...          ...          ...\n",
              "181           49           TV  1652.898348\n",
              "182           50       Camera  1250.185852\n",
              "183           50       Laptop  1531.079554\n",
              "184           50        Phone  1417.009450\n",
              "185           50           TV  1586.066352\n",
              "\n",
              "[186 rows x 3 columns]"
            ],
            "text/html": [
              "<div>\n",
              "<style scoped>\n",
              "    .dataframe tbody tr th:only-of-type {\n",
              "        vertical-align: middle;\n",
              "    }\n",
              "\n",
              "    .dataframe tbody tr th {\n",
              "        vertical-align: top;\n",
              "    }\n",
              "\n",
              "    .dataframe thead th {\n",
              "        text-align: right;\n",
              "    }\n",
              "</style>\n",
              "<table border=\"1\" class=\"dataframe\">\n",
              "  <thead>\n",
              "    <tr style=\"text-align: right;\">\n",
              "      <th></th>\n",
              "      <th>customer_id</th>\n",
              "      <th>product_name</th>\n",
              "      <th>total_sales</th>\n",
              "    </tr>\n",
              "  </thead>\n",
              "  <tbody>\n",
              "    <tr>\n",
              "      <th>0</th>\n",
              "      <td>1</td>\n",
              "      <td>Camera</td>\n",
              "      <td>2071.531202</td>\n",
              "    </tr>\n",
              "    <tr>\n",
              "      <th>1</th>\n",
              "      <td>1</td>\n",
              "      <td>Laptop</td>\n",
              "      <td>2409.043864</td>\n",
              "    </tr>\n",
              "    <tr>\n",
              "      <th>2</th>\n",
              "      <td>1</td>\n",
              "      <td>Phone</td>\n",
              "      <td>2139.401815</td>\n",
              "    </tr>\n",
              "    <tr>\n",
              "      <th>3</th>\n",
              "      <td>1</td>\n",
              "      <td>TV</td>\n",
              "      <td>1063.531322</td>\n",
              "    </tr>\n",
              "    <tr>\n",
              "      <th>4</th>\n",
              "      <td>2</td>\n",
              "      <td>Camera</td>\n",
              "      <td>2345.252477</td>\n",
              "    </tr>\n",
              "    <tr>\n",
              "      <th>...</th>\n",
              "      <td>...</td>\n",
              "      <td>...</td>\n",
              "      <td>...</td>\n",
              "    </tr>\n",
              "    <tr>\n",
              "      <th>181</th>\n",
              "      <td>49</td>\n",
              "      <td>TV</td>\n",
              "      <td>1652.898348</td>\n",
              "    </tr>\n",
              "    <tr>\n",
              "      <th>182</th>\n",
              "      <td>50</td>\n",
              "      <td>Camera</td>\n",
              "      <td>1250.185852</td>\n",
              "    </tr>\n",
              "    <tr>\n",
              "      <th>183</th>\n",
              "      <td>50</td>\n",
              "      <td>Laptop</td>\n",
              "      <td>1531.079554</td>\n",
              "    </tr>\n",
              "    <tr>\n",
              "      <th>184</th>\n",
              "      <td>50</td>\n",
              "      <td>Phone</td>\n",
              "      <td>1417.009450</td>\n",
              "    </tr>\n",
              "    <tr>\n",
              "      <th>185</th>\n",
              "      <td>50</td>\n",
              "      <td>TV</td>\n",
              "      <td>1586.066352</td>\n",
              "    </tr>\n",
              "  </tbody>\n",
              "</table>\n",
              "<p>186 rows × 3 columns</p>\n",
              "</div>"
            ]
          },
          "metadata": {},
          "execution_count": 86
        }
      ]
    },
    {
      "cell_type": "code",
      "source": [
        "print(sdf.last_code_generated)"
      ],
      "metadata": {
        "colab": {
          "base_uri": "https://localhost:8080/"
        },
        "id": "oHZbGXRz6XSg",
        "outputId": "58cd8cf3-49b6-493d-ae05-cd3060a52d16"
      },
      "execution_count": 87,
      "outputs": [
        {
          "output_type": "stream",
          "name": "stdout",
          "text": [
            "for df in dfs:\n",
            "    df['total_sales'] = df.groupby('product_name')['total_sales'].transform(lambda x: x.fillna(x.mean()))\n",
            "result = {'type': 'dataframe', 'value': dfs[0]}\n"
          ]
        }
      ]
    },
    {
      "cell_type": "markdown",
      "source": [
        "## Use Case 4: Create visuals"
      ],
      "metadata": {
        "id": "1Jcw9kqCAeqD"
      }
    },
    {
      "cell_type": "markdown",
      "source": [
        "### With Pandas AI:"
      ],
      "metadata": {
        "id": "lk9RD9T01N56"
      }
    },
    {
      "cell_type": "code",
      "source": [
        "sdf.chat(\"Plot a barchart of grand total sales by product\")"
      ],
      "metadata": {
        "colab": {
          "base_uri": "https://localhost:8080/",
          "height": 607
        },
        "id": "Jbcm5qXC6n3m",
        "outputId": "3c726b4e-a270-43ca-d874-67def08626b6"
      },
      "execution_count": 93,
      "outputs": [
        {
          "output_type": "display_data",
          "data": {
            "text/plain": [
              "<Figure size 1000x600 with 1 Axes>"
            ],
            "image/png": "[encoded data removed]"
          },
          "metadata": {}
        }
      ]
    },
    {
      "cell_type": "markdown",
      "source": [
        "### Custom implementation"
      ],
      "metadata": {
        "id": "sOiKH09g1NGi"
      }
    },
    {
      "cell_type": "code",
      "source": [
        "def visuals_gpt(natural_language_query, dataframe):\n",
        "\n",
        "  df = dataframe\n",
        "  system_prompt = \"\"\"\n",
        "\n",
        "  ROLE: You are a Python code generator.\n",
        "\n",
        "  TASK: I'll give you a pandas dataframe and a description about a visualization I need for this data.\n",
        "  You will take my description and translate it into functional Python code that works with the dataset I provided you.\n",
        "\n",
        "  CONTEXT: ## My dataframe is called `df`. Here are the first 30 rows indicated in triple backticks:\n",
        "  ```\n",
        "  {}\n",
        "  ```\n",
        "\n",
        "  OUTPUT: Return ONLY the Python code in plain text, no markdown. Skip pre- and post text.\n",
        "\n",
        "  \"\"\".format(dataframe.head(30))\n",
        "\n",
        "  response = client.chat.completions.create(\n",
        "  model=\"gpt-3.5-turbo-1106\",\n",
        "  response_format={ \"type\": \"json_object\" },\n",
        "  messages=[\n",
        "    {\"role\": \"system\", \"content\": system_prompt + \"Respond in JSON. Key name 'python_code\"},\n",
        "    {\"role\": \"user\", \"content\": str(natural_language_query)}\n",
        "  ],\n",
        "  temperature=0.0\n",
        "  )\n",
        "  script = json.loads(response.choices[0].message.content)['python_code']\n",
        "  print(script)\n",
        "  visual = exec(script)\n",
        "  return(visual)"
      ],
      "metadata": {
        "id": "xOK0y1tXA3GX"
      },
      "execution_count": 108,
      "outputs": []
    },
    {
      "cell_type": "markdown",
      "source": [
        "**Question:**\n",
        "<blockquote>total sales by product as barchart, x-labels rotated 45 degrees, different colors by product name</blockquote>"
      ],
      "metadata": {
        "id": "LrwpCJoJ7Ylp"
      }
    },
    {
      "cell_type": "code",
      "source": [
        "visuals_gpt(input(), products_df)"
      ],
      "metadata": {
        "colab": {
          "base_uri": "https://localhost:8080/",
          "height": 688
        },
        "id": "F4X5Lr2ZCYBQ",
        "outputId": "d9be40ee-f7f0-482d-e90c-cc5ca0bebcca"
      },
      "execution_count": 109,
      "outputs": [
        {
          "output_type": "stream",
          "name": "stdout",
          "text": [
            "total sales by product as barchart, x-labels rotated 45 degrees, different colors by product name\n",
            "import matplotlib.pyplot as plt\n",
            "\n",
            "# Grouping the data by product_name and summing the total_sales\n",
            "product_sales = df.groupby('product_name')['total_sales'].sum()\n",
            "\n",
            "# Creating a bar chart\n",
            "plt.bar(product_sales.index, product_sales.values, color=['blue', 'green', 'orange', 'red'])\n",
            "plt.xlabel('Product Name')\n",
            "plt.ylabel('Total Sales')\n",
            "plt.xticks(rotation=45)\n",
            "plt.show()\n"
          ]
        },
        {
          "output_type": "display_data",
          "data": {
            "text/plain": [
              "<Figure size 640x480 with 1 Axes>"
            ],
            "image/png": "[encoded data removed]"
          },
          "metadata": {}
        }
      ]
    },
    {
      "cell_type": "markdown",
      "source": [
        "Advanced plotting"
      ],
      "metadata": {
        "id": "J2hVoF5k7mSp"
      }
    },
    {
      "cell_type": "markdown",
      "source": [
        "**Question:**\n",
        "<blockquote>Barcharts sales by customer ID for the top 5 customers, grouped by product type</blockquote>"
      ],
      "metadata": {
        "id": "GXbIEiSi7qmx"
      }
    },
    {
      "cell_type": "code",
      "source": [
        "visuals_gpt(input(), products_df)"
      ],
      "metadata": {
        "colab": {
          "base_uri": "https://localhost:8080/",
          "height": 891
        },
        "id": "5DmrwBPzJtge",
        "outputId": "a5f8cb1f-4b45-405e-be19-3c035b47a673"
      },
      "execution_count": 110,
      "outputs": [
        {
          "output_type": "stream",
          "name": "stdout",
          "text": [
            "Barcharts sales by customer ID for the top 5 customers, grouped by product type\n",
            "import pandas as pd\n",
            "import matplotlib.pyplot as plt\n",
            "\n",
            "# Grouping the data by customer_id and product_name, then summing the total_sales\n",
            "grouped_df = df.groupby(['customer_id', 'product_name'])['total_sales'].sum().unstack()\n",
            "\n",
            "# Selecting the top 5 customers based on total sales\n",
            "top_5_customers = df.groupby('customer_id')['total_sales'].sum().nlargest(5).index\n",
            "\n",
            "# Filtering the grouped data for the top 5 customers\n",
            "top_5_grouped_df = grouped_df.loc[top_5_customers]\n",
            "\n",
            "# Plotting the bar chart\n",
            "top_5_grouped_df.plot(kind='bar', stacked=True, figsize=(10, 6))\n",
            "plt.title('Sales by Customer ID for Top 5 Customers, Grouped by Product Type')\n",
            "plt.xlabel('Customer ID')\n",
            "plt.ylabel('Total Sales')\n",
            "plt.show()\n"
          ]
        },
        {
          "output_type": "display_data",
          "data": {
            "text/plain": [
              "<Figure size 1000x600 with 1 Axes>"
            ],
            "image/png": "[encoded data removed]"
          },
          "metadata": {}
        }
      ]
    },
    {
      "cell_type": "markdown",
      "source": [
        "**Question:**\n",
        "<blockquote>Draw a Scatterplot. x-axis = amount of products sold, y-axis = grand total sales per product. One Point= product type</blockquote>"
      ],
      "metadata": {
        "id": "BG8jqMqo7-zl"
      }
    },
    {
      "cell_type": "code",
      "source": [
        "visuals_gpt(input(), products_df)"
      ],
      "metadata": {
        "colab": {
          "base_uri": "https://localhost:8080/",
          "height": 921
        },
        "id": "BfH1dw4A8WbY",
        "outputId": "9394e9a3-dde8-4b9c-c438-8f7a03181b71"
      },
      "execution_count": 114,
      "outputs": [
        {
          "output_type": "stream",
          "name": "stdout",
          "text": [
            "Draw a Scatterplot. x-axis = amount of products sold, y-axis = grand total sales per product. One Point= product type\n",
            "import matplotlib.pyplot as plt\n",
            "\n",
            "# Grouping the data by product_name and calculating the total sales and count\n",
            "product_group = df.groupby('product_name').agg({'total_sales': 'sum', 'customer_id': 'count'})\n",
            "\n",
            "# Creating the scatter plot\n",
            "plt.figure(figsize=(10, 6))\n",
            "plt.scatter(product_group['customer_id'], product_group['total_sales'], s=100, alpha=0.5)\n",
            "\n",
            "# Adding labels and title\n",
            "plt.xlabel('Amount of Products Sold')\n",
            "plt.ylabel('Grand Total Sales per Product')\n",
            "plt.title('Scatterplot of Total Sales vs. Products Sold')\n",
            "\n",
            "# Adding annotations for each point\n",
            "for i, product in enumerate(product_group.index):\n",
            "    plt.annotate(product, (product_group['customer_id'].iloc[i], product_group['total_sales'].iloc[i]), textcoords='offset points', xytext=(5,5), ha='center')\n",
            "\n",
            "# Displaying the plot\n",
            "plt.show()\n"
          ]
        },
        {
          "output_type": "display_data",
          "data": {
            "text/plain": [
              "<Figure size 1000x600 with 1 Axes>"
            ],
            "image/png": "[encoded data removed]"
          },
          "metadata": {}
        }
      ]
    },
    {
      "cell_type": "markdown",
      "source": [
        "## Use Case 5 - Create an EDA"
      ],
      "metadata": {
        "id": "MfXpvL-HNaGW"
      }
    },
    {
      "cell_type": "code",
      "source": [
        "def eda_gpt(dataframe, target_col_name):\n",
        "\n",
        "  df = dataframe\n",
        "  system_prompt = f\"\"\"\n",
        "\n",
        "  ROLE: You are a Python code generator.\n",
        "\n",
        "  TASK: Please provide a detailed analysis of this dataframe, including summary statistics for each column, relationships with the target column, and suggestions for visualizations to better understand the data.\n",
        "\n",
        "  CONTEXT: ## My dataframe is called `df`. The target column is {target_col_name}.  Here are the first 30 rows indicated in triple backticks:\n",
        "  ```\n",
        "  {dataframe.head(30)}\n",
        "  ```\n",
        "\n",
        "  OUTPUT: Return ONLY the Python code in plain text, no markdown. Skip pre- and post text.\n",
        "\n",
        "  \"\"\"\n",
        "\n",
        "  response = client.chat.completions.create(\n",
        "  model=\"gpt-4-1106-preview\",\n",
        "  response_format={ \"type\": \"json_object\" },\n",
        "  messages=[\n",
        "    {\"role\": \"system\", \"content\": system_prompt + \"Respond in JSON. Key name 'python_code\"},\n",
        "  ],\n",
        "  temperature=0.0\n",
        "  )\n",
        "  script = json.loads(response.choices[0].message.content)['python_code']\n",
        "  print(script)\n",
        "  eda = exec(script)\n",
        "  return(eda)"
      ],
      "metadata": {
        "id": "5cVFHWex9mmJ"
      },
      "execution_count": 117,
      "outputs": []
    },
    {
      "cell_type": "code",
      "source": [
        "eda_gpt(products_df, \"product_name\")"
      ],
      "metadata": {
        "colab": {
          "base_uri": "https://localhost:8080/",
          "height": 1000
        },
        "id": "yYCTi6N4OXsG",
        "outputId": "359f9e3d-b1a9-4221-922f-6b7bb490d7d4"
      },
      "execution_count": 119,
      "outputs": [
        {
          "output_type": "stream",
          "name": "stdout",
          "text": [
            "import pandas as pd\n",
            "import seaborn as sns\n",
            "import matplotlib.pyplot as plt\n",
            "\n",
            "# Assuming df is already loaded as a pandas DataFrame\n",
            "\n",
            "# Summary statistics for each column\n",
            "summary_stats = df.describe(include='all')\n",
            "\n",
            "# Frequency of each product\n",
            "product_counts = df['product_name'].value_counts()\n",
            "\n",
            "# Total sales statistics grouped by product\n",
            "sales_by_product = df.groupby('product_name')['total_sales'].describe()\n",
            "\n",
            "# Relationships with the target column (product_name)\n",
            "# We can use groupby to see how total_sales varies with different products\n",
            "sales_relation = df.groupby('product_name')['total_sales'].mean()\n",
            "\n",
            "# Visualizations\n",
            "# Bar plot for product counts\n",
            "sns.countplot(data=df, x='product_name')\n",
            "plt.title('Product Frequency')\n",
            "plt.show()\n",
            "\n",
            "# Box plot for total_sales by product\n",
            "sns.boxplot(data=df, x='product_name', y='total_sales')\n",
            "plt.title('Total Sales by Product')\n",
            "plt.show()\n",
            "\n",
            "# Pairplot to explore relationships between numerical variables\n",
            "sns.pairplot(df, hue='product_name')\n",
            "plt.show()\n",
            "\n",
            "# Heatmap to show correlation between numerical variables\n",
            "sns.heatmap(df.corr(), annot=True, fmt='.2f')\n",
            "plt.show()\n",
            "\n",
            "# Suggestions for further analysis\n",
            "# 1. Investigate if there are any outliers in total_sales for each product.\n",
            "# 2. Perform a time series analysis if there is a date column available.\n",
            "# 3. Conduct a customer segmentation analysis to see if certain customer groups prefer different products.\n",
            "# 4. Use ANOVA or similar statistical tests to determine if the differences in total_sales among products are statistically significant.\n",
            "\n"
          ]
        },
        {
          "output_type": "display_data",
          "data": {
            "text/plain": [
              "<Figure size 640x480 with 1 Axes>"
            ],
            "image/png": "[encoded data removed]"
          },
          "metadata": {}
        },
        {
          "output_type": "display_data",
          "data": {
            "text/plain": [
              "<Figure size 640x480 with 1 Axes>"
            ],
            "image/png": "[encoded data removed]"
          },
          "metadata": {}
        },
        {
          "output_type": "display_data",
          "data": {
            "text/plain": [
              "<Figure size 611.111x500 with 6 Axes>"
            ],
            "image/png": "[encoded data removed]"
          },
          "metadata": {}
        },
        {
          "output_type": "stream",
          "name": "stderr",
          "text": [
            "<string>:36: FutureWarning: The default value of numeric_only in DataFrame.corr is deprecated. In a future version, it will default to False. Select only valid columns or specify the value of numeric_only to silence this warning.\n"
          ]
        },
        {
          "output_type": "display_data",
          "data": {
            "text/plain": [
              "<Figure size 640x480 with 2 Axes>"
            ],
            "image/png": "[encoded data removed]"
          },
          "metadata": {}
        }
      ]
    },
    {
      "cell_type": "markdown",
      "source": [
        "## Limitations"
      ],
      "metadata": {
        "id": "eL4jyzS56mL5"
      }
    },
    {
      "cell_type": "markdown",
      "source": [
        "* Always check your results!\n",
        "* Remember: This is an augmented scenario!\n",
        "* You're in charge."
      ],
      "metadata": {
        "id": "-gjOHl_T6oS6"
      }
    }
  ]
}